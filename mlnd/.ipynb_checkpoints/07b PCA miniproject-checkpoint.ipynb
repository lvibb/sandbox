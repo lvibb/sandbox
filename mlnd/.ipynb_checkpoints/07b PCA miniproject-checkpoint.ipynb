{
 "cells": [
  {
   "cell_type": "markdown",
   "metadata": {},
   "source": [
    "# Connect Intensive - Machine Learning Nanodegree\n",
    "# Lesson 07b:  PCA Mini Project\n",
    "\n",
    "## Objectives\n",
    "  - Perform Principal Component Analysis (PCA) on a large set of features to explain as much of the variance as possible in the data using a smaller set of features (reducing the dimensionality).\n",
    "  - Recognize differences between `train_test_split()` and `StratifiedShuffleSplit()` when creating training and testing sets.\n",
    "  - Introduce the `class_weight` parameter for `SVC()`, to see how correctly predicting targets from a smaller class size can be weighted more heavily.\n",
    "  - Visualize the eigenfaces (orthonormal basis of components) that result from PCA.\n",
    "  \n",
    "  \n",
    "## Prerequisites\n",
    "  - You should have the following python packages installed:\n",
    "    - [matplotlib](http://matplotlib.org/index.html)\n",
    "    - [numpy](http://www.scipy.org/scipylib/download.html)\n",
    "    - [sklearn](http://scikit-learn.org/stable/install.html)\n",
    "  - For context, you should also have watched Sebastian & Katie's Udacity video lectures on PCA prior to working through this notebook.\n",
    "    \n",
    "## Acknowledgements\n",
    "  > The content of this notebook builds on the code from [pca/eigenfaces.py](https://github.com/udacity/ud120-projects/blob/master/pca/eigenfaces.py) from the [**ud120-projects**](https://github.com/udacity/ud120-projects) repo, and derives from [an eigenfaces/SVM example in the sklearn documentation](http://scikit-learn.org/0.18/auto_examples/applications/face_recognition.html)\n",
    "  \n"
   ]
  },
  {
   "cell_type": "markdown",
   "metadata": {},
   "source": [
    "## PCA Mini-Project\n",
    "\n",
    "This Jupyter Notebook is intended to provide a friendly guide through the \"PCA Mini-Project\" lesson... but if you're feeling pretty confident about your Python skills, consider going off-script! Try to work through the lesson on your own -- you may encounter some snags, and you can always refer back to this Notebook if you need a little push forward.\n",
    "\n",
    "Hopefully you have watched Sebastian and Katie's video lectures on Principal Component Analysis -- if you haven't, I recommend catching up on those video lectures before tackling this project. That way, you will get the context of how and why we are using PCA to reduce the dimensionality of our dataset."
   ]
  },
  {
   "cell_type": "markdown",
   "metadata": {},
   "source": [
    "## Labeled Faces in the Wild\n",
    "\n",
    "The dataset for this mini-project comes from [\"Labeled Faces in the Wild\"](http://vis-www.cs.umass.edu/lfw/) or LFW, a database of more than 13,000 face photographs designed for studying the problem of unconstrained face recognition. We are going to use the **funneled** dataset, which comes from the following paper:\n",
    "\n",
    "Gary B. Huang, Vidit Jain, and [Erik Learned-Miller](http://people.cs.umass.edu/~elm/), [**Unsupervised Joint Alignment of Complex Images**](http://vis-www.cs.umass.edu/papers/iccv07alignment.pdf). *International Conference on Computer Vision (ICCV), 2007.*\n",
    "\n",
    "If you're curious, section 2 of the paper describes the preprocessing steps of [congealing](http://vis-www.cs.umass.edu/congeal.html) and funneling to align images in the dataset.\n",
    "\n",
    "The original source of this PCA demo comes from the [scikit-learn documentation](http://scikit-learn.org/0.18/auto_examples/applications/face_recognition.html).\n",
    "\n",
    "**Run** the cell below to import useful libraries and modules for this Jupyter notebook. We will use quite a few different functions from `sklearn` -- some we've seen before and others that are new."
   ]
  },
  {
   "cell_type": "code",
   "execution_count": 1,
   "metadata": {},
   "outputs": [],
   "source": [
    "%matplotlib inline\n",
    "\n",
    "from time import time\n",
    "import logging\n",
    "import numpy as np\n",
    "import matplotlib.pyplot as plt\n",
    "\n",
    "from sklearn.model_selection import train_test_split\n",
    "from sklearn.model_selection import StratifiedShuffleSplit\n",
    "from sklearn.model_selection import GridSearchCV\n",
    "from sklearn.datasets import fetch_lfw_people\n",
    "from sklearn.metrics import classification_report\n",
    "from sklearn.metrics import confusion_matrix\n",
    "from sklearn.decomposition import PCA\n",
    "from sklearn.svm import SVC\n",
    "\n",
    "# Display progress logs on stdout\n",
    "# (useful to monitor progress while downloading LFW data)\n",
    "logging.basicConfig(level=logging.INFO, format='%(asctime)s %(message)s')"
   ]
  },
  {
   "cell_type": "markdown",
   "metadata": {},
   "source": [
    "**Run** the cell below to download the data using [the `sklearn` function `fetch_lfw_people()`](http://scikit-learn.org/stable/modules/generated/sklearn.datasets.fetch_lfw_people.html). The LFW data is ~200MB, so the download may take a while. The data will be loaded into the data dictionary `lfw_people`. The dictionary contains several items:\n",
    "  - `lfw_people.DESCR`: A string -- a short description of the data dictionary.\n",
    "  - `lfw_people.data`: A 2-dimensional numpy array (`dtype=float32`) with shape `(n_samples, n_features)`\n",
    "    - Each entry in the array is a value ranging from 0.0 to 255.0, denoting the 8-bit [grayscale](https://en.wikipedia.org/wiki/Grayscale) value of each pixel.\n",
    "    - `n_samples` is the total number of images, the instances/inputs in the dataset.\n",
    "    - `n_features` is the number of pixels per image, the features of the dataset.\n",
    "  - `lfw_people.images`: A 3-dimensional numpy array (`dtype=float32`) with shape `(n_samples, height, width)`.\n",
    "    - `images` is just `data` reshaped, so that `height` $\\times$ `width` = `n_features`\n",
    "  - `lfw_people.target` : A 1-dimensional numpy array (`dtype=int64`) of length `n_samples`, the labels of each image\n",
    "  - `lfw_people.target_names`: A 1-dimensional numpy array of length `n_classes`\n",
    "  \n",
    "**Notes:** Sometimes [the pillow module](https://python-pillow.org/) (which is being used in this example) can cause trouble with this notebook. If you get an error related to the `fetch_lfw_people()` command, try the following:\n",
    "\n",
    "``pip install --upgrade PILLOW``\n",
    "\n",
    "If you run into a different error, note that there are changes in one of the parameters for the SVC function called on line 94 of pca/eigenfaces.py. For the `class_weight` parameter, the argument string \"auto\" is a valid value for sklearn version 0.16 and prior, but will be depreciated by 0.19. If you are running sklearn version 0.17 or later, the expected argument string should be \"balanced\". If you get an error or warning while running the [**ud120-projects**](https://github.com/udacity/ud120-projects) code in [pca/eigenfaces.py](https://github.com/udacity/ud120-projects/blob/master/pca/eigenfaces.py), make sure that you have the correct argument on line 98 of that file, that matches your installed version of sklearn."
   ]
  },
  {
   "cell_type": "code",
   "execution_count": 2,
   "metadata": {},
   "outputs": [],
   "source": [
    "# Download the data, if not already on disk, and load it as numpy arrays\n",
    "lfw_people = fetch_lfw_people(min_faces_per_person=70, resize=0.4)"
   ]
  },
  {
   "cell_type": "code",
   "execution_count": 3,
   "metadata": {},
   "outputs": [
    {
     "data": {
      "text/plain": [
       "\"import pickle\\nwith open('./pca/lfw_people.pickle', 'rb') as handle:\\n    lfw_people = pickle.load(handle)\""
      ]
     },
     "execution_count": 3,
     "metadata": {},
     "output_type": "execute_result"
    }
   ],
   "source": [
    "# Or you can use the pickled file included in the folder with this notebook by uncommenting the next few lines\n",
    "'''import pickle\n",
    "with open('./pca/lfw_people.pickle', 'rb') as handle:\n",
    "    lfw_people = pickle.load(handle)'''"
   ]
  },
  {
   "cell_type": "markdown",
   "metadata": {},
   "source": [
    "Above, in the call to `fetch_lfw_people()`, we set the parameter `min_faces_per_person` to 70. This parameter ensures that the extracted dataset will only retain pictures of people that have at least 70 different pictures. The `resize` parameter of 0.4 scales each image to 40% of its original size, so that the dataset takes up less working memory.\n",
    "\n",
    "**Run** the cell below to see the names of the people in the `lfw_people` dataset, with their corresponding target IDs."
   ]
  },
  {
   "cell_type": "code",
   "execution_count": 4,
   "metadata": {},
   "outputs": [
    {
     "name": "stdout",
     "output_type": "stream",
     "text": [
      "0: Ariel Sharon\n",
      "1: Colin Powell\n",
      "2: Donald Rumsfeld\n",
      "3: George W Bush\n",
      "4: Gerhard Schroeder\n",
      "5: Hugo Chavez\n",
      "6: Tony Blair\n"
     ]
    }
   ],
   "source": [
    "# Print the indices and names of the people in the lfw_people dataset\n",
    "for idx, name in enumerate(lfw_people.target_names):\n",
    "    print(\"{}: {}\".format(idx,name))"
   ]
  },
  {
   "cell_type": "markdown",
   "metadata": {},
   "source": [
    "Let's continue exploring the `lfw_people` data dictionary! **Run** the cell below to extract the shape information (number of samples, number of features, image height and width) from `lfw_people.images` and `lfw_people.data`. You will see a summary of the dataset: the numbers of samples (images), features (pixels), and classes (targets). You will also see the number of images per target in the dataset -- note that we have many more images of certain targets!"
   ]
  },
  {
   "cell_type": "code",
   "execution_count": 5,
   "metadata": {},
   "outputs": [
    {
     "name": "stdout",
     "output_type": "stream",
     "text": [
      "Total dataset size:\n",
      "  n_samples  : 1288\n",
      "  n_features : 1850\n",
      "  n_classes  :    7\n",
      "\n",
      "Images per Target:\n",
      "  Ariel Sharon      :  77 images\n",
      "  Colin Powell      : 236 images\n",
      "  Donald Rumsfeld   : 121 images\n",
      "  George W Bush     : 530 images\n",
      "  Gerhard Schroeder : 109 images\n",
      "  Hugo Chavez       :  71 images\n",
      "  Tony Blair        : 144 images\n"
     ]
    }
   ],
   "source": [
    "# introspect the images arrays to find the shapes (for plotting)\n",
    "n_samples, h, w = lfw_people.images.shape\n",
    "\n",
    "# for machine learning we use the 2-dimensional data directly\n",
    "# (relative pixel positions info will be ignored by this model)\n",
    "X = lfw_people.data\n",
    "n_features = X.shape[1]\n",
    "\n",
    "# the label to predict is the target ID of the person\n",
    "y = lfw_people.target\n",
    "target_names = lfw_people.target_names\n",
    "n_classes = target_names.shape[0]\n",
    "\n",
    "# print a summary of the total dataset size\n",
    "print(\"Total dataset size:\")\n",
    "print(\"  n_samples  : {:>4}\".format(n_samples))\n",
    "print(\"  n_features : {:>4}\".format(n_features))\n",
    "print(\"  n_classes  : {:>4}\\n\".format(n_classes))\n",
    "\n",
    "# print the number of images for each target in the dataset\n",
    "print(\"Images per Target:\")\n",
    "for idx, name in enumerate(lfw_people.target_names):\n",
    "    print(\"  {:<18}: {:>3} images\".format(name,np.sum(lfw_people.target == idx)))"
   ]
  },
  {
   "cell_type": "markdown",
   "metadata": {},
   "source": [
    "**Run** the cell below to split the data into training and testing sets. Note that we are creating two different training and testing sets, one using the function [`train_test_split()`](http://scikit-learn.org/stable/modules/generated/sklearn.model_selection.train_test_split.html) and the other using  [`StratifiedShuffleSplit()`](http://scikit-learn.org/stable/modules/generated/sklearn.model_selection.StratifiedShuffleSplit.html). When we use `train_test_split`, we do a simple random sampling, so there is no guarantee that our training and testing sets will have the same proportion of each target or class. In problems where there is significant imbalance in the class distributions (i.e., some classes occur less frequently than other), we can use `StratifiedShuffleSplit` to ensure that the samples are present in the same proportions in the training and testing sets as they are in the data available to us.\n",
    "\n",
    "The last part of the output of this cell checks to see how evenly `train_test_split()` partitions the data between training and testing set for each target as compared to using `StratifiedShuffleSplit()`."
   ]
  },
  {
   "cell_type": "code",
   "execution_count": 6,
   "metadata": {},
   "outputs": [
    {
     "name": "stdout",
     "output_type": "stream",
     "text": [
      "train_test_split() results:\n",
      "                       train    test\n",
      "  Ariel Sharon      :    6.6%    4.0%\n",
      "  Colin Powell      :   18.2%   18.6%\n",
      "  Donald Rumsfeld   :    9.7%    8.4%\n",
      "  George W Bush     :   39.8%   45.3%\n",
      "  Gerhard Schroeder :    8.7%    7.8%\n",
      "  Hugo Chavez       :    5.8%    4.7%\n",
      "  Tony Blair        :   11.2%   11.2%\n",
      "\n",
      "StratifiedShuffleSplit() comparison:\n",
      "                       train    test\n",
      "  Ariel Sharon      :    6.0%    5.9%\n",
      "  Colin Powell      :   18.3%   18.3%\n",
      "  Donald Rumsfeld   :    9.4%    9.3%\n",
      "  George W Bush     :   41.1%   41.3%\n",
      "  Gerhard Schroeder :    8.5%    8.4%\n",
      "  Hugo Chavez       :    5.5%    5.6%\n",
      "  Tony Blair        :   11.2%   11.2%\n"
     ]
    }
   ],
   "source": [
    "# Split into a training and testing set using train_test_split\n",
    "X_train, X_test, y_train, y_test = train_test_split(X, y, test_size=0.25, random_state=42)\n",
    "\n",
    "# Summarize the proportions of each label in the training and testing sets\n",
    "print(\"train_test_split() results:\")\n",
    "print(\"{:>28}{:>8}\".format(\"train\",\"test\"))\n",
    "for idx, name in enumerate(lfw_people.target_names):\n",
    "    print(\"  {:<18}: {:6.1f}% {:6.1f}%\"\\\n",
    "          .format(name,\\\n",
    "                  np.sum(y_train == idx) * 100.0 / len(y_train),\\\n",
    "                  np.sum(y_test == idx) * 100.0 / len(y_test)))\n",
    "    \n",
    "# Compare to training and testing set using StratifiedShuffleSplit()\n",
    "sss = StratifiedShuffleSplit(n_splits=1, test_size=0.25, random_state=42)\n",
    "train_index_sss, test_index_sss = sss.split(X, y).__next__()\n",
    "X_train_sss, X_test_sss = X[train_index_sss], X[test_index_sss]\n",
    "y_train_sss, y_test_sss = y[train_index_sss], y[test_index_sss]\n",
    "\n",
    "# Summarize the proportions of each label in the training and testing sets\n",
    "print(\"\\nStratifiedShuffleSplit() comparison:\")\n",
    "print(\"{:>28}{:>8}\".format(\"train\",\"test\"))\n",
    "for idx, name in enumerate(lfw_people.target_names):\n",
    "    print(\"  {:<18}: {:6.1f}% {:6.1f}%\"\\\n",
    "          .format(name,\\\n",
    "                  np.sum(y_train_sss == idx) * 100.0 / len(y_train_sss),\\\n",
    "                  np.sum(y_test_sss == idx) * 100.0 / len(y_test_sss)))"
   ]
  },
  {
   "cell_type": "markdown",
   "metadata": {},
   "source": [
    "Looking at the results of `train_test_split()`, we see that sometimes a label is slightly over-represented in the training set (*e.g.* for Ariel Sharon or Donald Rumsfeld). In contrast, the `StratifiedShuffleSplit()` method aims to match the representation of each label in the training and testing set as closely as possible. From this we see that `train_test_split` produced training and testing sets that are reasonable and we can proceed with using those. If you wish to use the sets determined by StratifiedSHuffleSplit, please uncomment and run the cell below."
   ]
  },
  {
   "cell_type": "code",
   "execution_count": 7,
   "metadata": {},
   "outputs": [],
   "source": [
    "X_train, X_test, y_train, y_test = X_train_sss, X_test_sss, y_train_sss, y_test_sss"
   ]
  },
  {
   "cell_type": "markdown",
   "metadata": {},
   "source": [
    "## Principal Component Analysis\n",
    "\n",
    "The goal of [Principal Component Analysis (PCA)](https://en.wikipedia.org/wiki/Principal_component_analysis) is to describe the maximal amount of variance in a dataset by the fewest number of composite features. PCA as a concept is a lot easier to understand when seen, so for cool interactive visualizations on Principal Component Analysis, [check this out](http://setosa.io/ev/principal-component-analysis/) -- you can drag points in a dataset around in a plane and see the resulting axes for PCA on that dataset!\n",
    "\n",
    "**Run** the cell below to perform [Principal Component Analysis with `sklearn`](http://scikit-learn.org/stable/modules/generated/sklearn.decomposition.PCA.html) on the training set of images to find the *eigenfaces*, or the orthonormal basis resulting from PCA.\n",
    "\n",
    "**Note:** There's a little background on [Singular Value Decomposition (SVD)](https://en.wikipedia.org/wiki/Singular_value_decomposition) and [Randomized SVD](https://research.facebook.com/blog/fast-randomized-svd/) that may be useful or interesting to read here... but it's not necessary to fully understand SVD to appreciate the results of PCA."
   ]
  },
  {
   "cell_type": "code",
   "execution_count": 8,
   "metadata": {},
   "outputs": [
    {
     "name": "stdout",
     "output_type": "stream",
     "text": [
      "Extracting the top 90 eigenfaces from 966 faces\n",
      "done in 0.332s\n",
      "Projecting the input data on the eigenfaces orthonormal basis\n",
      "done in 0.010s\n"
     ]
    }
   ],
   "source": [
    "# Compute a PCA (eigenfaces) on the face dataset\n",
    "# (here, we treat the images as an unlabeled dataset):\n",
    "# unsupervised feature extraction / dimensionality reduction\n",
    "\n",
    "# How many components from PCA to keep?\n",
    "n_components = 90\n",
    "\n",
    "# Perform PCA on the training data set, keep track of elapsed time.\n",
    "print(\"Extracting the top {} eigenfaces from {} faces\".format(n_components, X_train.shape[0]))\n",
    "t0 = time()\n",
    "\n",
    "# NOTE: in sklearn v0.17 and earlier, there was a separate method,\n",
    "#   sklearn.decomposition.RandomizedPCA()\n",
    "# that performed randomized Singular Value Decomposition (SVD)\n",
    "#\n",
    "# For sklearn v0.18 onward, the parameter svd_solver=\"randomized\"\n",
    "# in PCA() will do this -- no need for a separate method.\n",
    "pca = PCA(n_components=n_components, svd_solver='randomized',\\\n",
    "          whiten=True).fit(X_train)\n",
    "print(\"done in {:0.3f}s\".format(time() - t0))\n",
    "\n",
    "# Reshape the PCA components based on the image dimensions.\n",
    "eigenfaces = pca.components_.reshape((n_components, h, w))\n",
    "\n",
    "print(\"Projecting the input data on the eigenfaces orthonormal basis\")\n",
    "t0 = time()\n",
    "X_train_pca = pca.transform(X_train)\n",
    "X_test_pca = pca.transform(X_test)\n",
    "print(\"done in {:0.3f}s\".format(time() - t0))\n"
   ]
  },
  {
   "cell_type": "markdown",
   "metadata": {},
   "source": [
    "## Explained Variance Ratio\n",
    "\n",
    "Now that we've conducted PCA on the training dataset, we can see how much of the variance in the dataset is explained by each eigenface (or each component of the orthonormal basis). The components are ordered by ratio of explained variance in descending order, and after conducting PCA this information is stored in the attribute `pca.explained_variance_ratio_`. **Run** the cell below to print the explained variance percentage from the first five eigenfaces, and the total explained variance percentage of all 150 eigenfaces."
   ]
  },
  {
   "cell_type": "code",
   "execution_count": 9,
   "metadata": {},
   "outputs": [
    {
     "name": "stdout",
     "output_type": "stream",
     "text": [
      "Eigenface 1 explains 18.40% of the variance (cumulative 18.40).\n",
      "Eigenface 2 explains 15.17% of the variance (cumulative 33.57).\n",
      "Eigenface 3 explains  7.10% of the variance (cumulative 40.68).\n",
      "Eigenface 4 explains  6.09% of the variance (cumulative 46.77).\n",
      "Eigenface 5 explains  5.09% of the variance (cumulative 51.86).\n",
      "\n",
      "In total, the first 90 eigenfaces explain 91.86% of the variance.\n"
     ]
    }
   ],
   "source": [
    "cumvar = 0.0\n",
    "for idx, var in enumerate(pca.explained_variance_ratio_[:5]):\n",
    "    cumvar += var\n",
    "    print(\"Eigenface {} explains {:5.2f}% of the variance (cumulative {:5.2f}).\".format(idx+1, var*100.0, cumvar*100.0))\n",
    "    \n",
    "print(\"\\nIn total, the first {} eigenfaces explain {:5.2f}% of the variance.\"\\\n",
    "      .format(len(pca.explained_variance_ratio_),\\\n",
    "              100.0*np.sum(pca.explained_variance_ratio_)))"
   ]
  },
  {
   "cell_type": "markdown",
   "metadata": {},
   "source": [
    "## What does an eigenface look like?\n",
    "\n",
    "Now we're going to define a couple helper functions, `plot_gallery()` and `title()`, to help us see some sample faces from the test set, and visualize the first few eigenfaces to see what features explain the greatest amount of variance in the dataset.\n",
    "\n",
    "**Run** the cell below to define the two helper functions `plot_gallery()` and `title()` -- do you follow what each line of code does in the two helper functions?"
   ]
  },
  {
   "cell_type": "code",
   "execution_count": 10,
   "metadata": {},
   "outputs": [],
   "source": [
    "def plot_gallery(images, titles, h, w, n_row=3, n_col=5):\n",
    "    \"\"\"Helper function to plot a gallery of portraits\"\"\"\n",
    "    plt.figure(figsize=(1.8 * n_col, 2.4 * n_row))\n",
    "    plt.subplots_adjust(bottom=0, left=.01, right=.99, top=.90, hspace=.35)\n",
    "    for i in range(n_row * n_col):\n",
    "        plt.subplot(n_row, n_col, i + 1)\n",
    "        plt.imshow(images[i].reshape((h, w)), cmap=plt.cm.gray)\n",
    "        plt.title(titles[i], size=12)\n",
    "        plt.xticks(())\n",
    "        plt.yticks(())\n",
    "\n",
    "\n",
    "def title(y_pred, y_test, target_names, i):\n",
    "    pred_name = target_names[y_pred[i]].rsplit(' ', 1)[-1]\n",
    "    true_name = target_names[y_test[i]].rsplit(' ', 1)[-1]\n",
    "    return 'predicted: {}\\ntrue:      {}'.format(pred_name, true_name)"
   ]
  },
  {
   "cell_type": "markdown",
   "metadata": {},
   "source": [
    "Let's put the helper functions to work! **Run** the cell below to visualize the first few faces from the test set, labeled with the predicted and actual classes. How did our optimal classifier do on these faces?"
   ]
  },
  {
   "cell_type": "markdown",
   "metadata": {},
   "source": [
    "Now this part is a little spooky (maybe we should have covered this lesson during Halloween). **Run** the cell below to visualize the first few eigenfaces (components of the orthonormal basis that maximally explains the variance in the dataset). You should see some ghostly apparitions that resemble faces, all arising from PCA!"
   ]
  },
  {
   "cell_type": "code",
   "execution_count": 11,
   "metadata": {},
   "outputs": [
    {
     "data": {
      "image/png": "[encoded data removed]",
      "text/plain": [
       "<matplotlib.figure.Figure at 0x1103def98>"
      ]
     },
     "metadata": {},
     "output_type": "display_data"
    }
   ],
   "source": [
    "# plot the gallery of the most significative eigenfaces\n",
    "\n",
    "eigenface_titles = [\"eigenface {}\".format(i) for i in range(eigenfaces.shape[0])]\n",
    "plot_gallery(eigenfaces, eigenface_titles, h, w)"
   ]
  },
  {
   "cell_type": "markdown",
   "metadata": {},
   "source": [
    "##  We will now run a Support Vector Classifier using a training set of the PCA-transformed images "
   ]
  },
  {
   "cell_type": "markdown",
   "metadata": {},
   "source": [
    "### Refining the accuracy score:  `class_weight`\n",
    "\n",
    "We saw earlier in this notebook that the different targets or classes have different representation, so [the accuracy score](http://scikit-learn.org/stable/modules/generated/sklearn.metrics.accuracy_score.html) might not be the best measure of how good a predictive model is. For example, a predictive model where the prediction is always \"Ariel Sharon\" would have an accuracy score of about 6% on our dataset, while a predictive model where the prediction is always \"George W Bush\" would have an accuracy score of about 41% on our dataset -- but the second model isn't necessarily any better! To deal with this problem, we can adjust the `class_weight` parameter in `SVC()`, so that the model score improves by different amounts depending on the class of the that targets are accurately classified. For a more detailed explanation of the `class_weight` parameter, you could [read the `SVC()` documentation](http://scikit-learn.org/stable/modules/generated/sklearn.svm.SVC.html), or check out [this stackoverflow post](http://stackoverflow.com/questions/30972029/how-does-the-class-weight-parameter-in-scikit-learn-work) -- I found the response by Andreas Mueller helpful.\n",
    "\n",
    "The cell below has the formula for computing the weights when setting the `class_weight` parameter in `SVC()` to `\"balanced\"`. **Run** the cell below to display the weights for each class or target, along with the number of instances of each target. This cell shows that rarer classes or targets are weighted more heavily -- it's more important for the classifier to get those targets correct!"
   ]
  },
  {
   "cell_type": "code",
   "execution_count": 12,
   "metadata": {},
   "outputs": [
    {
     "name": "stdout",
     "output_type": "stream",
     "text": [
      "Target Name            Weight  Count \n",
      "  Ariel Sharon      :   3.17     58\n",
      "  Colin Powell      :   1.04    177\n",
      "  Donald Rumsfeld   :   2.02     91\n",
      "  George W Bush     :   0.46    397\n",
      "  Gerhard Schroeder :   2.24     82\n",
      "  Hugo Chavez       :   3.47     53\n",
      "  Tony Blair        :   1.70    108\n"
     ]
    }
   ],
   "source": [
    "weights = n_samples*1.0 / (n_classes * np.bincount(y_train))\n",
    "print(\"{:<23}{:<8}{:<6}\".format(\"Target Name\",\"Weight\",\"Count\"))\n",
    "for idx, name in enumerate(lfw_people.target_names):\n",
    "    print(\"  {:<18}: {:6.2f} {:>6}\".format(name, weights[idx], np.sum(y_train == idx)))"
   ]
  },
  {
   "cell_type": "markdown",
   "metadata": {},
   "source": [
    "Now that we understand how the `class_weight` parameter adds weight to the rarer classes, we can use [the `GridSearchCV()` function](http://scikit-learn.org/stable/modules/generated/sklearn.model_selection.GridSearchCV.html) to find the optimal parameters for a Support Vector Machine (SVM) classifier. Here, we're using the radial basis function (RBF) kernel, and we're tuning the parameters `C` (hard-margin SVM when `C` is large vs. soft-margin SVM when `C` is small) and `gamma` (data points have a long-ranged influence when `gamma` is small, or a short-ranged influence when `gamma` is large). when For more details on SVM, you can check [lesson-05.ipynb](https://github.com/nickypie/ConnectIntensive/blob/master/lesson-05.ipynb) in the [ConnectIntensive](https://github.com/nickypie/ConnectIntensive) repo.\n",
    "\n",
    "**Run** the cell below to find the optimal values for the `C` and `gamma` parameters in the `SVC()` classifier,  using the eigenfaces (`X_train_pca`) as the features. The `n_jobs` parameter for `GridSearchCV` allows us to take advantage of multiprocessing. You can specify some positive integer value or use the special _-1_ value to set the number of jobs equal to the number of processors in your machine."
   ]
  },
  {
   "cell_type": "code",
   "execution_count": 13,
   "metadata": {
    "scrolled": true
   },
   "outputs": [
    {
     "name": "stdout",
     "output_type": "stream",
     "text": [
      "Fitting the classifier to the training set\n",
      "\n",
      "done in 6.417s\n",
      "\n",
      "Best parameters set found on development set:\n",
      "\n",
      "{'C': 5, 'gamma': 0.005}\n",
      "\n",
      "Grid scores on development set:\n",
      "\n",
      "0.144 (+/-0.084) for {'C': 0.5, 'gamma': 0.0001}\n",
      "0.156 (+/-0.111) for {'C': 0.5, 'gamma': 0.0005}\n",
      "0.387 (+/-0.129) for {'C': 0.5, 'gamma': 0.001}\n",
      "0.812 (+/-0.042) for {'C': 0.5, 'gamma': 0.005}\n",
      "0.801 (+/-0.043) for {'C': 0.5, 'gamma': 0.01}\n",
      "0.144 (+/-0.084) for {'C': 1, 'gamma': 0.0001}\n",
      "0.483 (+/-0.199) for {'C': 1, 'gamma': 0.0005}\n",
      "0.781 (+/-0.051) for {'C': 1, 'gamma': 0.001}\n",
      "0.826 (+/-0.037) for {'C': 1, 'gamma': 0.005}\n",
      "0.829 (+/-0.045) for {'C': 1, 'gamma': 0.01}\n",
      "0.522 (+/-0.228) for {'C': 5, 'gamma': 0.0001}\n",
      "0.795 (+/-0.038) for {'C': 5, 'gamma': 0.0005}\n",
      "0.804 (+/-0.037) for {'C': 5, 'gamma': 0.001}\n",
      "0.832 (+/-0.035) for {'C': 5, 'gamma': 0.005}\n",
      "0.822 (+/-0.017) for {'C': 5, 'gamma': 0.01}\n",
      "0.787 (+/-0.033) for {'C': 10.0, 'gamma': 0.0001}\n",
      "0.802 (+/-0.026) for {'C': 10.0, 'gamma': 0.0005}\n",
      "0.803 (+/-0.030) for {'C': 10.0, 'gamma': 0.001}\n",
      "0.826 (+/-0.029) for {'C': 10.0, 'gamma': 0.005}\n",
      "0.820 (+/-0.019) for {'C': 10.0, 'gamma': 0.01}\n",
      "0.798 (+/-0.019) for {'C': 50.0, 'gamma': 0.0001}\n",
      "0.769 (+/-0.029) for {'C': 50.0, 'gamma': 0.0005}\n",
      "0.787 (+/-0.025) for {'C': 50.0, 'gamma': 0.001}\n",
      "0.825 (+/-0.013) for {'C': 50.0, 'gamma': 0.005}\n",
      "0.820 (+/-0.019) for {'C': 50.0, 'gamma': 0.01}\n",
      "0.786 (+/-0.026) for {'C': 100.0, 'gamma': 0.0001}\n",
      "0.772 (+/-0.031) for {'C': 100.0, 'gamma': 0.0005}\n",
      "0.788 (+/-0.009) for {'C': 100.0, 'gamma': 0.001}\n",
      "0.825 (+/-0.013) for {'C': 100.0, 'gamma': 0.005}\n",
      "0.820 (+/-0.019) for {'C': 100.0, 'gamma': 0.01}\n",
      "0.751 (+/-0.013) for {'C': 5000.0, 'gamma': 0.0001}\n",
      "0.769 (+/-0.014) for {'C': 5000.0, 'gamma': 0.0005}\n",
      "0.786 (+/-0.013) for {'C': 5000.0, 'gamma': 0.001}\n",
      "0.825 (+/-0.013) for {'C': 5000.0, 'gamma': 0.005}\n",
      "0.820 (+/-0.019) for {'C': 5000.0, 'gamma': 0.01}\n",
      "0.746 (+/-0.011) for {'C': 1000.0, 'gamma': 0.0001}\n",
      "0.769 (+/-0.014) for {'C': 1000.0, 'gamma': 0.0005}\n",
      "0.786 (+/-0.013) for {'C': 1000.0, 'gamma': 0.001}\n",
      "0.825 (+/-0.013) for {'C': 1000.0, 'gamma': 0.005}\n",
      "0.820 (+/-0.019) for {'C': 1000.0, 'gamma': 0.01}\n",
      " \n"
     ]
    }
   ],
   "source": [
    "# Train a SVM classification model\n",
    "print(\"Fitting the classifier to the training set\\n\")\n",
    "t0 = time()\n",
    "param_grid = {'gamma' :[0.0001, 0.0005, 0.001, 0.005, 0.01],\\\n",
    "              'C'     :[5e-1, 1, 5, 1e1, 5e1, 1e2, 5e3, 1e3]}\n",
    "\n",
    "# for sklearn version 0.16 or prior, the class_weight parameter value is 'auto'\n",
    "clf = GridSearchCV(SVC(kernel='rbf', class_weight='balanced'), param_grid, n_jobs=-1)\n",
    "clf = clf.fit(X_train_pca, y_train)\n",
    "\n",
    "# Display the detailed results of the grid search + cross-validation:\n",
    "print (\"done in {:0.3f}s\\n\".format(time() - t0))\n",
    "print(\"Best parameters set found on development set:\\n\")\n",
    "print(clf.best_params_)\n",
    "print(\"\\nGrid scores on development set:\\n\")\n",
    "means = clf.cv_results_['mean_test_score']\n",
    "stds = clf.cv_results_['std_test_score']\n",
    "for mean, std, params in zip(means, stds, clf.cv_results_['params']):\n",
    "    print(\"%0.3f (+/-%0.03f) for %r\"\n",
    "          % (mean, std * 2, params))\n",
    "print(\" \")"
   ]
  },
  {
   "cell_type": "markdown",
   "metadata": {},
   "source": [
    "With this optimal SVM classifier, let's actually make predictions on the test data! **Run** the cell below to make predictions on the test data. Be careful here! We trained the classifier using the *projections* of the training set features onto the *eigenfaces* (the orthonormal basis of transformed coordinates), so we must also make predictions using the projection of the test set features onto eigenfaces -- the classifier won't work on the original (pre-transformed) features.\n",
    "\n",
    "We will also see a **classification report** and a **confusion matrix**. The classification report summarizes the following metrics for each class or target:\n",
    "  - [**precision**](http://scikit-learn.org/stable/modules/generated/sklearn.metrics.precision_score.html): Precision `p` is the ratio `tp / (tp + fp)` where `tp` is the number of **true positives** and `fp` the number of **false positives**. For example, if I'm trying to identify George W Bush, a true positive would be when the classifier correctly identifies an image of George W Bush, and a false positive would be when the classifier identifies an image of someone else as George W Bush.\n",
    "  - [**recall**](http://scikit-learn.org/stable/modules/generated/sklearn.metrics.recall_score.html): Recall `r` is the ratio `tp / (tp + fn)` where `tp` is the number of **true positives** and `fn` the number of **false negatives**. For example, if I'm trying to identify George W Bush, a true positive would be when the classifier correctly identifies an image of George W Bush, and a false negative would be when the classifier identifies an image of George W Bush as someone else.\n",
    "  - [**f1-score**](http://scikit-learn.org/stable/modules/generated/sklearn.metrics.f1_score.html): The f1-score `f1` is derived from the precision `p` and recall `r`: `f1 = 2*p*r / (p+r)`\n",
    "  - [**support**](http://scikit-learn.org/stable/modules/generated/sklearn.metrics.precision_recall_fscore_support.html): The support is the number of *true occurrences* of each class.\n",
    "  \n",
    "The [**confusion matrix**](http://scikit-learn.org/stable/modules/generated/sklearn.metrics.confusion_matrix.html) is a 2-d array that summarizes the predictions versus the true values.\n",
    "  - *Rows* of the confusion matrix correspond to **true values**.\n",
    "  - *Columns* of the confusion matrix correspond to **predictions**.\n",
    "  - *Correct* predictions lie along the **main diagonal**, while *incorrect* predictions are the **off-diagonal** entries.\n",
    "  - The sum of each row gives the **support** value for that class or label.\n"
   ]
  },
  {
   "cell_type": "code",
   "execution_count": 14,
   "metadata": {
    "scrolled": true
   },
   "outputs": [
    {
     "name": "stdout",
     "output_type": "stream",
     "text": [
      "Predicting the people names on the testing set\n",
      "done in 0.032s\n",
      "\n",
      "                   precision    recall  f1-score   support\n",
      "\n",
      "     Ariel Sharon       0.94      0.79      0.86        19\n",
      "     Colin Powell       0.81      0.97      0.88        59\n",
      "  Donald Rumsfeld       0.83      0.63      0.72        30\n",
      "    George W Bush       0.87      0.92      0.89       133\n",
      "Gerhard Schroeder       0.79      0.70      0.75        27\n",
      "      Hugo Chavez       1.00      0.72      0.84        18\n",
      "       Tony Blair       0.82      0.78      0.80        36\n",
      "\n",
      "      avg / total       0.85      0.85      0.85       322\n",
      "\n",
      "Confusion Matrix:\n",
      "[[ 15   1   0   2   1   0   0]\n",
      " [  0  57   0   1   0   0   1]\n",
      " [  1   3  19   7   0   0   0]\n",
      " [  0   6   2 123   1   0   1]\n",
      " [  0   0   2   4  19   0   2]\n",
      " [  0   1   0   1   1  13   2]\n",
      " [  0   2   0   4   2   0  28]]\n"
     ]
    }
   ],
   "source": [
    "print(\"Predicting the people names on the testing set\")\n",
    "t0 = time()\n",
    "y_pred = clf.predict(X_test_pca)\n",
    "print (\"done in {:0.3f}s\\n\".format(time() - t0))\n",
    "\n",
    "print(classification_report(y_test, y_pred, target_names=target_names))\n",
    "\n",
    "print(\"Confusion Matrix:\")\n",
    "print(confusion_matrix(y_test, y_pred, labels=range(n_classes)))\n"
   ]
  },
  {
   "cell_type": "code",
   "execution_count": 15,
   "metadata": {
    "scrolled": true
   },
   "outputs": [
    {
     "data": {
      "image/png": "[encoded data removed]",
      "text/plain": [
       "<matplotlib.figure.Figure at 0x1a1e3aab00>"
      ]
     },
     "metadata": {},
     "output_type": "display_data"
    }
   ],
   "source": [
    "# plot the result of the prediction on a portion of the test set\n",
    "\n",
    "prediction_titles = [title(y_pred, y_test, target_names, i)\n",
    "                         for i in range(y_pred.shape[0])]\n",
    "\n",
    "plot_gallery(X_test, prediction_titles, h, w)"
   ]
  },
  {
   "cell_type": "code",
   "execution_count": 16,
   "metadata": {},
   "outputs": [],
   "source": [
    "def transform_fit_predict(n_components, X_train, y_train, X_test, y_test):\n",
    "\n",
    "    # Perform PCA on the training data set, keep track of elapsed time.\n",
    "    print(\"Extracting the top {} eigenfaces from {} faces\".format(n_components, X_train.shape[0]))\n",
    "    t0 = time()\n",
    "\n",
    "    # NOTE: in sklearn v0.17 and earlier, there was a separate method,\n",
    "    #   sklearn.decomposition.RandomizedPCA()\n",
    "    # that performed randomized Singular Value Decomposition (SVD)\n",
    "    #\n",
    "    # For sklearn v0.18 onward, the parameter svd_solver=\"randomized\"\n",
    "    # in PCA() will do this -- no need for a separate method.\n",
    "    pca = PCA(n_components=n_components, svd_solver='randomized',\\\n",
    "              whiten=True).fit(X_train)\n",
    "    print(\"done in {:0.3f}s\".format(time() - t0))\n",
    "\n",
    "    # Reshape the PCA components based on the image dimensions.\n",
    "    eigenfaces = pca.components_.reshape((n_components, h, w))\n",
    "\n",
    "\n",
    "    print(\"Projecting the input data on the eigenfaces orthonormal basis\")\n",
    "    t0 = time()\n",
    "    X_train_pca = pca.transform(X_train)\n",
    "    X_test_pca = pca.transform(X_test)\n",
    "    print(\"done in {:0.3f}s\".format(time() - t0))\n",
    "    # Train a SVM classification model\n",
    "    print(\"Fitting the classifier to the training set\\n\")\n",
    "    t0 = time()\n",
    "    param_grid = {'gamma' :[0.0001, 0.0005, 0.001, 0.005, 0.01],\\\n",
    "                  'C'     :[5e-1, 1, 5, 1e1, 5e1, 1e2, 5e3, 1e3]}\n",
    "\n",
    "    # for sklearn version 0.16 or prior, the class_weight parameter value is 'auto'\n",
    "    clf = GridSearchCV(SVC(kernel='rbf', class_weight='balanced'), param_grid, n_jobs=-1)\n",
    "    clf = clf.fit(X_train_pca, y_train)\n",
    "\n",
    "    # Display the detailed results of the grid search + cross-validation:\n",
    "    print (\"done in {:0.3f}s\\n\".format(time() - t0))\n",
    "    print(\"Best parameters set found on development set:\\n\")\n",
    "    print(clf.best_params_)\n",
    "    #print(\"\\nGrid scores on development set:\\n\")\n",
    "    #means = clf.cv_results_['mean_test_score']\n",
    "    #stds = clf.cv_results_['std_test_score']\n",
    "    #for mean, std, params in zip(means, stds, clf.cv_results_['params']):\n",
    "    #    print(\"%0.3f (+/-%0.03f) for %r\"\n",
    "    #          % (mean, std * 2, params))\n",
    "    print(\" \")\n",
    "    #\n",
    "    print(\"Predicting the people names on the testing set\")\n",
    "    y_pred = clf.predict(X_test_pca)\n",
    "\n",
    "    print(classification_report(y_test, y_pred, target_names=target_names))\n",
    "\n",
    "    print(\"Confusion Matrix:\")\n",
    "    print(confusion_matrix(y_test, y_pred, labels=range(n_classes)))\n"
   ]
  },
  {
   "cell_type": "markdown",
   "metadata": {},
   "source": [
    "## Time to tackle the quizzes!\n",
    "\n",
    "Now that you've worked through this notebook, you should have answers to the some of the quizzes in the PCA mini-project. However, you may need to write additional code for some of the questions we've yet to answer. If you get stuck, a good place to start is the `sklearn` documentation. Good luck!\n",
    "\n",
    "**QUESTIONS**\n",
    "\n",
    "**Q0:** What is the dimensionality of the original problem (i.e., how many features did we start out with)? How does this compare to the dimensionality using PCs (i.e., is the original dimensionality similar to or much larger than the dimensionality wth PCs)? \n",
    "\n",
    "**Answer:** The dimensionality of the original problem (i.e., how many features did we start out with)?\n",
    "```n_features : 1850```\n",
    "\n",
    "When we use PCs, our dimensionality drops down to the number of principle components we choose to keep in the analysis. So for the analysis above, this is 90 (``pca.components_``), much smaller than the original dimensionality."
   ]
  },
  {
   "cell_type": "code",
   "execution_count": 17,
   "metadata": {},
   "outputs": [
    {
     "name": "stdout",
     "output_type": "stream",
     "text": [
      "dimensionality of the original problem :  1850\n",
      "dimensionality using PCs:  90\n"
     ]
    }
   ],
   "source": [
    "print(\"dimensionality of the original problem : \",X_train.shape[1])\n",
    "print(\"dimensionality using PCs: \", len(pca.components_))"
   ]
  },
  {
   "cell_type": "code",
   "execution_count": 18,
   "metadata": {},
   "outputs": [
    {
     "name": "stdout",
     "output_type": "stream",
     "text": [
      "Extracting the top 85 eigenfaces from 966 faces\n",
      "done in 0.148s\n",
      "Projecting the input data on the eigenfaces orthonormal basis\n",
      "done in 0.010s\n",
      "Fitting the classifier to the training set\n",
      "\n",
      "done in 6.691s\n",
      "\n",
      "Best parameters set found on development set:\n",
      "\n",
      "{'C': 1, 'gamma': 0.005}\n",
      " \n",
      "Predicting the people names on the testing set\n",
      "                   precision    recall  f1-score   support\n",
      "\n",
      "     Ariel Sharon       0.79      0.79      0.79        19\n",
      "     Colin Powell       0.86      0.93      0.89        59\n",
      "  Donald Rumsfeld       0.72      0.70      0.71        30\n",
      "    George W Bush       0.92      0.89      0.90       133\n",
      "Gerhard Schroeder       0.59      0.74      0.66        27\n",
      "      Hugo Chavez       0.87      0.72      0.79        18\n",
      "       Tony Blair       0.90      0.78      0.84        36\n",
      "\n",
      "      avg / total       0.85      0.84      0.84       322\n",
      "\n",
      "Confusion Matrix:\n",
      "[[ 15   1   0   2   1   0   0]\n",
      " [  1  55   1   1   0   0   1]\n",
      " [  2   3  21   2   2   0   0]\n",
      " [  0   4   5 119   3   2   0]\n",
      " [  0   0   2   4  20   0   1]\n",
      " [  1   1   0   0   2  13   1]\n",
      " [  0   0   0   2   6   0  28]]\n"
     ]
    }
   ],
   "source": [
    "transform_fit_predict(85, X_train, y_train, X_test, y_test)"
   ]
  },
  {
   "cell_type": "markdown",
   "metadata": {},
   "source": [
    "**Q1:** Change `n_components` to the following values: [10, 20, 45, 75, 90, 250]. For each number of principal components, note the _F1_ score for Ariel Sharon and the average _F1_ score. If you see a higher F1 score, does it mean the classifier is doing better, or worse? You can use the helper function transform_fit_predict(..) for this part. Just make sure you write down the scores for eachvalue of n_components you try. What value of `n_components` gave the highest average _F1_ score? \n",
    "\n",
    "**Answer:**\n",
    "Higher F1 scores imply that our model is better. The average F1 is very low for values less than 45, improves as we increase the number of principal components, then starts to drop off as we include more than 100 of them. The best value appears to be about 85. This corresponds to an explained precision of  ≈≈  100%."
   ]
  },
  {
   "cell_type": "raw",
   "metadata": {},
   "source": [
    "       Names      | `n_components` | f1-score | f1-score avg |\n",
    " ---------------- | -------------- | -------- | ------------ |\n",
    " ``Ariel Sharon`` |        10      |   0.21   |     0.42     |\n",
    " ``Ariel Sharon`` |        20      |   0.48   |     0.70     |\n",
    " ``Ariel Sharon`` |        45      |   0.68   |     0.85     |\n",
    " ``Ariel Sharon`` |        75      |   0.89   |     0.87     |\n",
    " ``Ariel Sharon`` |        85      |   0.88   |     0.86     |\n",
    " ``Ariel Sharon`` |        90      |   0.86   |     0.85     |\n",
    " ``Ariel Sharon`` |       250      |   0.77   |     0.81     |"
   ]
  },
  {
   "cell_type": "code",
   "execution_count": 19,
   "metadata": {},
   "outputs": [
    {
     "name": "stdout",
     "output_type": "stream",
     "text": [
      "******10******\n",
      "Extracting the top 10 eigenfaces from 966 faces\n",
      "done in 0.094s\n",
      "Projecting the input data on the eigenfaces orthonormal basis\n",
      "done in 0.008s\n",
      "Fitting the classifier to the training set\n",
      "\n",
      "done in 4.550s\n",
      "\n",
      "Best parameters set found on development set:\n",
      "\n",
      "{'C': 50.0, 'gamma': 0.01}\n",
      " \n",
      "Predicting the people names on the testing set\n",
      "                   precision    recall  f1-score   support\n",
      "\n",
      "     Ariel Sharon       0.16      0.32      0.21        19\n",
      "     Colin Powell       0.45      0.51      0.48        59\n",
      "  Donald Rumsfeld       0.18      0.20      0.19        30\n",
      "    George W Bush       0.80      0.43      0.56       133\n",
      "Gerhard Schroeder       0.20      0.30      0.24        27\n",
      "      Hugo Chavez       0.28      0.61      0.38        18\n",
      "       Tony Blair       0.29      0.28      0.28        36\n",
      "\n",
      "      avg / total       0.51      0.40      0.42       322\n",
      "\n",
      "Confusion Matrix:\n",
      "[[ 6  4  5  1  1  1  1]\n",
      " [14 30  6  4  2  1  2]\n",
      " [ 4 10  6  2  3  3  2]\n",
      " [ 8 15  5 57 14 18 16]\n",
      " [ 3  2  3  5  8  2  4]\n",
      " [ 0  2  0  0  5 11  0]\n",
      " [ 2  3  8  2  7  4 10]]\n",
      "******20******\n",
      "Extracting the top 20 eigenfaces from 966 faces\n",
      "done in 0.058s\n",
      "Projecting the input data on the eigenfaces orthonormal basis\n",
      "done in 0.010s\n",
      "Fitting the classifier to the training set\n",
      "\n",
      "done in 2.898s\n",
      "\n",
      "Best parameters set found on development set:\n",
      "\n",
      "{'C': 100.0, 'gamma': 0.005}\n",
      " \n",
      "Predicting the people names on the testing set\n",
      "                   precision    recall  f1-score   support\n",
      "\n",
      "     Ariel Sharon       0.43      0.53      0.48        19\n",
      "     Colin Powell       0.66      0.85      0.74        59\n",
      "  Donald Rumsfeld       0.57      0.53      0.55        30\n",
      "    George W Bush       0.87      0.80      0.84       133\n",
      "Gerhard Schroeder       0.44      0.44      0.44        27\n",
      "      Hugo Chavez       0.75      0.83      0.79        18\n",
      "       Tony Blair       0.64      0.44      0.52        36\n",
      "\n",
      "      avg / total       0.71      0.70      0.70       322\n",
      "\n",
      "Confusion Matrix:\n",
      "[[ 10   5   1   1   1   0   1]\n",
      " [  5  50   2   1   1   0   0]\n",
      " [  4   4  16   5   1   0   0]\n",
      " [  2  13   7 107   1   1   2]\n",
      " [  0   1   1   4  12   3   6]\n",
      " [  1   1   0   1   0  15   0]\n",
      " [  1   2   1   4  11   1  16]]\n",
      "******45******\n",
      "Extracting the top 45 eigenfaces from 966 faces\n",
      "done in 0.071s\n",
      "Projecting the input data on the eigenfaces orthonormal basis\n",
      "done in 0.008s\n",
      "Fitting the classifier to the training set\n",
      "\n",
      "done in 3.628s\n",
      "\n",
      "Best parameters set found on development set:\n",
      "\n",
      "{'C': 5, 'gamma': 0.01}\n",
      " \n",
      "Predicting the people names on the testing set\n",
      "                   precision    recall  f1-score   support\n",
      "\n",
      "     Ariel Sharon       0.64      0.74      0.68        19\n",
      "     Colin Powell       0.87      0.92      0.89        59\n",
      "  Donald Rumsfeld       0.72      0.60      0.65        30\n",
      "    George W Bush       0.92      0.94      0.93       133\n",
      "Gerhard Schroeder       0.69      0.74      0.71        27\n",
      "      Hugo Chavez       0.88      0.78      0.82        18\n",
      "       Tony Blair       0.84      0.75      0.79        36\n",
      "\n",
      "      avg / total       0.84      0.84      0.84       322\n",
      "\n",
      "Confusion Matrix:\n",
      "[[ 14   2   0   0   2   0   1]\n",
      " [  2  54   1   1   0   0   1]\n",
      " [  4   3  18   5   0   0   0]\n",
      " [  2   1   2 125   1   1   1]\n",
      " [  0   0   3   1  20   1   2]\n",
      " [  0   0   0   2   2  14   0]\n",
      " [  0   2   1   2   4   0  27]]\n",
      "******75******\n",
      "Extracting the top 75 eigenfaces from 966 faces\n",
      "done in 0.094s\n",
      "Projecting the input data on the eigenfaces orthonormal basis\n",
      "done in 0.009s\n",
      "Fitting the classifier to the training set\n",
      "\n",
      "done in 5.297s\n",
      "\n",
      "Best parameters set found on development set:\n",
      "\n",
      "{'C': 1, 'gamma': 0.01}\n",
      " \n",
      "Predicting the people names on the testing set\n",
      "                   precision    recall  f1-score   support\n",
      "\n",
      "     Ariel Sharon       0.88      0.79      0.83        19\n",
      "     Colin Powell       0.89      0.98      0.94        59\n",
      "  Donald Rumsfeld       0.75      0.70      0.72        30\n",
      "    George W Bush       0.87      0.93      0.90       133\n",
      "Gerhard Schroeder       0.81      0.81      0.81        27\n",
      "      Hugo Chavez       1.00      0.78      0.88        18\n",
      "       Tony Blair       1.00      0.81      0.89        36\n",
      "\n",
      "      avg / total       0.88      0.88      0.88       322\n",
      "\n",
      "Confusion Matrix:\n",
      "[[ 15   1   0   2   1   0   0]\n",
      " [  0  58   0   1   0   0   0]\n",
      " [  1   1  21   5   2   0   0]\n",
      " [  0   4   4 124   1   0   0]\n",
      " [  0   0   3   2  22   0   0]\n",
      " [  0   1   0   2   1  14   0]\n",
      " [  1   0   0   6   0   0  29]]\n",
      "******85******\n",
      "Extracting the top 85 eigenfaces from 966 faces\n",
      "done in 0.109s\n",
      "Projecting the input data on the eigenfaces orthonormal basis\n",
      "done in 0.010s\n",
      "Fitting the classifier to the training set\n",
      "\n",
      "done in 5.868s\n",
      "\n",
      "Best parameters set found on development set:\n",
      "\n",
      "{'C': 5, 'gamma': 0.005}\n",
      " \n",
      "Predicting the people names on the testing set\n",
      "                   precision    recall  f1-score   support\n",
      "\n",
      "     Ariel Sharon       1.00      0.79      0.88        19\n",
      "     Colin Powell       0.84      0.97      0.90        59\n",
      "  Donald Rumsfeld       0.87      0.67      0.75        30\n",
      "    George W Bush       0.87      0.92      0.89       133\n",
      "Gerhard Schroeder       0.76      0.70      0.73        27\n",
      "      Hugo Chavez       0.93      0.72      0.81        18\n",
      "       Tony Blair       0.86      0.83      0.85        36\n",
      "\n",
      "      avg / total       0.86      0.86      0.86       322\n",
      "\n",
      "Confusion Matrix:\n",
      "[[ 15   1   0   2   1   0   0]\n",
      " [  0  57   0   0   0   1   1]\n",
      " [  0   3  20   6   1   0   0]\n",
      " [  0   6   1 123   2   0   1]\n",
      " [  0   0   2   4  19   0   2]\n",
      " [  0   1   0   2   1  13   1]\n",
      " [  0   0   0   5   1   0  30]]\n",
      "******90******\n",
      "Extracting the top 90 eigenfaces from 966 faces\n",
      "done in 0.098s\n",
      "Projecting the input data on the eigenfaces orthonormal basis\n",
      "done in 0.013s\n",
      "Fitting the classifier to the training set\n",
      "\n",
      "done in 6.269s\n",
      "\n",
      "Best parameters set found on development set:\n",
      "\n",
      "{'C': 5, 'gamma': 0.005}\n",
      " \n",
      "Predicting the people names on the testing set\n",
      "                   precision    recall  f1-score   support\n",
      "\n",
      "     Ariel Sharon       0.93      0.74      0.82        19\n",
      "     Colin Powell       0.83      0.97      0.89        59\n",
      "  Donald Rumsfeld       0.79      0.63      0.70        30\n",
      "    George W Bush       0.87      0.92      0.89       133\n",
      "Gerhard Schroeder       0.79      0.70      0.75        27\n",
      "      Hugo Chavez       1.00      0.72      0.84        18\n",
      "       Tony Blair       0.83      0.81      0.82        36\n",
      "\n",
      "      avg / total       0.85      0.85      0.85       322\n",
      "\n",
      "Confusion Matrix:\n",
      "[[ 14   1   1   2   1   0   0]\n",
      " [  0  57   0   1   0   0   1]\n",
      " [  0   2  19   8   1   0   0]\n",
      " [  0   6   2 123   1   0   1]\n",
      " [  0   0   2   4  19   0   2]\n",
      " [  1   1   0   0   1  13   2]\n",
      " [  0   2   0   4   1   0  29]]\n",
      "******250******\n",
      "Extracting the top 250 eigenfaces from 966 faces\n",
      "done in 0.200s\n",
      "Projecting the input data on the eigenfaces orthonormal basis\n",
      "done in 0.016s\n",
      "Fitting the classifier to the training set\n",
      "\n",
      "done in 18.920s\n",
      "\n",
      "Best parameters set found on development set:\n",
      "\n",
      "{'C': 5, 'gamma': 0.001}\n",
      " \n",
      "Predicting the people names on the testing set\n",
      "                   precision    recall  f1-score   support\n",
      "\n",
      "     Ariel Sharon       0.73      0.84      0.78        19\n",
      "     Colin Powell       0.77      0.90      0.83        59\n",
      "  Donald Rumsfeld       0.85      0.57      0.68        30\n",
      "    George W Bush       0.85      0.90      0.88       133\n",
      "Gerhard Schroeder       0.75      0.67      0.71        27\n",
      "      Hugo Chavez       0.91      0.56      0.69        18\n",
      "       Tony Blair       0.86      0.83      0.85        36\n",
      "\n",
      "      avg / total       0.82      0.82      0.82       322\n",
      "\n",
      "Confusion Matrix:\n",
      "[[ 16   3   0   0   0   0   0]\n",
      " [  2  53   0   3   0   1   0]\n",
      " [  1   2  17   8   1   0   1]\n",
      " [  1   8   2 120   1   0   1]\n",
      " [  1   0   1   5  18   0   2]\n",
      " [  0   1   0   3   3  10   1]\n",
      " [  1   2   0   2   1   0  30]]\n"
     ]
    }
   ],
   "source": [
    "print(\"******10******\")\n",
    "transform_fit_predict(10, X_train, y_train, X_test, y_test)\n",
    "print(\"******20******\")\n",
    "transform_fit_predict(20, X_train, y_train, X_test, y_test)\n",
    "print(\"******45******\")\n",
    "transform_fit_predict(45, X_train, y_train, X_test, y_test)\n",
    "print(\"******75******\")\n",
    "transform_fit_predict(75, X_train, y_train, X_test, y_test)\n",
    "print(\"******85******\")\n",
    "transform_fit_predict(85, X_train, y_train, X_test, y_test)\n",
    "print(\"******90******\")\n",
    "transform_fit_predict(90, X_train, y_train, X_test, y_test)\n",
    "print(\"******250******\")\n",
    "transform_fit_predict(250, X_train, y_train, X_test, y_test)"
   ]
  },
  {
   "cell_type": "markdown",
   "metadata": {},
   "source": [
    "**Q2:** As you add more principal components as features for training your classifier, do you expect it to get better or worse performance?\n",
    "- a) better\n",
    "- b) worse\n",
    "- c) need more information\n",
    "\n",
    "**Answer:**   The performance gets better up to a point, then starts to decrease when n_components get to be large."
   ]
  },
  {
   "cell_type": "markdown",
   "metadata": {
    "collapsed": true
   },
   "source": [
    "**Q3:** Do you see any evidence of overfitting when using a large number of PCs? Does the dimensionality reduction of PCA seem to be helping your performance here?\n",
    "\n",
    "**Answer:** \n",
    "The decrease in test F1 scores when n_components gets to be larger than 100 can be attributed to overfitting. The dimensionality reduction we get through PCA is helping performance by reducing training time as well as reducing overfitting."
   ]
  },
  {
   "cell_type": "code",
   "execution_count": null,
   "metadata": {},
   "outputs": [],
   "source": []
  }
 ],
 "metadata": {
  "kernelspec": {
   "display_name": "Python 3",
   "language": "python",
   "name": "python3"
  },
  "language_info": {
   "codemirror_mode": {
    "name": "ipython",
    "version": 3
   },
   "file_extension": ".py",
   "mimetype": "text/x-python",
   "name": "python",
   "nbconvert_exporter": "python",
   "pygments_lexer": "ipython3",
   "version": "3.6.4"
  }
 },
 "nbformat": 4,
 "nbformat_minor": 1
}
