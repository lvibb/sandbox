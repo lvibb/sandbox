{
 "cells": [
  {
   "cell_type": "markdown",
   "metadata": {},
   "source": [
    "## Lesson 06: Unsupervised Learning - Clustering\n",
    "\n",
    "## K-Means Clustering - Cluster Visualization\n",
    "\n",
    "#### Clustering Mini Project \n",
    "\n",
    "In this project, we’ll apply [k-means clustering](https://en.wikipedia.org/wiki/K-means_clustering) (a variant of [Lloyd's Algorithm](https://en.wikipedia.org/wiki/Lloyd's_algorithm) or Voronoi Iteration) to the Enron financial dataset available in the [ud120-projects repo](https://www.github.com/udacity/ud120-projects). For your convenience, I have included the data file in this repository. We're also going to define a function `DrawClusters()` that will allow us to visualize the resulting clusters. \n",
    "\n",
    "Our final goal, of course, is to identify persons of interest; since we have labeled data, this is not a question that particularly calls for an unsupervised approach like k-means clustering. Nonetheless, it is interesting to attempt a clustering analysis to see how well this kind of approach can distinguish between poi's and non-poi's. You’ll also get some hands-on practice with k-means in this project, and play around with feature scaling."
   ]
  },
  {
   "cell_type": "markdown",
   "metadata": {},
   "source": [
    "### 0 | Preliminaries \n",
    "As usual, we start by loading the packages we are going to use. These should be already by installed in your environment. There are no new packages that need to be installed for this session\n",
    "\n",
    " - numpy\n",
    " - pandas\n",
    " - sklearn\n",
    " - matplotlib\n",
    " \n",
    "In addition, we will be using data and some code from the ud120-projects repo, so those should be available on your local machine as well\n",
    " \n",
    " Run the cell below to load them"
   ]
  },
  {
   "cell_type": "code",
   "execution_count": 59,
   "metadata": {},
   "outputs": [
    {
     "name": "stdout",
     "output_type": "stream",
     "text": [
      "Successfully imported numpy! (Version 1.14.0)\n",
      "Successfully imported matplotlib! (Version 2.1.2)\n",
      "Successfully imported pandas! (Version 0.22.0)\n",
      "Successfully imported display and Image from IPython.display!\n"
     ]
    }
   ],
   "source": [
    "#!/usr/bin/python \n",
    "\n",
    "import pickle\n",
    "\n",
    "try:\n",
    "    import numpy as np\n",
    "    print(\"Successfully imported numpy! (Version {})\".format(np.version.version))\n",
    "except ImportError:\n",
    "    pass\n",
    "    \n",
    "try:\n",
    "    import matplotlib\n",
    "    import matplotlib.pyplot as plt\n",
    "    print(\"Successfully imported matplotlib! (Version {})\".format(matplotlib.__version__))\n",
    "except ImportError:\n",
    "    pass\n",
    "\n",
    "try:\n",
    "    import pandas as pd\n",
    "    print(\"Successfully imported pandas! (Version {})\".format(pd.__version__))\n",
    "    pd.options.display.max_rows = 10\n",
    "except ImportError:\n",
    "    print(\"Could not import pandas!\")\n",
    "\n",
    "import os, sys\n",
    "\n",
    "try:\n",
    "    from IPython.display import display\n",
    "    from IPython.display import Image\n",
    "    print(\"Successfully imported display and Image from IPython.display!\")\n",
    "except ImportError:\n",
    "    print(\"Could not import from IPython.display\")\n",
    "\n",
    "%matplotlib inline"
   ]
  },
  {
   "cell_type": "markdown",
   "metadata": {},
   "source": [
    "### 1 | Load the Dataset\n",
    "\n",
    "**Run** he next two cells to load he dataset and define some helper functions"
   ]
  },
  {
   "cell_type": "code",
   "execution_count": 60,
   "metadata": {},
   "outputs": [
    {
     "name": "stdout",
     "output_type": "stream",
     "text": [
      "PATH_TO_MINI appears correct (can open project data file)\n"
     ]
    }
   ],
   "source": [
    "###\n",
    "### Change the path to the folder containing the enron dataset if it is not is the same relative location as in\n",
    "### the ConnectIntensive repo. Set the correct path in PATH_TO_MINI \n",
    "###\n",
    "### Once this is correctly set using either a relative path or an absolute path, the rest of the code should work correctly\n",
    "\n",
    "PATH_TO_MINI = \"./data\"\n",
    "\n",
    "### Once you have the path set, the output from this cell should say so\n",
    "\n",
    "try:\n",
    "    path_ok = os.path.isfile(os.path.join(PATH_TO_MINI,\"clustering\",\"final_project_dataset.pkl\"))\n",
    "    if not path_ok:\n",
    "        raise Exception(\"Path is not set correctly\")\n",
    "    print(\"PATH_TO_MINI appears correct (can open project data file)\")\n",
    "except Exception as e:\n",
    "    print(e)\n",
    "    "
   ]
  },
  {
   "cell_type": "markdown",
   "metadata": {},
   "source": [
    "The cell below defines the `DrawClusters()` function adapated from  [the `Draw()` function from `\"ud120-projects/kmeans/k_means_cluster.py\"`](https://github.com/udacity/ud120-projects/blob/master/k_means/k_means_cluster.py). Here's a quick summary of changes:\n",
    "  - `DrawClusters()` works with the `pandas` `DataFrame` object `enron_df`.\n",
    "  - Some of the functionality from `\"ud120-projects/tools/feature_format.py\"` is incorporated into `DrawClusters()`:\n",
    "    - The ability to remove instances with **all** zeroes from k-means clustering\n",
    "    - The ability to remove instances with **any** zeroes from k-means clustering\n",
    "    - The ability to rescale features, remapping them to the interval [0,1]\n",
    "  - `DrawClusters()` also draws the resulting decision boundary when `feature_list` contains only two features.\n",
    "  \n",
    "**Read** through the code for `DrawClusters` to see how `KMeans` is used within the function to compute and display the cluster centers"
   ]
  },
  {
   "cell_type": "code",
   "execution_count": 61,
   "metadata": {},
   "outputs": [
    {
     "name": "stdout",
     "output_type": "stream",
     "text": [
      "DrawClusters() is ready to use!\n"
     ]
    }
   ],
   "source": [
    "sys.path.append(PATH_TO_MINI)\n",
    "sys.path.append(os.path.join(\"./tools\"))\n",
    "sys.path.append(os.path.join(\"./k_means\"))\n",
    "\n",
    "## Adapted from ud120-projects/k_means/k_means_cluster.py\n",
    "from feature_format import featureFormat, targetFeatureSplit\n",
    "\n",
    "\n",
    "from sklearn.cluster import KMeans\n",
    "\n",
    "def DrawClusters(n_clusters = 2,\\\n",
    "                 feature_list = [\"salary\",\"exercised_stock_options\"],\\\n",
    "                 remove_any_zeroes = False,\\\n",
    "                 remove_all_zeroes = True,\\\n",
    "                 rescale_features = False,\\\n",
    "                 x_label = 'Salary',\\\n",
    "                 y_label = 'Exercised Stock Options'):\n",
    "    \n",
    "    '''\n",
    "    Plots k-means clusters trained on a list of features from enron_df\n",
    "    @param n_clusters:        an integer, the number of clusters to form.\n",
    "    @param feature_list:      a list of strings, the features to use in KMeans clustering\n",
    "                              (first two features in the list will be plotted on x,y axes)\n",
    "                              if len(feature_list) == 2, decision boundaries will be plotted \n",
    "    @param remove_any_zeroes: a boolean, whether or not to remove points when clustering\n",
    "                              that contain ANY zeroes\n",
    "    @param remove_all_zeroes: a boolean, whether or not to remove points when clustering\n",
    "                              that contain ONLY zeroes\n",
    "    @param rescale_features:  a boolean, whether or not to rescale features from 0 to 1\n",
    "    @param kmns:              (optional) KMeans cluster model. If provided, ignores \n",
    "    @param x_label:           a string, the x-axis label of the plot\n",
    "    @param y_label:           a string, the y-axis label of the plot\n",
    "    '''\n",
    "\n",
    "    # Initialize color and shape lists for scatterplot\n",
    "    # Note: need to lengthen the color and shape lists if\n",
    "    #       you want to use more than 7 clusters.\n",
    "    color_list = [\"r\",\"g\",\"b\",\"c\",\"m\",\"y\",\"k\"]\n",
    "    shape_list = [\"^\",\"o\",\"s\",\"v\",\"D\",\"<\",\"h\"]\n",
    "    \n",
    "    # Initialize figure and axes:\n",
    "    fig, ax = plt.subplots()\n",
    "\n",
    "    # We are going to cluster the data using KMeans,\n",
    "    # based on the features from the parameter feature_list.\n",
    "    X = enron_df[feature_list]\n",
    "    \n",
    "    # We can see if clustering correctly identified POIs\n",
    "    y = enron_df['poi']\n",
    "    \n",
    "    # If desired, remove instances where ANY feature is zero\n",
    "    if remove_any_zeroes:\n",
    "        X = X[~(X.T == 0).any()]\n",
    "        \n",
    "    # If desired, remove instances where ALL features are zeroes\n",
    "    if remove_all_zeroes:\n",
    "        X = X[~(X.T == 0).all()]\n",
    "\n",
    "    # If desired, rescale features\n",
    "    if rescale_features:\n",
    "        for feature in X.columns:\n",
    "            min_feature = X[~(X[feature] == 0)][feature].min()\n",
    "            max_feature = X[~(X[feature] == 0)][feature].max()\n",
    "            range_feature = max_feature - min_feature\n",
    "            X[feature] = (X[feature] - min_feature)*1.0 / range_feature\n",
    "            \n",
    "    # If we removed any instances above, we need to keep \n",
    "    # only the corresponding instances in y (the POI Series)\n",
    "    y = y.loc[X.index]\n",
    "    \n",
    "    # By default, the first two features in the list are chosen\n",
    "    # as the x and y features.\n",
    "    x_feature = feature_list[0]\n",
    "    y_feature = feature_list[1]\n",
    "\n",
    "    # Determine the min & max values of x_feature, compute the range,\n",
    "    # and pad the minimum and maximum x values by 5% of the range\n",
    "    x_min, x_max = X[x_feature].min(), X[x_feature].max()\n",
    "    x_range = x_max - x_min\n",
    "    x_min -= x_range * 0.05\n",
    "    x_max += x_range * 0.05\n",
    "    \n",
    "    # Determine the min & max values of y_feature, compute the range,\n",
    "    # and pad the minimum and maximum y values by 5% of the range\n",
    "    y_min, y_max = X[y_feature].min(), X[y_feature].max()\n",
    "    y_range = y_max - y_min\n",
    "    y_min -= y_range * 0.05\n",
    "    y_max += y_range * 0.05\n",
    "    \n",
    "    # Compute k-means clustering.\n",
    "    kmns = KMeans(n_clusters = n_clusters).fit(X)\n",
    "\n",
    "    \n",
    "    # We can visualize the decision boundaries if the \n",
    "    # k-means clusters are formed from just two features\n",
    "    if len(feature_list) == 2:\n",
    "        # Return coordinate matrices xx and yy from arrays\n",
    "        xx, yy = np.meshgrid(np.linspace(x_min, x_max, num = 500),\\\n",
    "                             np.linspace(y_min, y_max, num = 500))\n",
    "\n",
    "        # Use the clustering to make a prediction for each point\n",
    "        # in the coordinate matrices, then reshape for plotting.\n",
    "        Z = kmns.predict(np.c_[xx.ravel(), yy.ravel()])\n",
    "        Z = Z.reshape(xx.shape)\n",
    "\n",
    "        # Plot semitransparent filled contours for the\n",
    "        # cluster decision boundaries\n",
    "        ax.contourf(xx, yy, Z,\\\n",
    "                    levels=list(np.arange(n_clusters+1)-0.5),\\\n",
    "                    colors=tuple(color_list[:n_clusters]),alpha=0.2)\n",
    "    \n",
    "    # Scatterplot all of the points in each cluster,\n",
    "    # with each cluster a different color and shape\n",
    "    pred = kmns.predict(X)\n",
    "    for cluster_idx in range(n_clusters):\n",
    "        X_cluster = X[pred == cluster_idx]\n",
    "        ax.scatter(X_cluster[x_feature], X_cluster[y_feature],\\\n",
    "                   s=30, marker = shape_list[cluster_idx],\\\n",
    "                   edgecolor='k', facecolor=color_list[cluster_idx], alpha=0.8)\n",
    "        \n",
    "    # Denote the centroids of each cluster with a white X\n",
    "    centers = kmns.cluster_centers_\n",
    "    if len(feature_list) == 2:\n",
    "        for center in centers:\n",
    "            ax.scatter(center[0],center[1],marker='x',facecolor=\"w\",linewidth=3,s=50)\n",
    "            \n",
    "    # Set the title and axes labels, and adjust the aspect ratio for rescaled data\n",
    "    if rescale_features:\n",
    "        title   = ax.set_title(\"K Means - {} Clusters (Rescaled)\".format(n_clusters))\n",
    "        # Force the axes aspect ratio to be plotted equally\n",
    "        ax.set(adjustable='box-forced', aspect='equal')\n",
    "    else:\n",
    "        title   = ax.set_title(\"K Means - {} Clusters\".format(n_clusters))\n",
    "    x_label = ax.set_xlabel(x_label)\n",
    "    y_label = ax.set_ylabel(y_label)\n",
    "    \n",
    "    # Set the x- and y-axis limits using the padded minimum and maximum values\n",
    "    xlim = ax.set_xlim((x_min,x_max))\n",
    "    ylim = ax.set_ylim((y_min,y_max))\n",
    "    \n",
    "print(\"DrawClusters() is ready to use!\")"
   ]
  },
  {
   "cell_type": "code",
   "execution_count": 76,
   "metadata": {},
   "outputs": [
    {
     "name": "stdout",
     "output_type": "stream",
     "text": [
      "Loaded dataset - has 146 keys (or rows)\n"
     ]
    }
   ],
   "source": [
    "### load in the dict of dicts containing all the data on each person in the dataset\n",
    "\n",
    "enron_data = pickle.load( open(os.path.join(PATH_TO_MINI,\"clustering\",\"final_project_dataset.pkl\"), \"rb\"))\n",
    "\n",
    "print(\"Loaded dataset - has {} keys (or rows)\".format(len(enron_data.keys())))"
   ]
  },
  {
   "cell_type": "markdown",
   "metadata": {},
   "source": [
    "### 2 | Data Exploration and pre-processing\n",
    "\n",
    "We want to get a sense of what is in the data set, whether there are any missing values that need to be cleaned up. \n",
    "\n",
    "We couldn't find *all* the details for each person involved with the Enron scandal, so the Enron data set has some missing values denoted by `\"NaN\"` entries in the data dictionary. Because we must pass numeric arrays into `sklearn` modules, we need to preprocess the data dictionary a bit before we can use [`sklearn.cluster.KMeans()`](http://scikit-learn.org/stable/modules/generated/sklearn.cluster.KMeans.html).\n",
    "\n",
    "##### Question 1 - How many different persons are there in this dataset? Are there any keys that should be excluded? (HINT: There is at least one). "
   ]
  },
  {
   "cell_type": "code",
   "execution_count": 78,
   "metadata": {},
   "outputs": [
    {
     "name": "stdout",
     "output_type": "stream",
     "text": [
      "METTS MARK\n",
      "BAXTER JOHN C\n",
      "ELLIOTT STEVEN\n",
      "CORDES WILLIAM R\n",
      "HANNON KEVIN P\n",
      "MORDAUNT KRISTINA M\n",
      "MEYER ROCKFORD G\n",
      "MCMAHON JEFFREY\n",
      "HAEDICKE MARK E\n",
      "PIPER GREGORY F\n",
      "HUMPHREY GENE E\n",
      "NOLES JAMES L\n",
      "BLACHMAN JEREMY M\n",
      "SUNDE MARTIN\n",
      "GIBBS DANA R\n",
      "LOWRY CHARLES P\n",
      "COLWELL WESLEY\n",
      "MULLER MARK S\n",
      "JACKSON CHARLENE R\n",
      "WESTFAHL RICHARD K\n",
      "WALTERS GARETH W\n",
      "WALLS JR ROBERT H\n",
      "KITCHEN LOUISE\n",
      "CHAN RONNIE\n",
      "BELFER ROBERT\n",
      "SHANKMAN JEFFREY A\n",
      "WODRASKA JOHN\n",
      "BERGSIEKER RICHARD P\n",
      "URQUHART JOHN A\n",
      "BIBI PHILIPPE A\n",
      "RIEKER PAULA H\n",
      "WHALEY DAVID A\n",
      "BECK SALLY W\n",
      "HAUG DAVID L\n",
      "ECHOLS JOHN B\n",
      "MENDELSOHN JOHN\n",
      "HICKERSON GARY J\n",
      "CLINE KENNETH W\n",
      "LEWIS RICHARD\n",
      "HAYES ROBERT E\n",
      "KOPPER MICHAEL J\n",
      "LEFF DANIEL P\n",
      "LAVORATO JOHN J\n",
      "BERBERIAN DAVID\n",
      "DETMERING TIMOTHY J\n",
      "WAKEHAM JOHN\n",
      "POWERS WILLIAM\n",
      "GOLD JOSEPH\n",
      "BANNANTINE JAMES M\n",
      "DUNCAN JOHN H\n",
      "SHAPIRO RICHARD S\n",
      "SHERRIFF JOHN R\n",
      "SHELBY REX\n",
      "LEMAISTRE CHARLES\n",
      "DEFFNER JOSEPH M\n",
      "KISHKILL JOSEPH G\n",
      "WHALLEY LAWRENCE G\n",
      "MCCONNELL MICHAEL S\n",
      "PIRO JIM\n",
      "DELAINEY DAVID W\n",
      "SULLIVAN-SHAKLOVITZ COLLEEN\n",
      "WROBEL BRUCE\n",
      "LINDHOLM TOD A\n",
      "MEYER JEROME J\n",
      "LAY KENNETH L\n",
      "BUTTS ROBERT H\n",
      "OLSON CINDY K\n",
      "MCDONALD REBECCA\n",
      "CUMBERLAND MICHAEL S\n",
      "GAHN ROBERT S\n",
      "BADUM JAMES P\n",
      "HERMANN ROBERT J\n",
      "FALLON JAMES B\n",
      "GATHMANN WILLIAM D\n",
      "HORTON STANLEY C\n",
      "BOWEN JR RAYMOND M\n",
      "GILLIS JOHN\n",
      "FITZGERALD JAY L\n",
      "MORAN MICHAEL P\n",
      "REDMOND BRIAN L\n",
      "BAZELIDES PHILIP J\n",
      "BELDEN TIMOTHY N\n",
      "DIMICHELE RICHARD G\n",
      "DURAN WILLIAM D\n",
      "THORN TERENCE H\n",
      "FASTOW ANDREW S\n",
      "FOY JOE\n",
      "CALGER CHRISTOPHER F\n",
      "RICE KENNETH D\n",
      "KAMINSKI WINCENTY J\n",
      "LOCKHART EUGENE E\n",
      "COX DAVID\n",
      "OVERDYKE JR JERE C\n",
      "PEREIRA PAULO V. FERRAZ\n",
      "STABLER FRANK\n",
      "SKILLING JEFFREY K\n",
      "BLAKE JR. NORMAN P\n",
      "SHERRICK JEFFREY B\n",
      "PRENTICE JAMES\n",
      "GRAY RODNEY\n",
      "THE TRAVEL AGENCY IN THE PARK\n",
      "UMANOFF ADAM S\n",
      "KEAN STEVEN J\n",
      "TOTAL\n",
      "FOWLER PEGGY\n",
      "WASAFF GEORGE\n",
      "WHITE JR THOMAS E\n",
      "CHRISTODOULOU DIOMEDES\n",
      "ALLEN PHILLIP K\n",
      "SHARP VICTORIA T\n",
      "JAEDICKE ROBERT\n",
      "WINOKUR JR. HERBERT S\n",
      "BROWN MICHAEL\n",
      "MCCLELLAN GEORGE\n",
      "HUGHES JAMES A\n",
      "REYNOLDS LAWRENCE\n",
      "PICKERING MARK R\n",
      "BHATNAGAR SANJAY\n",
      "CARTER REBECCA C\n",
      "BUCHANAN HAROLD G\n",
      "YEAP SOON\n",
      "MURRAY JULIA H\n",
      "GARLAND C KEVIN\n",
      "DODSON KEITH\n",
      "YEAGER F SCOTT\n",
      "HIRKO JOSEPH\n",
      "DIETRICH JANET R\n",
      "DERRICK JR. JAMES V\n",
      "FREVERT MARK A\n",
      "PAI LOU L\n",
      "HAYSLETT RODERICK J\n",
      "BAY FRANKLIN R\n",
      "MCCARTY DANNY J\n",
      "FUGH JOHN L\n",
      "SCRIMSHAW MATTHEW\n",
      "KOENIG MARK E\n",
      "SAVAGE FRANK\n",
      "IZZO LAWRENCE L\n",
      "TILNEY ELIZABETH A\n",
      "MARTIN AMANDA K\n",
      "BUY RICHARD B\n",
      "GRAMM WENDY L\n",
      "CAUSEY RICHARD A\n",
      "TAYLOR MITCHELL S\n",
      "DONAHUE JR JEFFREY M\n",
      "GLISAN JR BEN F\n"
     ]
    }
   ],
   "source": [
    "## The preliminary structure we loaded is a python dictionary whose keys are the names of people at Enron.\n",
    "## print the list os keys to see all the names. Scroll through the names to see if you can identify one obvious key \n",
    "## that should be removed (it is not a person's name)\n",
    "\n",
    "for k, v, in enron_data.items():\n",
    "    print(k)\n",
    "#del enron_data[\"TOTAL\"]"
   ]
  },
  {
   "cell_type": "markdown",
   "metadata": {},
   "source": [
    "Add appropriate code in the cell below to complete our preprocessing steps:\n",
    "  - Remove the outlier: the bad entry is `\"TOTAL\"` in the data dictionary containing totals of all features.\n",
    "  - Create a pandas `DataFrame` object from the Enron data dictionary\n",
    "  - Take the **transpose** of the Enron `DataFrame` with [`DataFrame.T`](http://pandas.pydata.org/pandas-docs/stable/generated/pandas.DataFrame.T.html), so that rows correspond to individuals (instances). \n",
    "  - Impute missing values: Replace all \"NaN\" values in the DataFrame with **zeroes**."
   ]
  },
  {
   "cell_type": "code",
   "execution_count": 82,
   "metadata": {},
   "outputs": [
    {
     "data": {
      "text/html": [
       "<div>\n",
       "<style scoped>\n",
       "    .dataframe tbody tr th:only-of-type {\n",
       "        vertical-align: middle;\n",
       "    }\n",
       "\n",
       "    .dataframe tbody tr th {\n",
       "        vertical-align: top;\n",
       "    }\n",
       "\n",
       "    .dataframe thead th {\n",
       "        text-align: right;\n",
       "    }\n",
       "</style>\n",
       "<table border=\"1\" class=\"dataframe\">\n",
       "  <thead>\n",
       "    <tr style=\"text-align: right;\">\n",
       "      <th></th>\n",
       "      <th>bonus</th>\n",
       "      <th>deferral_payments</th>\n",
       "      <th>deferred_income</th>\n",
       "      <th>director_fees</th>\n",
       "      <th>email_address</th>\n",
       "      <th>exercised_stock_options</th>\n",
       "      <th>expenses</th>\n",
       "      <th>from_messages</th>\n",
       "      <th>from_poi_to_this_person</th>\n",
       "      <th>from_this_person_to_poi</th>\n",
       "      <th>...</th>\n",
       "      <th>long_term_incentive</th>\n",
       "      <th>other</th>\n",
       "      <th>poi</th>\n",
       "      <th>restricted_stock</th>\n",
       "      <th>restricted_stock_deferred</th>\n",
       "      <th>salary</th>\n",
       "      <th>shared_receipt_with_poi</th>\n",
       "      <th>to_messages</th>\n",
       "      <th>total_payments</th>\n",
       "      <th>total_stock_value</th>\n",
       "    </tr>\n",
       "  </thead>\n",
       "  <tbody>\n",
       "    <tr>\n",
       "      <th>ALLEN PHILLIP K</th>\n",
       "      <td>4175000</td>\n",
       "      <td>2869717</td>\n",
       "      <td>-3081055</td>\n",
       "      <td>0</td>\n",
       "      <td>phillip.allen@enron.com</td>\n",
       "      <td>1729541</td>\n",
       "      <td>13868</td>\n",
       "      <td>2195</td>\n",
       "      <td>47</td>\n",
       "      <td>65</td>\n",
       "      <td>...</td>\n",
       "      <td>304805</td>\n",
       "      <td>152</td>\n",
       "      <td>False</td>\n",
       "      <td>126027</td>\n",
       "      <td>-126027</td>\n",
       "      <td>201955</td>\n",
       "      <td>1407</td>\n",
       "      <td>2902</td>\n",
       "      <td>4484442</td>\n",
       "      <td>1729541</td>\n",
       "    </tr>\n",
       "    <tr>\n",
       "      <th>BADUM JAMES P</th>\n",
       "      <td>0</td>\n",
       "      <td>178980</td>\n",
       "      <td>0</td>\n",
       "      <td>0</td>\n",
       "      <td>0</td>\n",
       "      <td>257817</td>\n",
       "      <td>3486</td>\n",
       "      <td>0</td>\n",
       "      <td>0</td>\n",
       "      <td>0</td>\n",
       "      <td>...</td>\n",
       "      <td>0</td>\n",
       "      <td>0</td>\n",
       "      <td>False</td>\n",
       "      <td>0</td>\n",
       "      <td>0</td>\n",
       "      <td>0</td>\n",
       "      <td>0</td>\n",
       "      <td>0</td>\n",
       "      <td>182466</td>\n",
       "      <td>257817</td>\n",
       "    </tr>\n",
       "    <tr>\n",
       "      <th>BANNANTINE JAMES M</th>\n",
       "      <td>0</td>\n",
       "      <td>0</td>\n",
       "      <td>-5104</td>\n",
       "      <td>0</td>\n",
       "      <td>james.bannantine@enron.com</td>\n",
       "      <td>4046157</td>\n",
       "      <td>56301</td>\n",
       "      <td>29</td>\n",
       "      <td>39</td>\n",
       "      <td>0</td>\n",
       "      <td>...</td>\n",
       "      <td>0</td>\n",
       "      <td>864523</td>\n",
       "      <td>False</td>\n",
       "      <td>1757552</td>\n",
       "      <td>-560222</td>\n",
       "      <td>477</td>\n",
       "      <td>465</td>\n",
       "      <td>566</td>\n",
       "      <td>916197</td>\n",
       "      <td>5243487</td>\n",
       "    </tr>\n",
       "    <tr>\n",
       "      <th>BAXTER JOHN C</th>\n",
       "      <td>1200000</td>\n",
       "      <td>1295738</td>\n",
       "      <td>-1386055</td>\n",
       "      <td>0</td>\n",
       "      <td>0</td>\n",
       "      <td>6680544</td>\n",
       "      <td>11200</td>\n",
       "      <td>0</td>\n",
       "      <td>0</td>\n",
       "      <td>0</td>\n",
       "      <td>...</td>\n",
       "      <td>1586055</td>\n",
       "      <td>2660303</td>\n",
       "      <td>False</td>\n",
       "      <td>3942714</td>\n",
       "      <td>0</td>\n",
       "      <td>267102</td>\n",
       "      <td>0</td>\n",
       "      <td>0</td>\n",
       "      <td>5634343</td>\n",
       "      <td>10623258</td>\n",
       "    </tr>\n",
       "    <tr>\n",
       "      <th>BAY FRANKLIN R</th>\n",
       "      <td>400000</td>\n",
       "      <td>260455</td>\n",
       "      <td>-201641</td>\n",
       "      <td>0</td>\n",
       "      <td>frank.bay@enron.com</td>\n",
       "      <td>0</td>\n",
       "      <td>129142</td>\n",
       "      <td>0</td>\n",
       "      <td>0</td>\n",
       "      <td>0</td>\n",
       "      <td>...</td>\n",
       "      <td>0</td>\n",
       "      <td>69</td>\n",
       "      <td>False</td>\n",
       "      <td>145796</td>\n",
       "      <td>-82782</td>\n",
       "      <td>239671</td>\n",
       "      <td>0</td>\n",
       "      <td>0</td>\n",
       "      <td>827696</td>\n",
       "      <td>63014</td>\n",
       "    </tr>\n",
       "    <tr>\n",
       "      <th>...</th>\n",
       "      <td>...</td>\n",
       "      <td>...</td>\n",
       "      <td>...</td>\n",
       "      <td>...</td>\n",
       "      <td>...</td>\n",
       "      <td>...</td>\n",
       "      <td>...</td>\n",
       "      <td>...</td>\n",
       "      <td>...</td>\n",
       "      <td>...</td>\n",
       "      <td>...</td>\n",
       "      <td>...</td>\n",
       "      <td>...</td>\n",
       "      <td>...</td>\n",
       "      <td>...</td>\n",
       "      <td>...</td>\n",
       "      <td>...</td>\n",
       "      <td>...</td>\n",
       "      <td>...</td>\n",
       "      <td>...</td>\n",
       "      <td>...</td>\n",
       "    </tr>\n",
       "    <tr>\n",
       "      <th>WINOKUR JR. HERBERT S</th>\n",
       "      <td>0</td>\n",
       "      <td>0</td>\n",
       "      <td>-25000</td>\n",
       "      <td>108579</td>\n",
       "      <td>0</td>\n",
       "      <td>0</td>\n",
       "      <td>1413</td>\n",
       "      <td>0</td>\n",
       "      <td>0</td>\n",
       "      <td>0</td>\n",
       "      <td>...</td>\n",
       "      <td>0</td>\n",
       "      <td>0</td>\n",
       "      <td>False</td>\n",
       "      <td>0</td>\n",
       "      <td>0</td>\n",
       "      <td>0</td>\n",
       "      <td>0</td>\n",
       "      <td>0</td>\n",
       "      <td>84992</td>\n",
       "      <td>0</td>\n",
       "    </tr>\n",
       "    <tr>\n",
       "      <th>WODRASKA JOHN</th>\n",
       "      <td>0</td>\n",
       "      <td>0</td>\n",
       "      <td>0</td>\n",
       "      <td>0</td>\n",
       "      <td>john.wodraska@enron.com</td>\n",
       "      <td>0</td>\n",
       "      <td>0</td>\n",
       "      <td>0</td>\n",
       "      <td>0</td>\n",
       "      <td>0</td>\n",
       "      <td>...</td>\n",
       "      <td>0</td>\n",
       "      <td>189583</td>\n",
       "      <td>False</td>\n",
       "      <td>0</td>\n",
       "      <td>0</td>\n",
       "      <td>0</td>\n",
       "      <td>0</td>\n",
       "      <td>0</td>\n",
       "      <td>189583</td>\n",
       "      <td>0</td>\n",
       "    </tr>\n",
       "    <tr>\n",
       "      <th>WROBEL BRUCE</th>\n",
       "      <td>0</td>\n",
       "      <td>0</td>\n",
       "      <td>0</td>\n",
       "      <td>0</td>\n",
       "      <td>0</td>\n",
       "      <td>139130</td>\n",
       "      <td>0</td>\n",
       "      <td>0</td>\n",
       "      <td>0</td>\n",
       "      <td>0</td>\n",
       "      <td>...</td>\n",
       "      <td>0</td>\n",
       "      <td>0</td>\n",
       "      <td>False</td>\n",
       "      <td>0</td>\n",
       "      <td>0</td>\n",
       "      <td>0</td>\n",
       "      <td>0</td>\n",
       "      <td>0</td>\n",
       "      <td>0</td>\n",
       "      <td>139130</td>\n",
       "    </tr>\n",
       "    <tr>\n",
       "      <th>YEAGER F SCOTT</th>\n",
       "      <td>0</td>\n",
       "      <td>0</td>\n",
       "      <td>0</td>\n",
       "      <td>0</td>\n",
       "      <td>scott.yeager@enron.com</td>\n",
       "      <td>8308552</td>\n",
       "      <td>53947</td>\n",
       "      <td>0</td>\n",
       "      <td>0</td>\n",
       "      <td>0</td>\n",
       "      <td>...</td>\n",
       "      <td>0</td>\n",
       "      <td>147950</td>\n",
       "      <td>True</td>\n",
       "      <td>3576206</td>\n",
       "      <td>0</td>\n",
       "      <td>158403</td>\n",
       "      <td>0</td>\n",
       "      <td>0</td>\n",
       "      <td>360300</td>\n",
       "      <td>11884758</td>\n",
       "    </tr>\n",
       "    <tr>\n",
       "      <th>YEAP SOON</th>\n",
       "      <td>0</td>\n",
       "      <td>0</td>\n",
       "      <td>0</td>\n",
       "      <td>0</td>\n",
       "      <td>0</td>\n",
       "      <td>192758</td>\n",
       "      <td>55097</td>\n",
       "      <td>0</td>\n",
       "      <td>0</td>\n",
       "      <td>0</td>\n",
       "      <td>...</td>\n",
       "      <td>0</td>\n",
       "      <td>0</td>\n",
       "      <td>False</td>\n",
       "      <td>0</td>\n",
       "      <td>0</td>\n",
       "      <td>0</td>\n",
       "      <td>0</td>\n",
       "      <td>0</td>\n",
       "      <td>55097</td>\n",
       "      <td>192758</td>\n",
       "    </tr>\n",
       "  </tbody>\n",
       "</table>\n",
       "<p>145 rows × 21 columns</p>\n",
       "</div>"
      ],
      "text/plain": [
       "                         bonus deferral_payments deferred_income  \\\n",
       "ALLEN PHILLIP K        4175000           2869717        -3081055   \n",
       "BADUM JAMES P                0            178980               0   \n",
       "BANNANTINE JAMES M           0                 0           -5104   \n",
       "BAXTER JOHN C          1200000           1295738        -1386055   \n",
       "BAY FRANKLIN R          400000            260455         -201641   \n",
       "...                        ...               ...             ...   \n",
       "WINOKUR JR. HERBERT S        0                 0          -25000   \n",
       "WODRASKA JOHN                0                 0               0   \n",
       "WROBEL BRUCE                 0                 0               0   \n",
       "YEAGER F SCOTT               0                 0               0   \n",
       "YEAP SOON                    0                 0               0   \n",
       "\n",
       "                      director_fees               email_address  \\\n",
       "ALLEN PHILLIP K                   0     phillip.allen@enron.com   \n",
       "BADUM JAMES P                     0                           0   \n",
       "BANNANTINE JAMES M                0  james.bannantine@enron.com   \n",
       "BAXTER JOHN C                     0                           0   \n",
       "BAY FRANKLIN R                    0         frank.bay@enron.com   \n",
       "...                             ...                         ...   \n",
       "WINOKUR JR. HERBERT S        108579                           0   \n",
       "WODRASKA JOHN                     0     john.wodraska@enron.com   \n",
       "WROBEL BRUCE                      0                           0   \n",
       "YEAGER F SCOTT                    0      scott.yeager@enron.com   \n",
       "YEAP SOON                         0                           0   \n",
       "\n",
       "                      exercised_stock_options expenses from_messages  \\\n",
       "ALLEN PHILLIP K                       1729541    13868          2195   \n",
       "BADUM JAMES P                          257817     3486             0   \n",
       "BANNANTINE JAMES M                    4046157    56301            29   \n",
       "BAXTER JOHN C                         6680544    11200             0   \n",
       "BAY FRANKLIN R                              0   129142             0   \n",
       "...                                       ...      ...           ...   \n",
       "WINOKUR JR. HERBERT S                       0     1413             0   \n",
       "WODRASKA JOHN                               0        0             0   \n",
       "WROBEL BRUCE                           139130        0             0   \n",
       "YEAGER F SCOTT                        8308552    53947             0   \n",
       "YEAP SOON                              192758    55097             0   \n",
       "\n",
       "                      from_poi_to_this_person from_this_person_to_poi  \\\n",
       "ALLEN PHILLIP K                            47                      65   \n",
       "BADUM JAMES P                               0                       0   \n",
       "BANNANTINE JAMES M                         39                       0   \n",
       "BAXTER JOHN C                               0                       0   \n",
       "BAY FRANKLIN R                              0                       0   \n",
       "...                                       ...                     ...   \n",
       "WINOKUR JR. HERBERT S                       0                       0   \n",
       "WODRASKA JOHN                               0                       0   \n",
       "WROBEL BRUCE                                0                       0   \n",
       "YEAGER F SCOTT                              0                       0   \n",
       "YEAP SOON                                   0                       0   \n",
       "\n",
       "                             ...        long_term_incentive    other    poi  \\\n",
       "ALLEN PHILLIP K              ...                     304805      152  False   \n",
       "BADUM JAMES P                ...                          0        0  False   \n",
       "BANNANTINE JAMES M           ...                          0   864523  False   \n",
       "BAXTER JOHN C                ...                    1586055  2660303  False   \n",
       "BAY FRANKLIN R               ...                          0       69  False   \n",
       "...                          ...                        ...      ...    ...   \n",
       "WINOKUR JR. HERBERT S        ...                          0        0  False   \n",
       "WODRASKA JOHN                ...                          0   189583  False   \n",
       "WROBEL BRUCE                 ...                          0        0  False   \n",
       "YEAGER F SCOTT               ...                          0   147950   True   \n",
       "YEAP SOON                    ...                          0        0  False   \n",
       "\n",
       "                      restricted_stock restricted_stock_deferred  salary  \\\n",
       "ALLEN PHILLIP K                 126027                   -126027  201955   \n",
       "BADUM JAMES P                        0                         0       0   \n",
       "BANNANTINE JAMES M             1757552                   -560222     477   \n",
       "BAXTER JOHN C                  3942714                         0  267102   \n",
       "BAY FRANKLIN R                  145796                    -82782  239671   \n",
       "...                                ...                       ...     ...   \n",
       "WINOKUR JR. HERBERT S                0                         0       0   \n",
       "WODRASKA JOHN                        0                         0       0   \n",
       "WROBEL BRUCE                         0                         0       0   \n",
       "YEAGER F SCOTT                 3576206                         0  158403   \n",
       "YEAP SOON                            0                         0       0   \n",
       "\n",
       "                      shared_receipt_with_poi to_messages total_payments  \\\n",
       "ALLEN PHILLIP K                          1407        2902        4484442   \n",
       "BADUM JAMES P                               0           0         182466   \n",
       "BANNANTINE JAMES M                        465         566         916197   \n",
       "BAXTER JOHN C                               0           0        5634343   \n",
       "BAY FRANKLIN R                              0           0         827696   \n",
       "...                                       ...         ...            ...   \n",
       "WINOKUR JR. HERBERT S                       0           0          84992   \n",
       "WODRASKA JOHN                               0           0         189583   \n",
       "WROBEL BRUCE                                0           0              0   \n",
       "YEAGER F SCOTT                              0           0         360300   \n",
       "YEAP SOON                                   0           0          55097   \n",
       "\n",
       "                      total_stock_value  \n",
       "ALLEN PHILLIP K                 1729541  \n",
       "BADUM JAMES P                    257817  \n",
       "BANNANTINE JAMES M              5243487  \n",
       "BAXTER JOHN C                  10623258  \n",
       "BAY FRANKLIN R                    63014  \n",
       "...                                 ...  \n",
       "WINOKUR JR. HERBERT S                 0  \n",
       "WODRASKA JOHN                         0  \n",
       "WROBEL BRUCE                     139130  \n",
       "YEAGER F SCOTT                 11884758  \n",
       "YEAP SOON                        192758  \n",
       "\n",
       "[145 rows x 21 columns]"
      ]
     },
     "metadata": {},
     "output_type": "display_data"
    }
   ],
   "source": [
    "# Preprocessing the Enron dataset:\n",
    "# there's an outlier--remove it! \n",
    "enron_data.pop(\"TOTAL\", 0)\n",
    "enron_df = pd.DataFrame.from_dict(enron_data).T\n",
    "# Change all entries in the DataFrame with \"NaN\" to zeroes.\n",
    "enron_df[enron_df == \"NaN\"] = 0\n",
    "display (enron_df)"
   ]
  },
  {
   "cell_type": "markdown",
   "metadata": {},
   "source": [
    "\n",
    "\n",
    "As we've seen before, `pandas` dataframes provide a convenient way of managing data. We will use the `from_dict` method of a DataFrame object to load our python data_dict. However, when the dictionary object loaded, the resulting DataFrame has the list of keys as its columns. We can \"flip\" this using the transpose (.T) so that each row contains the data for one person."
   ]
  },
  {
   "cell_type": "markdown",
   "metadata": {},
   "source": [
    "As you can see, several of the features have missing values and we will need to get rid of them using imputation."
   ]
  },
  {
   "cell_type": "markdown",
   "metadata": {
    "collapsed": true
   },
   "source": [
    "#### Question 2 - Why is it ok to replace the missing values with 0? Write your thoughts in the cell below and we will discuss as a group. Think about the other ways you can impute missing data, e.g., mean or median values."
   ]
  },
  {
   "cell_type": "markdown",
   "metadata": {},
   "source": [
    "**Answer 2 - ** Replacing the missing values with 0 is best because the fields are numeric & not categorical."
   ]
  },
  {
   "cell_type": "markdown",
   "metadata": {},
   "source": [
    "Run the cell below to create a scatterplot of the data with two features, then look at the resulting figure. What clusters you would expect to arise from this data if 2 clusters are created? Try different pairs of features and select three features. We will use them for creating clusters using the K-means algorithm later."
   ]
  },
  {
   "cell_type": "code",
   "execution_count": 90,
   "metadata": {},
   "outputs": [
    {
     "data": {
      "text/plain": [
       "<matplotlib.collections.PathCollection at 0x1a1afadb38>"
      ]
     },
     "execution_count": 90,
     "metadata": {},
     "output_type": "execute_result"
    },
    {
     "data": {
      "image/png": "[encoded data removed]",
      "text/plain": [
       "<matplotlib.figure.Figure at 0x1a1ad83390>"
      ]
     },
     "metadata": {},
     "output_type": "display_data"
    }
   ],
   "source": [
    "fig, ax = plt.subplots()\n",
    "ax.scatter(enron_df[\"salary\"],enron_df[\"exercised_stock_options\"])\n",
    "title   = ax.set_title(\"Exercised Stock Options vs. Salary\")\n",
    "xlabel  = ax.set_xlabel(\"Salary\")\n",
    "ylabel  = ax.set_ylabel(\"Exercised Stock Options\")\n",
    "\n",
    "ax.scatter(enron_df[\"from_poi_to_this_person\"],enron_df[\"from_this_person_to_poi\"])"
   ]
  },
  {
   "cell_type": "markdown",
   "metadata": {},
   "source": [
    "** Question 3** - What are the features (i.e., columns or variables) available in this dataset? Which ones might be useful for identifying a `person of interest` (_poi_)? Please write down three choices\n",
    "\n",
    "** Answer 3** - from_poi_to_this_person, from_this_person_to_poi, exercised_stock_options, shared_receipt_with_poi"
   ]
  },
  {
   "cell_type": "markdown",
   "metadata": {},
   "source": []
  },
  {
   "cell_type": "markdown",
   "metadata": {},
   "source": [
    "### Deploying Clustering\n",
    "Let's perform k-means clustering on the data using only two of the features you identified above. Enter them as the values of the variables `feature_1` and `feature_2`. The online quiz specifies which features to use  (\"salary\", \"exercised_stock_options\"), but try experimenting with other combinations "
   ]
  },
  {
   "cell_type": "code",
   "execution_count": 91,
   "metadata": {},
   "outputs": [],
   "source": [
    "# TODO\n",
    "feature_1 = \"salary\"\n",
    "feature_2 = \"exercised_stock_options\""
   ]
  },
  {
   "cell_type": "markdown",
   "metadata": {},
   "source": [
    "#### Clustering with two features\n",
    "\n",
    "**Run** the cell below to generate and visualize the results of `Kmeans` clustering with 2 clusters"
   ]
  },
  {
   "cell_type": "code",
   "execution_count": 92,
   "metadata": {},
   "outputs": [
    {
     "data": {
      "image/png": "[encoded data removed]",
      "text/plain": [
       "<matplotlib.figure.Figure at 0x1a1ad4ba90>"
      ]
     },
     "metadata": {},
     "output_type": "display_data"
    }
   ],
   "source": [
    "DrawClusters(n_clusters = 2,\\\n",
    "             feature_list = [feature_1, feature_2],\\\n",
    "             remove_any_zeroes = False,\\\n",
    "             remove_all_zeroes = True,\\\n",
    "             rescale_features = False,\\\n",
    "             x_label = feature_1.replace(\"_\", \" \"),\\\n",
    "             y_label = feature_2.replace(\"_\", \" \"))"
   ]
  },
  {
   "cell_type": "markdown",
   "metadata": {
    "collapsed": true
   },
   "source": [
    "** In the scatterplot that pops up, are the clusters what you expected? ** (_All answers are correct!_)\n",
    "> Based on the distribution the cluster centeriod are placed appropriately."
   ]
  },
  {
   "cell_type": "markdown",
   "metadata": {},
   "source": []
  },
  {
   "cell_type": "markdown",
   "metadata": {},
   "source": [
    "#### Three features clustering\n",
    "\n",
    "In this section add a third feature and rerun the clustering. The online quiz specifies which feature to use  (\"total payments\"), but feel free to experiment with others. \n",
    "\n",
    "You can copy and modify the cells from the two features groups above to complete this."
   ]
  },
  {
   "cell_type": "code",
   "execution_count": 93,
   "metadata": {},
   "outputs": [],
   "source": [
    "# TODO - modify these variable to try other feature combinations\n",
    "feature_1 = \"salary\"\n",
    "feature_2 = \"exercised_stock_options\"\n",
    "feature_3 = \"total_payments\""
   ]
  },
  {
   "cell_type": "code",
   "execution_count": 94,
   "metadata": {},
   "outputs": [
    {
     "data": {
      "image/png": "[encoded data removed]",
      "text/plain": [
       "<matplotlib.figure.Figure at 0x111792f98>"
      ]
     },
     "metadata": {},
     "output_type": "display_data"
    }
   ],
   "source": [
    "#TODO\n",
    "DrawClusters(n_clusters = 3,\\\n",
    "             feature_list = [feature_1, feature_2, feature_3],\\\n",
    "             remove_any_zeroes = False,\\\n",
    "             remove_all_zeroes = True,\\\n",
    "             rescale_features = False,\\\n",
    "             x_label = feature_1.replace(\"_\", \" \"),\\\n",
    "             y_label = feature_2.replace(\"_\", \" \"))"
   ]
  },
  {
   "cell_type": "markdown",
   "metadata": {},
   "source": [
    "#### Question 4 - Compare the plot with the clusterings to the one you obtained with 2 input features. Do any points switch clusters? How many? This new clustering, using 3 features, couldn’t have been guessed by eye--it was the k-means algorithm that identified it.\n",
    "\n",
    "** Answer ** - Answer: Yes, one point (near the right edge of the figure) switched clusters"
   ]
  },
  {
   "cell_type": "markdown",
   "metadata": {},
   "source": []
  },
  {
   "cell_type": "markdown",
   "metadata": {},
   "source": [
    "#### Feature Scaling \n",
    "\n",
    "As you can see, if you attempted to use one of the finance features as a variable, most of the \"points\" are close together but there are several that are fairly far away from the rest. Feature scaling is way to \"normalize\" the data so we don't end up emphasizing any one dimension too much.\n",
    "\n",
    "The next few questions (aligned with the online mini-project quizzes) lead you through some of the calculations that are done for feature scaling.\n",
    "\n",
    "\n",
    "(NB: if you look at finance_features, there are some \"NaN\" values that have been cleaned away and replaced with zeroes--so while those might look like the minima, it's a bit deceptive because they're more like points for which we don't have information, and just have to put in a number. So for this question, we will go back to unmodified data and look for the maximum and minimum numbers that show up there, ignoring all the \"NaN\" entries). To help with this task, run the cell below to create the data frame df from the enron_data dictionary.\n"
   ]
  },
  {
   "cell_type": "code",
   "execution_count": 95,
   "metadata": {},
   "outputs": [
    {
     "name": "stdout",
     "output_type": "stream",
     "text": [
      "DataFrame df has been created!\n"
     ]
    }
   ],
   "source": [
    "# Create a new DataFrame object from original the Enron data dictionary\n",
    "df = pd.DataFrame.from_dict(enron_data)\n",
    "\n",
    "# Take the transpose (.T) of the Enron DataFrame,\n",
    "# so that rows of the DataFrame correspond to individuals\n",
    "df = df.T\n",
    "\n",
    "print(\"DataFrame df has been created!\")"
   ]
  },
  {
   "cell_type": "markdown",
   "metadata": {},
   "source": [
    "** What are the maximum and minimum values taken by the “exercised_stock_options” feature used in this example? **"
   ]
  },
  {
   "cell_type": "code",
   "execution_count": 96,
   "metadata": {},
   "outputs": [
    {
     "name": "stdout",
     "output_type": "stream",
     "text": [
      "The maximum and minimum values of exercised_stock_options are 34348384 and 3285.\n"
     ]
    }
   ],
   "source": [
    "column = \"exercised_stock_options\"\n",
    "print(\"The maximum and minimum values of exercised_stock_options are {} and {}.\".\\\n",
    "      format(df[~(df[column]==\"NaN\")][column].max(),\\\n",
    "             df[~(df[column]==\"NaN\")][column].min()))"
   ]
  },
  {
   "cell_type": "markdown",
   "metadata": {},
   "source": [
    "#### What are the maximum and minimum values taken by “salary”?\n",
    "\n",
    "This feature also had NaNs in the original data"
   ]
  },
  {
   "cell_type": "code",
   "execution_count": 97,
   "metadata": {},
   "outputs": [
    {
     "name": "stdout",
     "output_type": "stream",
     "text": [
      "The maximum and minimum values of salary are 1111258 and 477.\n"
     ]
    }
   ],
   "source": [
    "column = \"salary\"\n",
    "print(\"The maximum and minimum values of salary are {} and {}.\".\\\n",
    "      format(df[~(df[column]==\"NaN\")][column].max(),\\\n",
    "             df[~(df[column]==\"NaN\")][column].min()))"
   ]
  },
  {
   "cell_type": "markdown",
   "metadata": {},
   "source": [
    "### Clustering Changes with Feature Scaling\n",
    "\n",
    "**Run** the cell below to do simple feature rescaling, mapping the original ranges of two features onto the interval [0,1]. You should find that some of the points change clusters! You should also find that these clusters are not as stable as in the previous examples. Run the cell multiple times. You should find that the reported clusters are sometimes different, depending on where the centroids were initialized for k-means."
   ]
  },
  {
   "cell_type": "code",
   "execution_count": 105,
   "metadata": {},
   "outputs": [
    {
     "data": {
      "image/png": "[encoded data removed]",
      "text/plain": [
       "<matplotlib.figure.Figure at 0x1116803c8>"
      ]
     },
     "metadata": {},
     "output_type": "display_data"
    }
   ],
   "source": [
    "DrawClusters(n_clusters = 2,\\\n",
    "             feature_list = [feature_1, feature_2],\\\n",
    "             remove_any_zeroes = False,\\\n",
    "             remove_all_zeroes = True,\\\n",
    "             rescale_features = True,\\\n",
    "             x_label = feature_1.replace(\"_\", \" \"),\\\n",
    "             y_label = feature_2.replace(\"_\", \" \"))\n",
    "\n",
    "# rescale parameter has been set to true to do the scaling"
   ]
  },
  {
   "cell_type": "markdown",
   "metadata": {
    "collapsed": true
   },
   "source": [
    "** Compare this result with the output for the two clusters without scaling. What do you notice?"
   ]
  },
  {
   "cell_type": "markdown",
   "metadata": {
    "collapsed": true
   },
   "source": [
    "The reported clusters are different and the centroids have split the data not based on the data density rather based on the spread of the data. This change is noticeable from the previous scatter plot because we performed scaling."
   ]
  }
 ],
 "metadata": {
  "kernelspec": {
   "display_name": "Python 3",
   "language": "python",
   "name": "python3"
  },
  "language_info": {
   "codemirror_mode": {
    "name": "ipython",
    "version": 3
   },
   "file_extension": ".py",
   "mimetype": "text/x-python",
   "name": "python",
   "nbconvert_exporter": "python",
   "pygments_lexer": "ipython3",
   "version": "3.6.4"
  }
 },
 "nbformat": 4,
 "nbformat_minor": 1
}
