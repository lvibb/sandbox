{
 "cells": [
  {
   "cell_type": "markdown",
   "metadata": {},
   "source": [
    "# Machine Learning Engineer Nanodegree\n",
    "## Capstone Proposal\n",
    "Vibhav Lal  \n",
    "June 2nd, 2018\n",
    "\n",
    "## Proposal\n",
    "_(approx. 2-3 pages)_"
   ]
  },
  {
   "attachments": {},
   "cell_type": "markdown",
   "metadata": {},
   "source": [
    "### Domain Background\n",
    "_(approx. 1-2 paragraphs)_\n",
    "\n",
    "_In this section, provide brief details on the background information of the domain from which the project is proposed. Historical information relevant to the project should be included. It should be clear how or why a problem in the domain can or should be solved. Related academic research should be appropriately cited in this section, including why that research is relevant. Additionally, a discussion of your personal motivation for investigating a particular problem in the domain is encouraged but not required._\n",
    "\n",
    "- Commodity is one of the largest traded (by volume) commodity Internationally as well as domestic.\n",
    "- Commodity markets are highly fragmented pricing.\n",
    "- No standard price, which is why there is no exchange for this product. \n",
    "- No set price for any product, production cost differs from producer to producer. \n",
    "- Multitude of categories of products/items/sizes/grades within the categories with substantial price differences.\n",
    "- The scope is to pick one commodity item\n",
    "\n",
    "My motiviation to pursue this as a project because I am somewhat related to this industry where we face the pricing fluclations on a daily basis. In addition, I am trying to develop a concept prototype which can be utilized by small businesses."
   ]
  },
  {
   "attachments": {},
   "cell_type": "markdown",
   "metadata": {},
   "source": [
    "### Problem Statement\n",
    "_(approx. 1 paragraph)_\n",
    "\n",
    "_In this section, clearly describe the problem that is to be solved. The problem described should be well defined and should have at least one relevant potential solution. Additionally, describe the problem thoroughly such that it is clear that the problem is quantifiable (the problem can be expressed in mathematical or logical terms) , measurable (the problem can be measured by some metric and clearly observed), and replicable (the problem can be reproduced and occurs more than once)._\n",
    "\n",
    "- Use Machine Learning concepts to predict pricing fluctuations for a particular commodity item\n",
    "- Determine significant correlations between various features effecting the commodity pricing.\n",
    "- Implement an interactive commodity price forecasting mechanism classifying them under the following categories:\n",
    "> - Specific product\n",
    "> - Specific region\n",
    "> - Time range\n",
    "\n",
    "#### Challenges with Commodities\n",
    "- Very fragmented buying-selling process – in the form of brokers, agents, traders, consumers, stock-holders, producers.\n",
    "- Unorganized and unregulated – no need for any special license or membership is required.\n",
    "- Buying methods are still very old-fashioned.\n",
    "- Highly relationship based.\n",
    "- Price intelligence – mostly through verbal communication.\n",
    "- Published journals give historical prices and informal projections but no specific price predictions.\n",
    "\n",
    "#### Features Considered\n",
    "Factors influencing Commodity prices:\n",
    "- Production/availability/demand\n",
    "- Imports\n",
    "- Exports\n",
    "- Iron pricing\n",
    "- Coal pricing\n",
    "- Petroleum prices\n",
    "- Construction\n",
    "- Infrastructure projects\n",
    "- Bank financing\n",
    "- Interest rates\n",
    "- Currency fluctuations\n",
    "- Government policies\n",
    "- Weather conditions\n",
    "- Labor market and policies\n",
    "- Ocean freight\n",
    "- Logistics\n",
    "- Seasonality"
   ]
  },
  {
   "attachments": {},
   "cell_type": "markdown",
   "metadata": {},
   "source": [
    "### Datasets and Inputs\n",
    "_(approx. 2-3 paragraphs)_\n",
    "\n",
    "_In this section, the dataset(s) and/or input(s) being considered for the project should be thoroughly described, such as how they relate to the problem and why they should be used. Information such as how the dataset or input is (was) obtained, and the characteristics of the dataset or input, should be included with relevant references and citations as necessary It should be clear how the dataset(s) or input(s) will be used in the project and whether their use is appropriate given the context of the problem._\n",
    "\n",
    "Due to the type of industry most of the datasets and inputs are scattered in industry journals and metal exchanges. Below are some of the source of data:\n",
    "- Industry journals: Industry journals – AMM (USA), Metal Bulletin (UK)\n",
    "- Specialized web-sites such as Platts, SBB, etc.\n",
    "- IMF Primary Commodity Prices\n",
    "- Department of Commerce – Data catalog (data.gov)\n",
    "- Historical Commodity Prices (datahub.io/dataset/commodity-prices)\n",
    "- London Metal Exchange, for example: https://www.quandl.com/api/v3/datasets/LME/PR_CO?api_key=2rz93HrjCax7knFkwXAJ\n"
   ]
  },
  {
   "attachments": {},
   "cell_type": "markdown",
   "metadata": {},
   "source": [
    "### Solution Statement\n",
    "_(approx. 1 paragraph)_\n",
    "\n",
    "_In this section, clearly describe a solution to the problem. The solution should be applicable to the project domain and appropriate for the dataset(s) or input(s) given. Additionally, describe the solution thoroughly such that it is clear that the solution is quantifiable (the solution can be expressed in mathematical or logical terms) , measurable (the solution can be measured by some metric and clearly observed), and replicable (the solution can be reproduced and occurs more than once)._\n",
    "\n",
    "The problem I am trying to solve here is to develop some sort of price guidance mechanism for commodity item, in partiuclar a metal commodity product. I will be able to solve the problem is but determining correlation between various variables in order to predict a pricing trend of the commodity.\n",
    "\n",
    "Furthermore, I will use the correlation matrix and Time Series Forecasting to achieve a high accuracy on the commodity pricing in the following categories:\n",
    "- Time range\n",
    "- Region specific\n",
    "- Product category"
   ]
  },
  {
   "attachments": {},
   "cell_type": "markdown",
   "metadata": {},
   "source": [
    "### Benchmark Model\n",
    "_(approximately 1-2 paragraphs)_\n",
    "\n",
    "_In this section, provide the details for a benchmark model or result that relates to the domain, problem statement, and intended solution. Ideally, the benchmark model or result contextualizes existing methods or known information in the domain and problem given, which could then be objectively compared to the solution. Describe how the benchmark model or result is measurable (can be measured by some metric and clearly observed) with thorough detail._\n",
    "\n",
    "- Correlations generated results will be compared against historical data\n",
    "- Achieve high accuracy of the predicted prices compared of historical data\n",
    "- Attempt to predict pricing slightly better than London Metal Exchange\n",
    "\n",
    "### Evaluation Metrics\n",
    "_(approx. 1-2 paragraphs)_\n",
    "\n",
    "_In this section, propose at least one evaluation metric that can be used to quantify the performance of both the benchmark model and the solution model. The evaluation metric(s) you propose should be appropriate given the context of the data, the problem statement, and the intended solution. Describe how the evaluation metric(s) are derived and provide an example of their mathematical representations (if applicable). Complex evaluation metrics should be clearly defined and quantifiable (can be expressed in mathematical or logical terms)._\n",
    "\n",
    "Due to the nature of the datasets the evaluation metrics would be based on RMS (Root Mean Square) or similar average based mechanism. However, I will compare the acuuracy and the feature importances with historial data & other forecasting algorithms results mentioned in the project design section.\n"
   ]
  },
  {
   "attachments": {},
   "cell_type": "markdown",
   "metadata": {},
   "source": [
    "### Project Design\n",
    "_(approx. 1 page)_\n",
    "\n",
    "_In this final section, summarize a theoretical workflow for approaching a solution given the problem. Provide thorough discussion for what strategies you may consider employing, what analysis of the data might be required before being used, or which algorithms will be considered for your implementation. The workflow and discussion that you provide should align with the qualities of the previous sections. Additionally, you are encouraged to include small visualizations, pseudocode, or diagrams to aid in describing the project design, but it is not required. The discussion should clearly outline your intended workflow of the capstone project._\n",
    "\n",
    "- Importing and preprocessing the data\n",
    "> - Merge several dataset for a particular commodity from different sources\n",
    "> - Commodity monthly dataset is available from 1980-2017\n",
    "- Preparing training and test data\n",
    "> - Training & testing data split chronologically 80:20\n",
    "- Data scaling\n",
    "> - Scaling in Python using sklearn MinMaxScaler\n",
    "> - Activation functions to scale the data available\n",
    "- Techniques\n",
    "> - Use Supervised Learning & Apply Naives Bayes & Bayesian Models\n",
    "> - Apply Classifiers & Logical regression to find correlations between several impacting factors\n",
    "> - Convolution neural networks to apply differing weights for each of the features\n",
    "> - Explore Forecasting Industry Standards\n",
    ">> - Autoregressive (AR)\n",
    ">> - Moving Average (MA)\n",
    ">> - Autoregression Moving Average\n",
    "\n",
    "-----------\n",
    "\n",
    "**Before submitting your proposal, ask yourself. . .**\n",
    "\n",
    "- Does the proposal you have written follow a well-organized structure similar to that of the project template?\n",
    "- Is each section (particularly **Solution Statement** and **Project Design**) written in a clear, concise and specific fashion? Are there any ambiguous terms or phrases that need clarification?\n",
    "- Would the intended audience of your project be able to understand your proposal?\n",
    "- Have you properly proofread your proposal to assure there are minimal grammatical and spelling mistakes?\n",
    "- Are all the resources used for this project correctly cited and referenced?"
   ]
  }
 ],
 "metadata": {
  "kernelspec": {
   "display_name": "Python 3",
   "language": "python",
   "name": "python3"
  },
  "language_info": {
   "codemirror_mode": {
    "name": "ipython",
    "version": 3
   },
   "file_extension": ".py",
   "mimetype": "text/x-python",
   "name": "python",
   "nbconvert_exporter": "python",
   "pygments_lexer": "ipython3",
   "version": "3.6.4"
  }
 },
 "nbformat": 4,
 "nbformat_minor": 2
}
