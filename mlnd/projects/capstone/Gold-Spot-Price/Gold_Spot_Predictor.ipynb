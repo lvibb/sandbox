{
 "cells": [
  {
   "cell_type": "markdown",
   "metadata": {},
   "source": [
    "# Machine Learning Engineer Nanodegree\n",
    "## Capstone Project\n",
    "## Project: Gold Spot Price Predictor\n",
    "\n",
    "The challenge of this project is to accurately predict the future selling value of a given commodity across a given period of time in the future. For this project I will use a [Long Short Term Memory networks – usually just called “LSTMs”](http://colah.github.io/posts/2015-08-Understanding-LSTMs/) to predict the selling price of the [London Metal Exchange](https://www.quandl.com/data/LME-London-Metal-Exchange) using a dataset of past prices\n"
   ]
  },
  {
   "cell_type": "markdown",
   "metadata": {},
   "source": [
    "## Get the Data\n",
    "\n",
    "In the following cells we download and save the [London Metal Exchange](https://www.quandl.com/data/LME-London-Metal-Exchange).\n",
    "\n",
    "**Step 1 :** Define a function to get historical data from Quandl"
   ]
  },
  {
   "cell_type": "code",
   "execution_count": 1,
   "metadata": {
    "scrolled": true
   },
   "outputs": [],
   "source": [
    "import datetime\n",
    "import sys\n",
    "import pandas as pd # package for high-performance, easy-to-use data structures and data analysis\n",
    "from pandas.tseries.offsets import *\n",
    "import numpy as np # fundamental package for scientific computing with Python\n",
    "import math\n",
    "# Pretty display for notebooks\n",
    "%matplotlib inline\n",
    "\n",
    "import quandl\n",
    "quandl.ApiConfig.api_key = \"2rz93HrjCax7knFkwXAJ\"\n",
    "\n",
    "# Henry Hub Natural Gas Spot Price - DHHNGSP\n",
    "# Conventional Gasoline Prices: New York Harbor, Regular - DGASNYH\n",
    "# China / U.S. Foreign Exchange Rate - DEXCHUS\n",
    "# 1-Month London Interbank Offered Rate (LIBOR), based on U.S. Dollar - USD1MTD156N\n",
    "# Gold Price: London Fixing - LBMA/GOLD (https://www.quandl.com/data/LBMA/GOLD-Gold-Price-London-Fixing)\n",
    "# Silver Price: London Fixing - LBMA/SILVER (https://www.quandl.com/data/LBMA/SILVER)\n"
   ]
  },
  {
   "cell_type": "markdown",
   "metadata": {},
   "source": [
    "**Step 2:** get the data of desired features from Fred & Other sources."
   ]
  },
  {
   "cell_type": "code",
   "execution_count": 2,
   "metadata": {
    "scrolled": true
   },
   "outputs": [
    {
     "name": "stdout",
     "output_type": "stream",
     "text": [
      "         Date     Open    Close  USD1MTD156N  Silver  DGASNYH  DEXCHUS\n",
      "0  2018-06-22  1269.70  1269.15      2.09775  16.425    2.011   6.5027\n",
      "1  2018-06-21  1263.70  1266.15      2.09113  16.245    1.964   6.4900\n",
      "2  2018-06-20  1273.25  1274.20      2.08363  16.285    1.967   6.4713\n",
      "3  2018-06-19  1279.00  1276.15      2.08788  16.355    1.986   6.4802\n",
      "4  2018-06-18  1281.25  1281.55      2.08375  16.605    1.991   6.4379\n",
      "---\n",
      "            Date    Open   Close  USD1MTD156N  Silver  DGASNYH  DEXCHUS\n",
      "8360  1985-05-28  313.90  311.25       7.1875  6.1470    0.421   3.2095\n",
      "8361  1985-05-24  316.35  314.70       7.1875  6.1550    0.431   3.2159\n",
      "8362  1985-05-23  316.40  315.40       7.1875  6.2000    0.418   3.2159\n",
      "8363  1985-05-22  317.40  316.25       7.1875  6.2150    0.436   3.2233\n",
      "8364  1985-05-21  316.50  314.90       7.1250  6.5575    0.468   3.2223\n"
     ]
    },
    {
     "data": {
      "text/html": [
       "<div>\n",
       "<style scoped>\n",
       "    .dataframe tbody tr th:only-of-type {\n",
       "        vertical-align: middle;\n",
       "    }\n",
       "\n",
       "    .dataframe tbody tr th {\n",
       "        vertical-align: top;\n",
       "    }\n",
       "\n",
       "    .dataframe thead th {\n",
       "        text-align: right;\n",
       "    }\n",
       "</style>\n",
       "<table border=\"1\" class=\"dataframe\">\n",
       "  <thead>\n",
       "    <tr style=\"text-align: right;\">\n",
       "      <th></th>\n",
       "      <th>Open</th>\n",
       "      <th>Close</th>\n",
       "      <th>USD1MTD156N</th>\n",
       "      <th>Silver</th>\n",
       "      <th>DGASNYH</th>\n",
       "      <th>DEXCHUS</th>\n",
       "    </tr>\n",
       "  </thead>\n",
       "  <tbody>\n",
       "    <tr>\n",
       "      <th>count</th>\n",
       "      <td>8365.000000</td>\n",
       "      <td>8365.000000</td>\n",
       "      <td>8365.000000</td>\n",
       "      <td>8365.000000</td>\n",
       "      <td>8365.000000</td>\n",
       "      <td>8365.000000</td>\n",
       "    </tr>\n",
       "    <tr>\n",
       "      <th>mean</th>\n",
       "      <td>664.761315</td>\n",
       "      <td>659.428338</td>\n",
       "      <td>3.524909</td>\n",
       "      <td>10.607478</td>\n",
       "      <td>1.213245</td>\n",
       "      <td>6.525621</td>\n",
       "    </tr>\n",
       "    <tr>\n",
       "      <th>std</th>\n",
       "      <td>440.147029</td>\n",
       "      <td>442.213798</td>\n",
       "      <td>2.790005</td>\n",
       "      <td>8.174661</td>\n",
       "      <td>0.852358</td>\n",
       "      <td>2.043938</td>\n",
       "    </tr>\n",
       "    <tr>\n",
       "      <th>min</th>\n",
       "      <td>252.900000</td>\n",
       "      <td>0.000000</td>\n",
       "      <td>0.000000</td>\n",
       "      <td>3.547500</td>\n",
       "      <td>0.000000</td>\n",
       "      <td>0.000000</td>\n",
       "    </tr>\n",
       "    <tr>\n",
       "      <th>25%</th>\n",
       "      <td>349.000000</td>\n",
       "      <td>347.600000</td>\n",
       "      <td>0.447500</td>\n",
       "      <td>4.990000</td>\n",
       "      <td>0.546000</td>\n",
       "      <td>5.789400</td>\n",
       "    </tr>\n",
       "    <tr>\n",
       "      <th>50%</th>\n",
       "      <td>403.750000</td>\n",
       "      <td>402.450000</td>\n",
       "      <td>3.375000</td>\n",
       "      <td>6.130000</td>\n",
       "      <td>0.821000</td>\n",
       "      <td>6.826100</td>\n",
       "    </tr>\n",
       "    <tr>\n",
       "      <th>75%</th>\n",
       "      <td>1099.750000</td>\n",
       "      <td>1093.250000</td>\n",
       "      <td>5.656250</td>\n",
       "      <td>16.000000</td>\n",
       "      <td>1.829000</td>\n",
       "      <td>8.277100</td>\n",
       "    </tr>\n",
       "    <tr>\n",
       "      <th>max</th>\n",
       "      <td>1896.500000</td>\n",
       "      <td>1895.000000</td>\n",
       "      <td>10.312500</td>\n",
       "      <td>48.700000</td>\n",
       "      <td>3.665000</td>\n",
       "      <td>8.740900</td>\n",
       "    </tr>\n",
       "  </tbody>\n",
       "</table>\n",
       "</div>"
      ],
      "text/plain": [
       "              Open        Close  USD1MTD156N       Silver      DGASNYH  \\\n",
       "count  8365.000000  8365.000000  8365.000000  8365.000000  8365.000000   \n",
       "mean    664.761315   659.428338     3.524909    10.607478     1.213245   \n",
       "std     440.147029   442.213798     2.790005     8.174661     0.852358   \n",
       "min     252.900000     0.000000     0.000000     3.547500     0.000000   \n",
       "25%     349.000000   347.600000     0.447500     4.990000     0.546000   \n",
       "50%     403.750000   402.450000     3.375000     6.130000     0.821000   \n",
       "75%    1099.750000  1093.250000     5.656250    16.000000     1.829000   \n",
       "max    1896.500000  1895.000000    10.312500    48.700000     3.665000   \n",
       "\n",
       "           DEXCHUS  \n",
       "count  8365.000000  \n",
       "mean      6.525621  \n",
       "std       2.043938  \n",
       "min       0.000000  \n",
       "25%       5.789400  \n",
       "50%       6.826100  \n",
       "75%       8.277100  \n",
       "max       8.740900  "
      ]
     },
     "metadata": {},
     "output_type": "display_data"
    },
    {
     "data": {
      "text/html": [
       "<div>\n",
       "<style scoped>\n",
       "    .dataframe tbody tr th:only-of-type {\n",
       "        vertical-align: middle;\n",
       "    }\n",
       "\n",
       "    .dataframe tbody tr th {\n",
       "        vertical-align: top;\n",
       "    }\n",
       "\n",
       "    .dataframe thead th {\n",
       "        text-align: right;\n",
       "    }\n",
       "</style>\n",
       "<table border=\"1\" class=\"dataframe\">\n",
       "  <thead>\n",
       "    <tr style=\"text-align: right;\">\n",
       "      <th></th>\n",
       "      <th>Date</th>\n",
       "      <th>Open</th>\n",
       "      <th>Close</th>\n",
       "      <th>USD1MTD156N</th>\n",
       "      <th>Silver</th>\n",
       "      <th>DGASNYH</th>\n",
       "      <th>DEXCHUS</th>\n",
       "    </tr>\n",
       "  </thead>\n",
       "  <tbody>\n",
       "    <tr>\n",
       "      <th>0</th>\n",
       "      <td>2018-06-22</td>\n",
       "      <td>1269.70</td>\n",
       "      <td>1269.15</td>\n",
       "      <td>2.09775</td>\n",
       "      <td>16.425</td>\n",
       "      <td>2.011</td>\n",
       "      <td>6.5027</td>\n",
       "    </tr>\n",
       "    <tr>\n",
       "      <th>1</th>\n",
       "      <td>2018-06-21</td>\n",
       "      <td>1263.70</td>\n",
       "      <td>1266.15</td>\n",
       "      <td>2.09113</td>\n",
       "      <td>16.245</td>\n",
       "      <td>1.964</td>\n",
       "      <td>6.4900</td>\n",
       "    </tr>\n",
       "    <tr>\n",
       "      <th>2</th>\n",
       "      <td>2018-06-20</td>\n",
       "      <td>1273.25</td>\n",
       "      <td>1274.20</td>\n",
       "      <td>2.08363</td>\n",
       "      <td>16.285</td>\n",
       "      <td>1.967</td>\n",
       "      <td>6.4713</td>\n",
       "    </tr>\n",
       "  </tbody>\n",
       "</table>\n",
       "</div>"
      ],
      "text/plain": [
       "         Date     Open    Close  USD1MTD156N  Silver  DGASNYH  DEXCHUS\n",
       "0  2018-06-22  1269.70  1269.15      2.09775  16.425    2.011   6.5027\n",
       "1  2018-06-21  1263.70  1266.15      2.09113  16.245    1.964   6.4900\n",
       "2  2018-06-20  1273.25  1274.20      2.08363  16.285    1.967   6.4713"
      ]
     },
     "metadata": {},
     "output_type": "display_data"
    }
   ],
   "source": [
    "preData_gold = pd.read_csv('gold-spot-price-trim.csv')\n",
    "#Print the dataframe head and tail\n",
    "print(preData_gold.head())\n",
    "print(\"---\")\n",
    "print(preData_gold.tail())\n",
    "\n",
    "display(preData_gold.describe())\n",
    "display(preData_gold.head(n=3))"
   ]
  },
  {
   "cell_type": "markdown",
   "metadata": {},
   "source": [
    "**Step 2 :** Remove Unncessary data, i.e., Date and High value"
   ]
  },
  {
   "cell_type": "code",
   "execution_count": 3,
   "metadata": {
    "scrolled": true
   },
   "outputs": [],
   "source": [
    "preData_gold['Date'] =  pd.to_datetime(preData_gold['Date'], format='%Y-%m-%d')"
   ]
  },
  {
   "cell_type": "code",
   "execution_count": 4,
   "metadata": {
    "scrolled": true
   },
   "outputs": [],
   "source": [
    "#preData_gold['Date'].loc[preData_gold['Close']==0]"
   ]
  },
  {
   "cell_type": "code",
   "execution_count": 5,
   "metadata": {
    "scrolled": true
   },
   "outputs": [],
   "source": [
    "#preData_gold['Date'].loc[preData_gold['USD1MTD156N']==0]"
   ]
  },
  {
   "cell_type": "code",
   "execution_count": 6,
   "metadata": {
    "scrolled": true
   },
   "outputs": [],
   "source": [
    "#preData_gold['Date'].loc[preData_gold['DGASNYH']==0]"
   ]
  },
  {
   "cell_type": "code",
   "execution_count": 7,
   "metadata": {
    "scrolled": true
   },
   "outputs": [],
   "source": [
    "#preData_gold['Date'].loc[preData_gold['DEXCHUS']==0]"
   ]
  },
  {
   "cell_type": "code",
   "execution_count": 8,
   "metadata": {
    "scrolled": true
   },
   "outputs": [],
   "source": [
    "# Addressing missing values by taking average of the previous and next day value\n",
    "# Close rates\n",
    "for zer_date in preData_gold['Date'].loc[preData_gold['Close']==0]:\n",
    "    #print('Close', preData_gold.ix[preData_gold['Date']==zer_date,['Close']])\n",
    "    new_val = preData_gold['Open'].loc[preData_gold['Date']==zer_date].astype('float')\n",
    "    #print(new_val)\n",
    "    preData_gold.loc[preData_gold['Date']==zer_date,['Close']]=new_val\n",
    "    #print('Close', preData_gold.ix[preData_gold['Date']==zer_date,['Close']])\n",
    "#preData_gold.describe()"
   ]
  },
  {
   "cell_type": "code",
   "execution_count": 9,
   "metadata": {
    "scrolled": true
   },
   "outputs": [
    {
     "data": {
      "text/html": [
       "<div>\n",
       "<style scoped>\n",
       "    .dataframe tbody tr th:only-of-type {\n",
       "        vertical-align: middle;\n",
       "    }\n",
       "\n",
       "    .dataframe tbody tr th {\n",
       "        vertical-align: top;\n",
       "    }\n",
       "\n",
       "    .dataframe thead th {\n",
       "        text-align: right;\n",
       "    }\n",
       "</style>\n",
       "<table border=\"1\" class=\"dataframe\">\n",
       "  <thead>\n",
       "    <tr style=\"text-align: right;\">\n",
       "      <th></th>\n",
       "      <th>Open</th>\n",
       "      <th>Close</th>\n",
       "      <th>USD1MTD156N</th>\n",
       "      <th>Silver</th>\n",
       "      <th>DGASNYH</th>\n",
       "      <th>DEXCHUS</th>\n",
       "    </tr>\n",
       "  </thead>\n",
       "  <tbody>\n",
       "    <tr>\n",
       "      <th>count</th>\n",
       "      <td>8365.000000</td>\n",
       "      <td>8365.000000</td>\n",
       "      <td>8365.000000</td>\n",
       "      <td>8365.000000</td>\n",
       "      <td>8365.000000</td>\n",
       "      <td>8365.000000</td>\n",
       "    </tr>\n",
       "    <tr>\n",
       "      <th>mean</th>\n",
       "      <td>664.761315</td>\n",
       "      <td>664.540281</td>\n",
       "      <td>3.685878</td>\n",
       "      <td>10.607478</td>\n",
       "      <td>1.213245</td>\n",
       "      <td>6.525621</td>\n",
       "    </tr>\n",
       "    <tr>\n",
       "      <th>std</th>\n",
       "      <td>440.147029</td>\n",
       "      <td>439.977364</td>\n",
       "      <td>2.843177</td>\n",
       "      <td>8.174661</td>\n",
       "      <td>0.852358</td>\n",
       "      <td>2.043938</td>\n",
       "    </tr>\n",
       "    <tr>\n",
       "      <th>min</th>\n",
       "      <td>252.900000</td>\n",
       "      <td>252.800000</td>\n",
       "      <td>0.147750</td>\n",
       "      <td>3.547500</td>\n",
       "      <td>0.000000</td>\n",
       "      <td>0.000000</td>\n",
       "    </tr>\n",
       "    <tr>\n",
       "      <th>25%</th>\n",
       "      <td>349.000000</td>\n",
       "      <td>349.000000</td>\n",
       "      <td>0.767780</td>\n",
       "      <td>4.990000</td>\n",
       "      <td>0.546000</td>\n",
       "      <td>5.789400</td>\n",
       "    </tr>\n",
       "    <tr>\n",
       "      <th>50%</th>\n",
       "      <td>403.750000</td>\n",
       "      <td>403.950000</td>\n",
       "      <td>3.687500</td>\n",
       "      <td>6.130000</td>\n",
       "      <td>0.821000</td>\n",
       "      <td>6.826100</td>\n",
       "    </tr>\n",
       "    <tr>\n",
       "      <th>75%</th>\n",
       "      <td>1099.750000</td>\n",
       "      <td>1100.000000</td>\n",
       "      <td>5.687500</td>\n",
       "      <td>16.000000</td>\n",
       "      <td>1.829000</td>\n",
       "      <td>8.277100</td>\n",
       "    </tr>\n",
       "    <tr>\n",
       "      <th>max</th>\n",
       "      <td>1896.500000</td>\n",
       "      <td>1895.000000</td>\n",
       "      <td>20.375000</td>\n",
       "      <td>48.700000</td>\n",
       "      <td>3.665000</td>\n",
       "      <td>8.740900</td>\n",
       "    </tr>\n",
       "  </tbody>\n",
       "</table>\n",
       "</div>"
      ],
      "text/plain": [
       "              Open        Close  USD1MTD156N       Silver      DGASNYH  \\\n",
       "count  8365.000000  8365.000000  8365.000000  8365.000000  8365.000000   \n",
       "mean    664.761315   664.540281     3.685878    10.607478     1.213245   \n",
       "std     440.147029   439.977364     2.843177     8.174661     0.852358   \n",
       "min     252.900000   252.800000     0.147750     3.547500     0.000000   \n",
       "25%     349.000000   349.000000     0.767780     4.990000     0.546000   \n",
       "50%     403.750000   403.950000     3.687500     6.130000     0.821000   \n",
       "75%    1099.750000  1100.000000     5.687500    16.000000     1.829000   \n",
       "max    1896.500000  1895.000000    20.375000    48.700000     3.665000   \n",
       "\n",
       "           DEXCHUS  \n",
       "count  8365.000000  \n",
       "mean      6.525621  \n",
       "std       2.043938  \n",
       "min       0.000000  \n",
       "25%       5.789400  \n",
       "50%       6.826100  \n",
       "75%       8.277100  \n",
       "max       8.740900  "
      ]
     },
     "execution_count": 9,
     "metadata": {},
     "output_type": "execute_result"
    }
   ],
   "source": [
    "# Addressing missing values by taking average of the previous and next day value\n",
    "# LIBOR rates: USD1MTD156N\n",
    "for zer_date in preData_gold['Date'].loc[preData_gold['USD1MTD156N']==0]:\n",
    "    curr_val = preData_gold['USD1MTD156N'].loc[preData_gold['Date']==zer_date]\n",
    "    prev_val = preData_gold['USD1MTD156N'].loc[preData_gold['Date']==(zer_date - pd.DateOffset(days=1))]\n",
    "    next_val = preData_gold['USD1MTD156N'].loc[preData_gold['Date']==(zer_date + pd.DateOffset(days=1))]\n",
    "    fix_val = preData_gold['USD1MTD156N'].loc[preData_gold['Date']==(zer_date + pd.DateOffset(days=3))]\n",
    "    if next_val.empty:\n",
    "        #next day is empty\n",
    "        if prev_val.empty: \n",
    "            # previous day is empty\n",
    "            # both past and future day has no value, assigned past 3 day value\n",
    "            #print (zer_date, 'both past and future day has no value', float(fix_val.astype('float')))\n",
    "            new_val = float(fix_val.astype('float'))\n",
    "        else:\n",
    "            #previous day value should be assigned to current day\n",
    "            #print (zer_date, 'previous date', float(prev_val.astype('float')))\n",
    "            if float(prev_val.astype('float')) == 0:\n",
    "                new_val = float(fix_val.astype('float'))\n",
    "            else:\n",
    "                new_val = float(prev_val.astype('float'))\n",
    "    else:\n",
    "        #next day is not empty\n",
    "        if prev_val.empty: #previous day is empty\n",
    "            # future day has value, past date does not\n",
    "            #print (zer_date, 'next date', float(next_val.astype('float')))\n",
    "            if float(next_val.astype('float')) == 0:\n",
    "                new_val = float(fix_val.astype('float'))\n",
    "            else:\n",
    "                new_val = float(next_val.astype('float'))\n",
    "        else: \n",
    "            #both future and past date has value so the average should be assigned\n",
    "            #print (zer_date, 'average', float(next_val.astype('float'))+float(prev_val.astype('float')))\n",
    "            new_val = float(next_val.astype('float'))+float(prev_val.astype('float'))\n",
    "    preData_gold.loc[preData_gold['Date']==zer_date,['USD1MTD156N']]=new_val\n",
    "    \n",
    "preData_gold.describe()"
   ]
  },
  {
   "cell_type": "code",
   "execution_count": 10,
   "metadata": {
    "scrolled": true
   },
   "outputs": [
    {
     "data": {
      "text/html": [
       "<div>\n",
       "<style scoped>\n",
       "    .dataframe tbody tr th:only-of-type {\n",
       "        vertical-align: middle;\n",
       "    }\n",
       "\n",
       "    .dataframe tbody tr th {\n",
       "        vertical-align: top;\n",
       "    }\n",
       "\n",
       "    .dataframe thead th {\n",
       "        text-align: right;\n",
       "    }\n",
       "</style>\n",
       "<table border=\"1\" class=\"dataframe\">\n",
       "  <thead>\n",
       "    <tr style=\"text-align: right;\">\n",
       "      <th></th>\n",
       "      <th>Open</th>\n",
       "      <th>Close</th>\n",
       "      <th>USD1MTD156N</th>\n",
       "      <th>Silver</th>\n",
       "      <th>DGASNYH</th>\n",
       "      <th>DEXCHUS</th>\n",
       "    </tr>\n",
       "  </thead>\n",
       "  <tbody>\n",
       "    <tr>\n",
       "      <th>count</th>\n",
       "      <td>8365.000000</td>\n",
       "      <td>8365.000000</td>\n",
       "      <td>8365.000000</td>\n",
       "      <td>8365.000000</td>\n",
       "      <td>8357.000000</td>\n",
       "      <td>8365.000000</td>\n",
       "    </tr>\n",
       "    <tr>\n",
       "      <th>mean</th>\n",
       "      <td>664.761315</td>\n",
       "      <td>664.540281</td>\n",
       "      <td>3.685878</td>\n",
       "      <td>10.607478</td>\n",
       "      <td>1.282690</td>\n",
       "      <td>6.525621</td>\n",
       "    </tr>\n",
       "    <tr>\n",
       "      <th>std</th>\n",
       "      <td>440.147029</td>\n",
       "      <td>439.977364</td>\n",
       "      <td>2.843177</td>\n",
       "      <td>8.174661</td>\n",
       "      <td>0.880048</td>\n",
       "      <td>2.043938</td>\n",
       "    </tr>\n",
       "    <tr>\n",
       "      <th>min</th>\n",
       "      <td>252.900000</td>\n",
       "      <td>252.800000</td>\n",
       "      <td>0.147750</td>\n",
       "      <td>3.547500</td>\n",
       "      <td>0.290000</td>\n",
       "      <td>0.000000</td>\n",
       "    </tr>\n",
       "    <tr>\n",
       "      <th>25%</th>\n",
       "      <td>349.000000</td>\n",
       "      <td>349.000000</td>\n",
       "      <td>0.767780</td>\n",
       "      <td>4.990000</td>\n",
       "      <td>0.566000</td>\n",
       "      <td>5.789400</td>\n",
       "    </tr>\n",
       "    <tr>\n",
       "      <th>50%</th>\n",
       "      <td>403.750000</td>\n",
       "      <td>403.950000</td>\n",
       "      <td>3.687500</td>\n",
       "      <td>6.130000</td>\n",
       "      <td>0.885000</td>\n",
       "      <td>6.826100</td>\n",
       "    </tr>\n",
       "    <tr>\n",
       "      <th>75%</th>\n",
       "      <td>1099.750000</td>\n",
       "      <td>1100.000000</td>\n",
       "      <td>5.687500</td>\n",
       "      <td>16.000000</td>\n",
       "      <td>1.888000</td>\n",
       "      <td>8.277100</td>\n",
       "    </tr>\n",
       "    <tr>\n",
       "      <th>max</th>\n",
       "      <td>1896.500000</td>\n",
       "      <td>1895.000000</td>\n",
       "      <td>20.375000</td>\n",
       "      <td>48.700000</td>\n",
       "      <td>6.700000</td>\n",
       "      <td>8.740900</td>\n",
       "    </tr>\n",
       "  </tbody>\n",
       "</table>\n",
       "</div>"
      ],
      "text/plain": [
       "              Open        Close  USD1MTD156N       Silver      DGASNYH  \\\n",
       "count  8365.000000  8365.000000  8365.000000  8365.000000  8357.000000   \n",
       "mean    664.761315   664.540281     3.685878    10.607478     1.282690   \n",
       "std     440.147029   439.977364     2.843177     8.174661     0.880048   \n",
       "min     252.900000   252.800000     0.147750     3.547500     0.290000   \n",
       "25%     349.000000   349.000000     0.767780     4.990000     0.566000   \n",
       "50%     403.750000   403.950000     3.687500     6.130000     0.885000   \n",
       "75%    1099.750000  1100.000000     5.687500    16.000000     1.888000   \n",
       "max    1896.500000  1895.000000    20.375000    48.700000     6.700000   \n",
       "\n",
       "           DEXCHUS  \n",
       "count  8365.000000  \n",
       "mean      6.525621  \n",
       "std       2.043938  \n",
       "min       0.000000  \n",
       "25%       5.789400  \n",
       "50%       6.826100  \n",
       "75%       8.277100  \n",
       "max       8.740900  "
      ]
     },
     "execution_count": 10,
     "metadata": {},
     "output_type": "execute_result"
    }
   ],
   "source": [
    "# Addressing missing values by taking average of the previous and next day value\n",
    "# Gasoline rates: DGASNYH\n",
    "for zer_date in preData_gold['Date'].loc[preData_gold['DGASNYH']==0]:\n",
    "    curr_val = preData_gold['DGASNYH'].loc[preData_gold['Date']==zer_date]\n",
    "    prev_val = preData_gold['DGASNYH'].loc[preData_gold['Date']==(zer_date - pd.DateOffset(days=1))]\n",
    "    next_val = preData_gold['DGASNYH'].loc[preData_gold['Date']==(zer_date + pd.DateOffset(days=1))]\n",
    "    fix_val = preData_gold['DGASNYH'].loc[preData_gold['Date']==(zer_date + pd.DateOffset(days=3))]\n",
    "    if next_val.empty:\n",
    "        #next day is empty\n",
    "        if prev_val.empty: \n",
    "            # previous day is empty\n",
    "            # both past and future day has no value, assigned past 3 day value\n",
    "            #print (zer_date, 'both past and future day has no value', float(fix_val.astype('float')))\n",
    "            new_val = float(fix_val.astype('float'))\n",
    "        else:\n",
    "            #previous day value should be assigned to current day\n",
    "            #print (zer_date, 'previous date', float(prev_val.astype('float')))\n",
    "            if float(prev_val.astype('float')) == 0:\n",
    "                new_val = fix_val.astype('float')\n",
    "            else:\n",
    "                new_val = float(prev_val.astype('float'))\n",
    "    else:\n",
    "        #next day is not empty\n",
    "        if prev_val.empty: #previous day is empty\n",
    "            # future day has value, past date does not\n",
    "            #print (zer_date, 'next date', float(next_val.astype('float')))\n",
    "            if float(next_val.astype('float')) == 0:\n",
    "                new_val = float(fix_val.astype('float'))\n",
    "            else:\n",
    "                new_val = float(next_val.astype('float'))\n",
    "        else: \n",
    "            #both future and past date has value so the average should be assigned\n",
    "            #print (zer_date, 'average', float(next_val.astype('float'))+float(prev_val.astype('float')))\n",
    "            new_val = float(next_val.astype('float'))+float(prev_val.astype('float'))\n",
    "    preData_gold.loc[preData_gold['Date']==zer_date,['DGASNYH']]=new_val\n",
    "    \n",
    "preData_gold.describe()"
   ]
  },
  {
   "cell_type": "code",
   "execution_count": 11,
   "metadata": {
    "scrolled": true
   },
   "outputs": [
    {
     "data": {
      "text/html": [
       "<div>\n",
       "<style scoped>\n",
       "    .dataframe tbody tr th:only-of-type {\n",
       "        vertical-align: middle;\n",
       "    }\n",
       "\n",
       "    .dataframe tbody tr th {\n",
       "        vertical-align: top;\n",
       "    }\n",
       "\n",
       "    .dataframe thead th {\n",
       "        text-align: right;\n",
       "    }\n",
       "</style>\n",
       "<table border=\"1\" class=\"dataframe\">\n",
       "  <thead>\n",
       "    <tr style=\"text-align: right;\">\n",
       "      <th></th>\n",
       "      <th>Open</th>\n",
       "      <th>Close</th>\n",
       "      <th>USD1MTD156N</th>\n",
       "      <th>Silver</th>\n",
       "      <th>DGASNYH</th>\n",
       "      <th>DEXCHUS</th>\n",
       "    </tr>\n",
       "  </thead>\n",
       "  <tbody>\n",
       "    <tr>\n",
       "      <th>count</th>\n",
       "      <td>8365.000000</td>\n",
       "      <td>8365.000000</td>\n",
       "      <td>8365.000000</td>\n",
       "      <td>8365.000000</td>\n",
       "      <td>8357.000000</td>\n",
       "      <td>8346.000000</td>\n",
       "    </tr>\n",
       "    <tr>\n",
       "      <th>mean</th>\n",
       "      <td>664.761315</td>\n",
       "      <td>664.540281</td>\n",
       "      <td>3.685878</td>\n",
       "      <td>10.607478</td>\n",
       "      <td>1.282690</td>\n",
       "      <td>6.970068</td>\n",
       "    </tr>\n",
       "    <tr>\n",
       "      <th>std</th>\n",
       "      <td>440.147029</td>\n",
       "      <td>439.977364</td>\n",
       "      <td>2.843177</td>\n",
       "      <td>8.174661</td>\n",
       "      <td>0.880048</td>\n",
       "      <td>1.848930</td>\n",
       "    </tr>\n",
       "    <tr>\n",
       "      <th>min</th>\n",
       "      <td>252.900000</td>\n",
       "      <td>252.800000</td>\n",
       "      <td>0.147750</td>\n",
       "      <td>3.547500</td>\n",
       "      <td>0.290000</td>\n",
       "      <td>3.202500</td>\n",
       "    </tr>\n",
       "    <tr>\n",
       "      <th>25%</th>\n",
       "      <td>349.000000</td>\n",
       "      <td>349.000000</td>\n",
       "      <td>0.767780</td>\n",
       "      <td>4.990000</td>\n",
       "      <td>0.566000</td>\n",
       "      <td>6.127625</td>\n",
       "    </tr>\n",
       "    <tr>\n",
       "      <th>50%</th>\n",
       "      <td>403.750000</td>\n",
       "      <td>403.950000</td>\n",
       "      <td>3.687500</td>\n",
       "      <td>6.130000</td>\n",
       "      <td>0.885000</td>\n",
       "      <td>6.834200</td>\n",
       "    </tr>\n",
       "    <tr>\n",
       "      <th>75%</th>\n",
       "      <td>1099.750000</td>\n",
       "      <td>1100.000000</td>\n",
       "      <td>5.687500</td>\n",
       "      <td>16.000000</td>\n",
       "      <td>1.888000</td>\n",
       "      <td>8.277300</td>\n",
       "    </tr>\n",
       "    <tr>\n",
       "      <th>max</th>\n",
       "      <td>1896.500000</td>\n",
       "      <td>1895.000000</td>\n",
       "      <td>20.375000</td>\n",
       "      <td>48.700000</td>\n",
       "      <td>6.700000</td>\n",
       "      <td>17.443400</td>\n",
       "    </tr>\n",
       "  </tbody>\n",
       "</table>\n",
       "</div>"
      ],
      "text/plain": [
       "              Open        Close  USD1MTD156N       Silver      DGASNYH  \\\n",
       "count  8365.000000  8365.000000  8365.000000  8365.000000  8357.000000   \n",
       "mean    664.761315   664.540281     3.685878    10.607478     1.282690   \n",
       "std     440.147029   439.977364     2.843177     8.174661     0.880048   \n",
       "min     252.900000   252.800000     0.147750     3.547500     0.290000   \n",
       "25%     349.000000   349.000000     0.767780     4.990000     0.566000   \n",
       "50%     403.750000   403.950000     3.687500     6.130000     0.885000   \n",
       "75%    1099.750000  1100.000000     5.687500    16.000000     1.888000   \n",
       "max    1896.500000  1895.000000    20.375000    48.700000     6.700000   \n",
       "\n",
       "           DEXCHUS  \n",
       "count  8346.000000  \n",
       "mean      6.970068  \n",
       "std       1.848930  \n",
       "min       3.202500  \n",
       "25%       6.127625  \n",
       "50%       6.834200  \n",
       "75%       8.277300  \n",
       "max      17.443400  "
      ]
     },
     "execution_count": 11,
     "metadata": {},
     "output_type": "execute_result"
    }
   ],
   "source": [
    "# Addressing missing values by taking average of the previous and next day value\n",
    "# China/USD ForEx rates: DEXCHUS\n",
    "for zer_date in preData_gold['Date'].loc[preData_gold['DEXCHUS']==0]:\n",
    "    curr_val = preData_gold['DEXCHUS'].loc[preData_gold['Date']==zer_date]\n",
    "    prev_val = preData_gold['DEXCHUS'].loc[preData_gold['Date']==(zer_date - pd.DateOffset(days=1))]\n",
    "    next_val = preData_gold['DEXCHUS'].loc[preData_gold['Date']==(zer_date + pd.DateOffset(days=1))]\n",
    "    fix_val = preData_gold['DEXCHUS'].loc[preData_gold['Date']==(zer_date + pd.DateOffset(days=5))]\n",
    "    if next_val.empty:\n",
    "        #next day is empty\n",
    "        if prev_val.empty: \n",
    "            # previous day is empty\n",
    "            # both past and future day has no value, assigned past 3 day value\n",
    "            #print (zer_date, 'both past and future day has no value', fix_val.astype('float'))\n",
    "            new_val = fix_val.astype('float')\n",
    "        else:\n",
    "            #previous day value should be assigned to current day\n",
    "            #print (zer_date, 'previous date', float(prev_val.astype('float')))\n",
    "            if float(prev_val.astype('float')) == 0:\n",
    "                new_val = fix_val.astype('float')\n",
    "            else:\n",
    "                new_val = float(prev_val.astype('float'))\n",
    "    else:\n",
    "        #next day is not empty\n",
    "        if prev_val.empty: #previous day is empty\n",
    "            # future day has value, past date does not\n",
    "            #print (zer_date, 'next date', float(next_val.astype('float')))\n",
    "            if float(next_val.astype('float')) == 0:\n",
    "                new_val = float(fix_val.astype('float'))\n",
    "            else:\n",
    "                new_val = float(next_val.astype('float'))\n",
    "        else: \n",
    "            #both future and past date has value so the average should be assigned\n",
    "            #print (zer_date, 'average', float(next_val.astype('float'))+float(prev_val.astype('float')))\n",
    "            new_val = float(next_val.astype('float'))+float(prev_val.astype('float'))\n",
    "    preData_gold.loc[preData_gold['Date']==zer_date,['DEXCHUS']]=new_val\n",
    "    \n",
    "preData_gold.describe()"
   ]
  },
  {
   "cell_type": "code",
   "execution_count": 12,
   "metadata": {
    "scrolled": true
   },
   "outputs": [
    {
     "data": {
      "text/html": [
       "<div>\n",
       "<style scoped>\n",
       "    .dataframe tbody tr th:only-of-type {\n",
       "        vertical-align: middle;\n",
       "    }\n",
       "\n",
       "    .dataframe tbody tr th {\n",
       "        vertical-align: top;\n",
       "    }\n",
       "\n",
       "    .dataframe thead th {\n",
       "        text-align: right;\n",
       "    }\n",
       "</style>\n",
       "<table border=\"1\" class=\"dataframe\">\n",
       "  <thead>\n",
       "    <tr style=\"text-align: right;\">\n",
       "      <th></th>\n",
       "      <th>Open</th>\n",
       "      <th>Close</th>\n",
       "      <th>USD1MTD156N</th>\n",
       "      <th>Silver</th>\n",
       "      <th>DGASNYH</th>\n",
       "      <th>DEXCHUS</th>\n",
       "    </tr>\n",
       "  </thead>\n",
       "  <tbody>\n",
       "    <tr>\n",
       "      <th>count</th>\n",
       "      <td>8365.000000</td>\n",
       "      <td>8365.000000</td>\n",
       "      <td>8365.000000</td>\n",
       "      <td>8365.000000</td>\n",
       "      <td>8357.000000</td>\n",
       "      <td>8346.000000</td>\n",
       "    </tr>\n",
       "    <tr>\n",
       "      <th>mean</th>\n",
       "      <td>664.761315</td>\n",
       "      <td>664.540281</td>\n",
       "      <td>3.685878</td>\n",
       "      <td>10.607478</td>\n",
       "      <td>1.282690</td>\n",
       "      <td>6.970068</td>\n",
       "    </tr>\n",
       "    <tr>\n",
       "      <th>std</th>\n",
       "      <td>440.147029</td>\n",
       "      <td>439.977364</td>\n",
       "      <td>2.843177</td>\n",
       "      <td>8.174661</td>\n",
       "      <td>0.880048</td>\n",
       "      <td>1.848930</td>\n",
       "    </tr>\n",
       "    <tr>\n",
       "      <th>min</th>\n",
       "      <td>252.900000</td>\n",
       "      <td>252.800000</td>\n",
       "      <td>0.147750</td>\n",
       "      <td>3.547500</td>\n",
       "      <td>0.290000</td>\n",
       "      <td>3.202500</td>\n",
       "    </tr>\n",
       "    <tr>\n",
       "      <th>25%</th>\n",
       "      <td>349.000000</td>\n",
       "      <td>349.000000</td>\n",
       "      <td>0.767780</td>\n",
       "      <td>4.990000</td>\n",
       "      <td>0.566000</td>\n",
       "      <td>6.127625</td>\n",
       "    </tr>\n",
       "    <tr>\n",
       "      <th>50%</th>\n",
       "      <td>403.750000</td>\n",
       "      <td>403.950000</td>\n",
       "      <td>3.687500</td>\n",
       "      <td>6.130000</td>\n",
       "      <td>0.885000</td>\n",
       "      <td>6.834200</td>\n",
       "    </tr>\n",
       "    <tr>\n",
       "      <th>75%</th>\n",
       "      <td>1099.750000</td>\n",
       "      <td>1100.000000</td>\n",
       "      <td>5.687500</td>\n",
       "      <td>16.000000</td>\n",
       "      <td>1.888000</td>\n",
       "      <td>8.277300</td>\n",
       "    </tr>\n",
       "    <tr>\n",
       "      <th>max</th>\n",
       "      <td>1896.500000</td>\n",
       "      <td>1895.000000</td>\n",
       "      <td>20.375000</td>\n",
       "      <td>48.700000</td>\n",
       "      <td>6.700000</td>\n",
       "      <td>17.443400</td>\n",
       "    </tr>\n",
       "  </tbody>\n",
       "</table>\n",
       "</div>"
      ],
      "text/plain": [
       "              Open        Close  USD1MTD156N       Silver      DGASNYH  \\\n",
       "count  8365.000000  8365.000000  8365.000000  8365.000000  8357.000000   \n",
       "mean    664.761315   664.540281     3.685878    10.607478     1.282690   \n",
       "std     440.147029   439.977364     2.843177     8.174661     0.880048   \n",
       "min     252.900000   252.800000     0.147750     3.547500     0.290000   \n",
       "25%     349.000000   349.000000     0.767780     4.990000     0.566000   \n",
       "50%     403.750000   403.950000     3.687500     6.130000     0.885000   \n",
       "75%    1099.750000  1100.000000     5.687500    16.000000     1.888000   \n",
       "max    1896.500000  1895.000000    20.375000    48.700000     6.700000   \n",
       "\n",
       "           DEXCHUS  \n",
       "count  8346.000000  \n",
       "mean      6.970068  \n",
       "std       1.848930  \n",
       "min       3.202500  \n",
       "25%       6.127625  \n",
       "50%       6.834200  \n",
       "75%       8.277300  \n",
       "max      17.443400  "
      ]
     },
     "execution_count": 12,
     "metadata": {},
     "output_type": "execute_result"
    }
   ],
   "source": [
    "preData_gold.describe()"
   ]
  },
  {
   "cell_type": "markdown",
   "metadata": {},
   "source": [
    "**Step 3:** Write the data to a csv file."
   ]
  },
  {
   "cell_type": "code",
   "execution_count": 13,
   "metadata": {
    "scrolled": true
   },
   "outputs": [],
   "source": [
    "preData_gold.to_csv('gold-spot-price-post-trim.csv')"
   ]
  },
  {
   "cell_type": "markdown",
   "metadata": {},
   "source": [
    "# Check Point #1\n",
    "\n",
    "This is my first checkpoint. The data has been saved to disk."
   ]
  },
  {
   "cell_type": "markdown",
   "metadata": {},
   "source": [
    "## Preprocess the data\n",
    "\n",
    "Now it is time to preprocess the data. In the following cells we will normalise it for better prediction of data.\n",
    "\n",
    "**Step 1 :** Get the data from csv file."
   ]
  },
  {
   "cell_type": "code",
   "execution_count": 14,
   "metadata": {
    "scrolled": true
   },
   "outputs": [
    {
     "data": {
      "text/html": [
       "<div>\n",
       "<style scoped>\n",
       "    .dataframe tbody tr th:only-of-type {\n",
       "        vertical-align: middle;\n",
       "    }\n",
       "\n",
       "    .dataframe tbody tr th {\n",
       "        vertical-align: top;\n",
       "    }\n",
       "\n",
       "    .dataframe thead th {\n",
       "        text-align: right;\n",
       "    }\n",
       "</style>\n",
       "<table border=\"1\" class=\"dataframe\">\n",
       "  <thead>\n",
       "    <tr style=\"text-align: right;\">\n",
       "      <th></th>\n",
       "      <th>Unnamed: 0</th>\n",
       "      <th>Date</th>\n",
       "      <th>Open</th>\n",
       "      <th>Close</th>\n",
       "      <th>USD1MTD156N</th>\n",
       "      <th>Silver</th>\n",
       "      <th>DGASNYH</th>\n",
       "      <th>DEXCHUS</th>\n",
       "    </tr>\n",
       "  </thead>\n",
       "  <tbody>\n",
       "    <tr>\n",
       "      <th>0</th>\n",
       "      <td>0</td>\n",
       "      <td>2018-06-22</td>\n",
       "      <td>1269.70</td>\n",
       "      <td>1269.15</td>\n",
       "      <td>2.09775</td>\n",
       "      <td>16.425</td>\n",
       "      <td>2.011</td>\n",
       "      <td>6.5027</td>\n",
       "    </tr>\n",
       "    <tr>\n",
       "      <th>1</th>\n",
       "      <td>1</td>\n",
       "      <td>2018-06-21</td>\n",
       "      <td>1263.70</td>\n",
       "      <td>1266.15</td>\n",
       "      <td>2.09113</td>\n",
       "      <td>16.245</td>\n",
       "      <td>1.964</td>\n",
       "      <td>6.4900</td>\n",
       "    </tr>\n",
       "    <tr>\n",
       "      <th>2</th>\n",
       "      <td>2</td>\n",
       "      <td>2018-06-20</td>\n",
       "      <td>1273.25</td>\n",
       "      <td>1274.20</td>\n",
       "      <td>2.08363</td>\n",
       "      <td>16.285</td>\n",
       "      <td>1.967</td>\n",
       "      <td>6.4713</td>\n",
       "    </tr>\n",
       "  </tbody>\n",
       "</table>\n",
       "</div>"
      ],
      "text/plain": [
       "   Unnamed: 0        Date     Open    Close  USD1MTD156N  Silver  DGASNYH  \\\n",
       "0           0  2018-06-22  1269.70  1269.15      2.09775  16.425    2.011   \n",
       "1           1  2018-06-21  1263.70  1266.15      2.09113  16.245    1.964   \n",
       "2           2  2018-06-20  1273.25  1274.20      2.08363  16.285    1.967   \n",
       "\n",
       "   DEXCHUS  \n",
       "0   6.5027  \n",
       "1   6.4900  \n",
       "2   6.4713  "
      ]
     },
     "execution_count": 14,
     "metadata": {},
     "output_type": "execute_result"
    }
   ],
   "source": [
    "postData_gold = pd.read_csv('gold-spot-price-post-trim.csv')\n",
    "postData_gold.head(n=3)"
   ]
  },
  {
   "cell_type": "code",
   "execution_count": 15,
   "metadata": {},
   "outputs": [
    {
     "data": {
      "text/html": [
       "<div>\n",
       "<style scoped>\n",
       "    .dataframe tbody tr th:only-of-type {\n",
       "        vertical-align: middle;\n",
       "    }\n",
       "\n",
       "    .dataframe tbody tr th {\n",
       "        vertical-align: top;\n",
       "    }\n",
       "\n",
       "    .dataframe thead th {\n",
       "        text-align: right;\n",
       "    }\n",
       "</style>\n",
       "<table border=\"1\" class=\"dataframe\">\n",
       "  <thead>\n",
       "    <tr style=\"text-align: right;\">\n",
       "      <th></th>\n",
       "      <th>Unnamed: 0</th>\n",
       "      <th>Date</th>\n",
       "      <th>Open</th>\n",
       "      <th>Close</th>\n",
       "      <th>USD1MTD156N</th>\n",
       "      <th>Silver</th>\n",
       "      <th>DGASNYH</th>\n",
       "      <th>DEXCHUS</th>\n",
       "    </tr>\n",
       "  </thead>\n",
       "  <tbody>\n",
       "    <tr>\n",
       "      <th>8362</th>\n",
       "      <td>8362</td>\n",
       "      <td>1985-05-23</td>\n",
       "      <td>316.4</td>\n",
       "      <td>315.40</td>\n",
       "      <td>7.1875</td>\n",
       "      <td>6.2000</td>\n",
       "      <td>0.418</td>\n",
       "      <td>3.2159</td>\n",
       "    </tr>\n",
       "    <tr>\n",
       "      <th>8363</th>\n",
       "      <td>8363</td>\n",
       "      <td>1985-05-22</td>\n",
       "      <td>317.4</td>\n",
       "      <td>316.25</td>\n",
       "      <td>7.1875</td>\n",
       "      <td>6.2150</td>\n",
       "      <td>0.436</td>\n",
       "      <td>3.2233</td>\n",
       "    </tr>\n",
       "    <tr>\n",
       "      <th>8364</th>\n",
       "      <td>8364</td>\n",
       "      <td>1985-05-21</td>\n",
       "      <td>316.5</td>\n",
       "      <td>314.90</td>\n",
       "      <td>7.1250</td>\n",
       "      <td>6.5575</td>\n",
       "      <td>0.468</td>\n",
       "      <td>3.2223</td>\n",
       "    </tr>\n",
       "  </tbody>\n",
       "</table>\n",
       "</div>"
      ],
      "text/plain": [
       "      Unnamed: 0        Date   Open   Close  USD1MTD156N  Silver  DGASNYH  \\\n",
       "8362        8362  1985-05-23  316.4  315.40       7.1875  6.2000    0.418   \n",
       "8363        8363  1985-05-22  317.4  316.25       7.1875  6.2150    0.436   \n",
       "8364        8364  1985-05-21  316.5  314.90       7.1250  6.5575    0.468   \n",
       "\n",
       "      DEXCHUS  \n",
       "8362   3.2159  \n",
       "8363   3.2233  \n",
       "8364   3.2223  "
      ]
     },
     "execution_count": 15,
     "metadata": {},
     "output_type": "execute_result"
    }
   ],
   "source": [
    "postData_gold.tail(n=3)"
   ]
  },
  {
   "cell_type": "code",
   "execution_count": 16,
   "metadata": {
    "scrolled": true
   },
   "outputs": [
    {
     "name": "stdout",
     "output_type": "stream",
     "text": [
      "\n",
      "\n",
      "Open   --- mean : 664.761315002987   \t Std:  440.12071981417347   \t Max:  1896.5   \t Min:  252.9\n",
      "Close   --- mean : 664.5402809324593   \t Std:  439.9510645612627   \t Max:  1895.0   \t Min:  252.8\n",
      "LIBOR    --- mean : 3.6858779665272166   \t Std:  2.8430073213796803   \t Max:  20.375   \t Min:  0.14775\n",
      "Silver  --- mean : 10.60747782426781   \t Std:  8.174172303232494   \t Max:  48.7   \t Min:  3.5475\n",
      "Gasoline --- mean : 1.2826898408519796   \t Std:  0.8799953204638296   \t Max:  6.7   \t Min:  0.29\n",
      "China/US Forex --- mean : 6.970068236280486   \t Std:  1.8488191949733694   \t Max:  17.4434   \t Min:  3.2025\n"
     ]
    }
   ],
   "source": [
    "print(\"\\n\")\n",
    "print(\"Open   --- mean :\", np.mean(preData_gold['Open']),  \"  \\t Std: \", np.std(preData_gold['Open']),  \"  \\t Max: \", np.max(preData_gold['Open']),  \"  \\t Min: \", np.min(preData_gold['Open']))\n",
    "print(\"Close   --- mean :\", np.mean(preData_gold['Close']),  \"  \\t Std: \", np.std(preData_gold['Close']),  \"  \\t Max: \", np.max(preData_gold['Close']),  \"  \\t Min: \", np.min(preData_gold['Close']))\n",
    "print(\"LIBOR    --- mean :\", np.mean(preData_gold['USD1MTD156N']),   \"  \\t Std: \", np.std(preData_gold['USD1MTD156N']),   \"  \\t Max: \", np.max(preData_gold['USD1MTD156N']),   \"  \\t Min: \", np.min(preData_gold['USD1MTD156N']))\n",
    "print(\"Silver  --- mean :\", np.mean(preData_gold['Silver']), \"  \\t Std: \", np.std(preData_gold['Silver']), \"  \\t Max: \", np.max(preData_gold['Silver']), \"  \\t Min: \", np.min(preData_gold['Silver']))\n",
    "print(\"Gasoline --- mean :\", np.mean(preData_gold['DGASNYH']),\"  \\t Std: \", np.std(preData_gold['DGASNYH']),\"  \\t Max: \", np.max(preData_gold['DGASNYH']),\"  \\t Min: \", np.min(preData_gold['DGASNYH']))\n",
    "print(\"China/US Forex --- mean :\", np.mean(preData_gold['DEXCHUS']),\"  \\t Std: \", np.std(preData_gold['DEXCHUS']),\"  \\t Max: \", np.max(preData_gold['DEXCHUS']),\"  \\t Min: \", np.min(preData_gold['DEXCHUS']))"
   ]
  },
  {
   "cell_type": "code",
   "execution_count": 17,
   "metadata": {
    "scrolled": false
   },
   "outputs": [
    {
     "data": {
      "text/html": [
       "<div>\n",
       "<style scoped>\n",
       "    .dataframe tbody tr th:only-of-type {\n",
       "        vertical-align: middle;\n",
       "    }\n",
       "\n",
       "    .dataframe tbody tr th {\n",
       "        vertical-align: top;\n",
       "    }\n",
       "\n",
       "    .dataframe thead th {\n",
       "        text-align: right;\n",
       "    }\n",
       "</style>\n",
       "<table border=\"1\" class=\"dataframe\">\n",
       "  <thead>\n",
       "    <tr style=\"text-align: right;\">\n",
       "      <th></th>\n",
       "      <th>Item</th>\n",
       "      <th>Open</th>\n",
       "      <th>Close</th>\n",
       "    </tr>\n",
       "  </thead>\n",
       "  <tbody>\n",
       "    <tr>\n",
       "      <th>0</th>\n",
       "      <td>0</td>\n",
       "      <td>316.50</td>\n",
       "      <td>314.90</td>\n",
       "    </tr>\n",
       "    <tr>\n",
       "      <th>1</th>\n",
       "      <td>1</td>\n",
       "      <td>317.40</td>\n",
       "      <td>316.25</td>\n",
       "    </tr>\n",
       "    <tr>\n",
       "      <th>2</th>\n",
       "      <td>2</td>\n",
       "      <td>316.40</td>\n",
       "      <td>315.40</td>\n",
       "    </tr>\n",
       "    <tr>\n",
       "      <th>3</th>\n",
       "      <td>3</td>\n",
       "      <td>316.35</td>\n",
       "      <td>314.70</td>\n",
       "    </tr>\n",
       "    <tr>\n",
       "      <th>4</th>\n",
       "      <td>4</td>\n",
       "      <td>313.90</td>\n",
       "      <td>311.25</td>\n",
       "    </tr>\n",
       "  </tbody>\n",
       "</table>\n",
       "</div>"
      ],
      "text/plain": [
       "   Item    Open   Close\n",
       "0     0  316.50  314.90\n",
       "1     1  317.40  316.25\n",
       "2     2  316.40  315.40\n",
       "3     3  316.35  314.70\n",
       "4     4  313.90  311.25"
      ]
     },
     "metadata": {},
     "output_type": "display_data"
    },
    {
     "data": {
      "text/html": [
       "<div>\n",
       "<style scoped>\n",
       "    .dataframe tbody tr th:only-of-type {\n",
       "        vertical-align: middle;\n",
       "    }\n",
       "\n",
       "    .dataframe tbody tr th {\n",
       "        vertical-align: top;\n",
       "    }\n",
       "\n",
       "    .dataframe thead th {\n",
       "        text-align: right;\n",
       "    }\n",
       "</style>\n",
       "<table border=\"1\" class=\"dataframe\">\n",
       "  <thead>\n",
       "    <tr style=\"text-align: right;\">\n",
       "      <th></th>\n",
       "      <th>Item</th>\n",
       "      <th>Open</th>\n",
       "      <th>Close</th>\n",
       "    </tr>\n",
       "  </thead>\n",
       "  <tbody>\n",
       "    <tr>\n",
       "      <th>count</th>\n",
       "      <td>8365.000000</td>\n",
       "      <td>8365.000000</td>\n",
       "      <td>8365.000000</td>\n",
       "    </tr>\n",
       "    <tr>\n",
       "      <th>mean</th>\n",
       "      <td>4182.000000</td>\n",
       "      <td>664.761315</td>\n",
       "      <td>664.540281</td>\n",
       "    </tr>\n",
       "    <tr>\n",
       "      <th>std</th>\n",
       "      <td>2414.911834</td>\n",
       "      <td>440.147029</td>\n",
       "      <td>439.977364</td>\n",
       "    </tr>\n",
       "    <tr>\n",
       "      <th>min</th>\n",
       "      <td>0.000000</td>\n",
       "      <td>252.900000</td>\n",
       "      <td>252.800000</td>\n",
       "    </tr>\n",
       "    <tr>\n",
       "      <th>25%</th>\n",
       "      <td>2091.000000</td>\n",
       "      <td>349.000000</td>\n",
       "      <td>349.000000</td>\n",
       "    </tr>\n",
       "    <tr>\n",
       "      <th>50%</th>\n",
       "      <td>4182.000000</td>\n",
       "      <td>403.750000</td>\n",
       "      <td>403.950000</td>\n",
       "    </tr>\n",
       "    <tr>\n",
       "      <th>75%</th>\n",
       "      <td>6273.000000</td>\n",
       "      <td>1099.750000</td>\n",
       "      <td>1100.000000</td>\n",
       "    </tr>\n",
       "    <tr>\n",
       "      <th>max</th>\n",
       "      <td>8364.000000</td>\n",
       "      <td>1896.500000</td>\n",
       "      <td>1895.000000</td>\n",
       "    </tr>\n",
       "  </tbody>\n",
       "</table>\n",
       "</div>"
      ],
      "text/plain": [
       "              Item         Open        Close\n",
       "count  8365.000000  8365.000000  8365.000000\n",
       "mean   4182.000000   664.761315   664.540281\n",
       "std    2414.911834   440.147029   439.977364\n",
       "min       0.000000   252.900000   252.800000\n",
       "25%    2091.000000   349.000000   349.000000\n",
       "50%    4182.000000   403.750000   403.950000\n",
       "75%    6273.000000  1099.750000  1100.000000\n",
       "max    8364.000000  1896.500000  1895.000000"
      ]
     },
     "execution_count": 17,
     "metadata": {},
     "output_type": "execute_result"
    }
   ],
   "source": [
    "import preprocess_data as ppd\n",
    "commodity = ppd.remove_data(postData_gold)\n",
    "display(commodity.head())\n",
    "commodity.describe()"
   ]
  },
  {
   "cell_type": "markdown",
   "metadata": {},
   "source": [
    "**Step 2: ** Visualise raw data."
   ]
  },
  {
   "cell_type": "code",
   "execution_count": 18,
   "metadata": {
    "scrolled": true
   },
   "outputs": [
    {
     "data": {
      "image/png": "[encoded data removed]",
      "text/plain": [
       "<matplotlib.figure.Figure at 0x111f368d0>"
      ]
     },
     "metadata": {},
     "output_type": "display_data"
    }
   ],
   "source": [
    "import visualize\n",
    "\n",
    "visualize.plot_basic(commodity)\n"
   ]
  },
  {
   "cell_type": "markdown",
   "metadata": {},
   "source": [
    "**Step 3 :** Normalise the data using minmaxscaler function"
   ]
  },
  {
   "cell_type": "code",
   "execution_count": 19,
   "metadata": {
    "scrolled": true
   },
   "outputs": [
    {
     "data": {
      "text/html": [
       "<div>\n",
       "<style scoped>\n",
       "    .dataframe tbody tr th:only-of-type {\n",
       "        vertical-align: middle;\n",
       "    }\n",
       "\n",
       "    .dataframe tbody tr th {\n",
       "        vertical-align: top;\n",
       "    }\n",
       "\n",
       "    .dataframe thead th {\n",
       "        text-align: right;\n",
       "    }\n",
       "</style>\n",
       "<table border=\"1\" class=\"dataframe\">\n",
       "  <thead>\n",
       "    <tr style=\"text-align: right;\">\n",
       "      <th></th>\n",
       "      <th>Item</th>\n",
       "      <th>Open</th>\n",
       "      <th>Close</th>\n",
       "    </tr>\n",
       "  </thead>\n",
       "  <tbody>\n",
       "    <tr>\n",
       "      <th>0</th>\n",
       "      <td>0</td>\n",
       "      <td>0.038696</td>\n",
       "      <td>0.037815</td>\n",
       "    </tr>\n",
       "    <tr>\n",
       "      <th>1</th>\n",
       "      <td>1</td>\n",
       "      <td>0.039243</td>\n",
       "      <td>0.038637</td>\n",
       "    </tr>\n",
       "    <tr>\n",
       "      <th>2</th>\n",
       "      <td>2</td>\n",
       "      <td>0.038635</td>\n",
       "      <td>0.038120</td>\n",
       "    </tr>\n",
       "    <tr>\n",
       "      <th>3</th>\n",
       "      <td>3</td>\n",
       "      <td>0.038604</td>\n",
       "      <td>0.037693</td>\n",
       "    </tr>\n",
       "    <tr>\n",
       "      <th>4</th>\n",
       "      <td>4</td>\n",
       "      <td>0.037114</td>\n",
       "      <td>0.035592</td>\n",
       "    </tr>\n",
       "  </tbody>\n",
       "</table>\n",
       "</div>"
      ],
      "text/plain": [
       "   Item      Open     Close\n",
       "0     0  0.038696  0.037815\n",
       "1     1  0.039243  0.038637\n",
       "2     2  0.038635  0.038120\n",
       "3     3  0.038604  0.037693\n",
       "4     4  0.037114  0.035592"
      ]
     },
     "metadata": {},
     "output_type": "display_data"
    },
    {
     "name": "stdout",
     "output_type": "stream",
     "text": [
      "\n",
      "\n",
      "Open   --- mean : 0.25058488379349514   \t Std:  0.2677784861366361   \t Max:  1.0   \t Min:  0.0\n",
      "Close  --- mean : 0.2507248087519535   \t Std:  0.267903461552346   \t Max:  1.0   \t Min:  0.0\n"
     ]
    }
   ],
   "source": [
    "from sklearn.preprocessing import MinMaxScaler\n",
    "scaler = MinMaxScaler()\n",
    "numerical = ['Open','Close']\n",
    "commodity[numerical] = scaler.fit_transform(commodity[numerical])\n",
    "display(commodity.head())\n",
    "\n",
    "print(\"\\n\")\n",
    "print(\"Open   --- mean :\", np.mean(commodity['Open']), \"  \\t Std: \", np.std(commodity['Open']), \"  \\t Max: \", np.max(commodity['Open']), \"  \\t Min: \", np.min(commodity['Open']))\n",
    "print(\"Close  --- mean :\", np.mean(commodity['Close']),\"  \\t Std: \", np.std(commodity['Close']),\"  \\t Max: \", np.max(commodity['Close']),\"  \\t Min: \", np.min(commodity['Close']))\n"
   ]
  },
  {
   "cell_type": "markdown",
   "metadata": {},
   "source": [
    "**Step 4 :** Visualize the data again"
   ]
  },
  {
   "cell_type": "code",
   "execution_count": 20,
   "metadata": {
    "scrolled": true
   },
   "outputs": [
    {
     "data": {
      "image/png": "[encoded data removed]",
      "text/plain": [
       "<matplotlib.figure.Figure at 0x1a190d7160>"
      ]
     },
     "metadata": {},
     "output_type": "display_data"
    }
   ],
   "source": [
    "visualize.plot_basic(commodity)"
   ]
  },
  {
   "cell_type": "markdown",
   "metadata": {
    "collapsed": true
   },
   "source": [
    "**Step 5:** Log the normalised data for future resuablilty"
   ]
  },
  {
   "cell_type": "code",
   "execution_count": 21,
   "metadata": {
    "scrolled": true
   },
   "outputs": [],
   "source": [
    "commodity.to_csv('gold_spot_preprocessed_normalized.csv',index= False)"
   ]
  },
  {
   "cell_type": "markdown",
   "metadata": {},
   "source": [
    "# Check Point #2\n",
    "\n",
    "This is my second checkpoint. The preprocessed data has been saved to disk."
   ]
  },
  {
   "cell_type": "markdown",
   "metadata": {},
   "source": [
    "## Bench Mark Model\n",
    "\n",
    "In this section we will check our bench mark model. As is proposed in my proposal my bench mark model is a simple linear regressor model. "
   ]
  },
  {
   "cell_type": "markdown",
   "metadata": {},
   "source": [
    "**Step 1:** Load the preprocessed data"
   ]
  },
  {
   "cell_type": "code",
   "execution_count": 22,
   "metadata": {
    "scrolled": true
   },
   "outputs": [
    {
     "data": {
      "text/html": [
       "<div>\n",
       "<style scoped>\n",
       "    .dataframe tbody tr th:only-of-type {\n",
       "        vertical-align: middle;\n",
       "    }\n",
       "\n",
       "    .dataframe tbody tr th {\n",
       "        vertical-align: top;\n",
       "    }\n",
       "\n",
       "    .dataframe thead th {\n",
       "        text-align: right;\n",
       "    }\n",
       "</style>\n",
       "<table border=\"1\" class=\"dataframe\">\n",
       "  <thead>\n",
       "    <tr style=\"text-align: right;\">\n",
       "      <th></th>\n",
       "      <th>Item</th>\n",
       "      <th>Open</th>\n",
       "      <th>Close</th>\n",
       "    </tr>\n",
       "  </thead>\n",
       "  <tbody>\n",
       "    <tr>\n",
       "      <th>0</th>\n",
       "      <td>0</td>\n",
       "      <td>0.038696</td>\n",
       "      <td>0.037815</td>\n",
       "    </tr>\n",
       "    <tr>\n",
       "      <th>1</th>\n",
       "      <td>1</td>\n",
       "      <td>0.039243</td>\n",
       "      <td>0.038637</td>\n",
       "    </tr>\n",
       "    <tr>\n",
       "      <th>2</th>\n",
       "      <td>2</td>\n",
       "      <td>0.038635</td>\n",
       "      <td>0.038120</td>\n",
       "    </tr>\n",
       "    <tr>\n",
       "      <th>3</th>\n",
       "      <td>3</td>\n",
       "      <td>0.038604</td>\n",
       "      <td>0.037693</td>\n",
       "    </tr>\n",
       "    <tr>\n",
       "      <th>4</th>\n",
       "      <td>4</td>\n",
       "      <td>0.037114</td>\n",
       "      <td>0.035592</td>\n",
       "    </tr>\n",
       "  </tbody>\n",
       "</table>\n",
       "</div>"
      ],
      "text/plain": [
       "   Item      Open     Close\n",
       "0     0  0.038696  0.037815\n",
       "1     1  0.039243  0.038637\n",
       "2     2  0.038635  0.038120\n",
       "3     3  0.038604  0.037693\n",
       "4     4  0.037114  0.035592"
      ]
     },
     "metadata": {},
     "output_type": "display_data"
    }
   ],
   "source": [
    "from IPython.display import display\n",
    "from sklearn import linear_model\n",
    "from sklearn.model_selection import train_test_split\n",
    "from sklearn.metrics import mean_squared_error\n",
    "from sklearn.model_selection import TimeSeriesSplit\n",
    "\n",
    "import visualize as vs\n",
    "import commodity_data as cd\n",
    "import LinearRegressionModel\n",
    "\n",
    "display(commodity.head())"
   ]
  },
  {
   "cell_type": "markdown",
   "metadata": {},
   "source": [
    "**Step 2:** Split data into train and test pair"
   ]
  },
  {
   "cell_type": "code",
   "execution_count": 23,
   "metadata": {
    "scrolled": true
   },
   "outputs": [
    {
     "name": "stdout",
     "output_type": "stream",
     "text": [
      "x_train (5731, 1)\n",
      "y_train (5731, 1)\n",
      "x_test (2634, 1)\n",
      "y_test (2634, 1)\n"
     ]
    }
   ],
   "source": [
    "X_train, X_test, y_train, y_test, label_range= cd.train_test_split_linear_regression(commodity)\n",
    "\n",
    "print(\"x_train\", X_train.shape)\n",
    "print(\"y_train\", y_train.shape)\n",
    "print(\"x_test\", X_test.shape)\n",
    "print(\"y_test\", y_test.shape)"
   ]
  },
  {
   "cell_type": "markdown",
   "metadata": {},
   "source": [
    "**Step 3:** Train a Linear regressor model on training set and get prediction"
   ]
  },
  {
   "cell_type": "code",
   "execution_count": 24,
   "metadata": {
    "scrolled": true
   },
   "outputs": [],
   "source": [
    "model = LinearRegressionModel.build_model(X_train,y_train)"
   ]
  },
  {
   "cell_type": "markdown",
   "metadata": {},
   "source": [
    "**Step 4:** Get prediction on test set"
   ]
  },
  {
   "cell_type": "code",
   "execution_count": 25,
   "metadata": {
    "scrolled": true
   },
   "outputs": [],
   "source": [
    "predictions = LinearRegressionModel.predict_prices(model,X_test, label_range)"
   ]
  },
  {
   "cell_type": "markdown",
   "metadata": {},
   "source": [
    "**Step 5:** Plot the predicted values against actual"
   ]
  },
  {
   "cell_type": "code",
   "execution_count": 26,
   "metadata": {
    "scrolled": true
   },
   "outputs": [
    {
     "data": {
      "image/png": "[encoded data removed]",
      "text/plain": [
       "<matplotlib.figure.Figure at 0x1a22318710>"
      ]
     },
     "metadata": {},
     "output_type": "display_data"
    }
   ],
   "source": [
    "vs.plot_prediction(y_test,predictions)"
   ]
  },
  {
   "cell_type": "markdown",
   "metadata": {},
   "source": [
    "**Step 6:** measure accuracy of the prediction"
   ]
  },
  {
   "cell_type": "code",
   "execution_count": 27,
   "metadata": {
    "scrolled": true
   },
   "outputs": [
    {
     "name": "stdout",
     "output_type": "stream",
     "text": [
      "Train Score: 0.4152 MSE (0.6443 RMSE)\n",
      "Test Score: 0.09697600 MSE (0.31140969 RMSE)\n"
     ]
    }
   ],
   "source": [
    "trainScore = mean_squared_error(X_train, y_train)\n",
    "print('Train Score: %.4f MSE (%.4f RMSE)' % (trainScore, math.sqrt(trainScore)))\n",
    "\n",
    "testScore = mean_squared_error(predictions, y_test)\n",
    "print('Test Score: %.8f MSE (%.8f RMSE)' % (testScore, math.sqrt(testScore)))"
   ]
  },
  {
   "cell_type": "markdown",
   "metadata": {},
   "source": [
    "# Checkpoint #3\n",
    "\n",
    "\n",
    "## Long-Sort Term Memory Model\n",
    "\n",
    "In this section we will use LSTM to train and test on our data set."
   ]
  },
  {
   "cell_type": "markdown",
   "metadata": {},
   "source": [
    "### Basic LSTM Model\n",
    "\n",
    "First lets make a basic LSTM model."
   ]
  },
  {
   "cell_type": "markdown",
   "metadata": {},
   "source": [
    "**Step 1 :** Import keras libraries for smooth implementation of LSTM"
   ]
  },
  {
   "cell_type": "code",
   "execution_count": 28,
   "metadata": {
    "scrolled": true
   },
   "outputs": [
    {
     "name": "stderr",
     "output_type": "stream",
     "text": [
      "Using TensorFlow backend.\n"
     ]
    },
    {
     "data": {
      "text/html": [
       "<div>\n",
       "<style scoped>\n",
       "    .dataframe tbody tr th:only-of-type {\n",
       "        vertical-align: middle;\n",
       "    }\n",
       "\n",
       "    .dataframe tbody tr th {\n",
       "        vertical-align: top;\n",
       "    }\n",
       "\n",
       "    .dataframe thead th {\n",
       "        text-align: right;\n",
       "    }\n",
       "</style>\n",
       "<table border=\"1\" class=\"dataframe\">\n",
       "  <thead>\n",
       "    <tr style=\"text-align: right;\">\n",
       "      <th></th>\n",
       "      <th>Open</th>\n",
       "      <th>Close</th>\n",
       "    </tr>\n",
       "  </thead>\n",
       "  <tbody>\n",
       "    <tr>\n",
       "      <th>0</th>\n",
       "      <td>0.038696</td>\n",
       "      <td>0.037815</td>\n",
       "    </tr>\n",
       "    <tr>\n",
       "      <th>1</th>\n",
       "      <td>0.039243</td>\n",
       "      <td>0.038637</td>\n",
       "    </tr>\n",
       "    <tr>\n",
       "      <th>2</th>\n",
       "      <td>0.038635</td>\n",
       "      <td>0.038120</td>\n",
       "    </tr>\n",
       "    <tr>\n",
       "      <th>3</th>\n",
       "      <td>0.038604</td>\n",
       "      <td>0.037693</td>\n",
       "    </tr>\n",
       "    <tr>\n",
       "      <th>4</th>\n",
       "      <td>0.037114</td>\n",
       "      <td>0.035592</td>\n",
       "    </tr>\n",
       "  </tbody>\n",
       "</table>\n",
       "</div>"
      ],
      "text/plain": [
       "       Open     Close\n",
       "0  0.038696  0.037815\n",
       "1  0.039243  0.038637\n",
       "2  0.038635  0.038120\n",
       "3  0.038604  0.037693\n",
       "4  0.037114  0.035592"
      ]
     },
     "metadata": {},
     "output_type": "display_data"
    }
   ],
   "source": [
    "import math\n",
    "import pandas as pd\n",
    "import numpy as np\n",
    "from IPython.display import display\n",
    "\n",
    "from keras.layers.core import Dense, Activation, Dropout\n",
    "from keras.layers.recurrent import LSTM\n",
    "from keras.models import Sequential\n",
    "from keras.metrics import mean_squared_error\n",
    "from sklearn.model_selection import StratifiedKFold\n",
    "\n",
    "import lstm, time #helper libraries\n",
    "\n",
    "import visualize as vs\n",
    "import commodity_data as cd\n",
    "import LinearRegressionModel\n",
    "\n",
    "commodity = pd.read_csv('gold_spot_preprocessed_normalized.csv')\n",
    "\n",
    "commodity_ltsm = commodity.drop(['Item'], axis =1)\n",
    "\n",
    "display(commodity_ltsm.head())"
   ]
  },
  {
   "cell_type": "markdown",
   "metadata": {},
   "source": [
    "**Step 2 :** Split train and test data sets and Unroll train and test data for LSTM model"
   ]
  },
  {
   "cell_type": "code",
   "execution_count": 29,
   "metadata": {
    "scrolled": true
   },
   "outputs": [
    {
     "name": "stdout",
     "output_type": "stream",
     "text": [
      "x_train (6609, 50, 2)\n",
      "y_train (6609,)\n",
      "x_test (1646, 50, 2)\n",
      "y_test (1646,)\n"
     ]
    }
   ],
   "source": [
    "X_train, X_test,y_train, y_test = cd.train_test_split_lstm(commodity_ltsm, 5)\n",
    "\n",
    "unroll_length = 50\n",
    "X_train = cd.unroll(X_train, unroll_length)\n",
    "X_test = cd.unroll(X_test, unroll_length)\n",
    "y_train = y_train[-X_train.shape[0]:]\n",
    "y_test = y_test[-X_test.shape[0]:]\n",
    "\n",
    "print(\"x_train\", X_train.shape)\n",
    "print(\"y_train\", y_train.shape)\n",
    "print(\"x_test\", X_test.shape)\n",
    "print(\"y_test\", y_test.shape)"
   ]
  },
  {
   "cell_type": "markdown",
   "metadata": {},
   "source": [
    "**Step 3 :** Build a basic Long-Short Term Memory model"
   ]
  },
  {
   "cell_type": "code",
   "execution_count": 42,
   "metadata": {
    "scrolled": true
   },
   "outputs": [
    {
     "name": "stdout",
     "output_type": "stream",
     "text": [
      "compilation time :  0.014900922775268555\n"
     ]
    }
   ],
   "source": [
    "# Set up hyperparameters\n",
    "batch_size = 100\n",
    "epochs = 1\n",
    "\n",
    "# build basic lstm model\n",
    "model = lstm.build_basic_model(input_dim = X_train.shape[-1],output_dim = unroll_length, return_sequences=True)\n",
    "\n",
    "# Compile the model\n",
    "start = time.time()\n",
    "model.compile(loss='mean_squared_error', optimizer='adam')\n",
    "print('compilation time : ', time.time() - start)"
   ]
  },
  {
   "cell_type": "markdown",
   "metadata": {},
   "source": [
    "**Step 4:** Train the model"
   ]
  },
  {
   "cell_type": "code",
   "execution_count": 43,
   "metadata": {
    "scrolled": true
   },
   "outputs": [
    {
     "name": "stdout",
     "output_type": "stream",
     "text": [
      "Train on 6278 samples, validate on 331 samples\n",
      "Epoch 1/1\n",
      "6278/6278 [==============================] - 19s 3ms/step - loss: 0.0016 - val_loss: 9.4386e-04\n"
     ]
    },
    {
     "data": {
      "text/plain": [
       "<keras.callbacks.History at 0x1a2b0dd828>"
      ]
     },
     "execution_count": 43,
     "metadata": {},
     "output_type": "execute_result"
    }
   ],
   "source": [
    "model.fit(\n",
    "    X_train,\n",
    "    y_train,\n",
    "    batch_size=batch_size,\n",
    "    epochs=epochs,\n",
    "    validation_split=0.05)"
   ]
  },
  {
   "cell_type": "markdown",
   "metadata": {},
   "source": [
    "**Step 5:** Make prediction using test data"
   ]
  },
  {
   "cell_type": "code",
   "execution_count": 44,
   "metadata": {
    "scrolled": true
   },
   "outputs": [],
   "source": [
    "predictions = model.predict(X_test)"
   ]
  },
  {
   "cell_type": "markdown",
   "metadata": {},
   "source": [
    "**Step 6:** Plot the results"
   ]
  },
  {
   "cell_type": "code",
   "execution_count": 45,
   "metadata": {
    "scrolled": true
   },
   "outputs": [
    {
     "data": {
      "image/png": "[encoded data removed]",
      "text/plain": [
       "<matplotlib.figure.Figure at 0x1a2b0ddc88>"
      ]
     },
     "metadata": {},
     "output_type": "display_data"
    }
   ],
   "source": [
    "vs.plot_lstm_prediction(y_test,predictions)"
   ]
  },
  {
   "cell_type": "markdown",
   "metadata": {},
   "source": [
    "** Step 7:** Get the test score."
   ]
  },
  {
   "cell_type": "code",
   "execution_count": 46,
   "metadata": {
    "scrolled": true
   },
   "outputs": [
    {
     "name": "stdout",
     "output_type": "stream",
     "text": [
      "Train Score: 0.00017208 MSE (0.01311779 RMSE)\n",
      "Test Score: 0.00066245 MSE (0.02573813 RMSE)\n"
     ]
    }
   ],
   "source": [
    "trainScore = model.evaluate(X_train, y_train, verbose=0)\n",
    "print('Train Score: %.8f MSE (%.8f RMSE)' % (trainScore, math.sqrt(trainScore)))\n",
    "\n",
    "testScore = model.evaluate(X_test, y_test, verbose=0)\n",
    "print('Test Score: %.8f MSE (%.8f RMSE)' % (testScore, math.sqrt(testScore)))"
   ]
  },
  {
   "cell_type": "markdown",
   "metadata": {},
   "source": [
    "### Improved LSTM Model\n",
    "\n",
    "**Step 1: ** Build an improved LSTM model"
   ]
  },
  {
   "cell_type": "code",
   "execution_count": 35,
   "metadata": {
    "scrolled": true
   },
   "outputs": [
    {
     "name": "stdout",
     "output_type": "stream",
     "text": [
      "compilation time :  0.017594099044799805\n"
     ]
    }
   ],
   "source": [
    "# Set up hyperparameters\n",
    "batch_size = 512\n",
    "epochs = 20\n",
    "\n",
    "# build improved lstm model\n",
    "model = lstm.build_improved_model( X_train.shape[-1],output_dim = unroll_length, return_sequences=True)\n",
    "\n",
    "start = time.time()\n",
    "#final_model.compile(loss='mean_squared_error', optimizer='adam')\n",
    "model.compile(loss='mean_squared_error', optimizer='adam')\n",
    "print('compilation time : ', time.time() - start)"
   ]
  },
  {
   "cell_type": "markdown",
   "metadata": {},
   "source": [
    "**Step 2: ** Train improved LSTM model"
   ]
  },
  {
   "cell_type": "code",
   "execution_count": 36,
   "metadata": {
    "scrolled": true
   },
   "outputs": [
    {
     "name": "stdout",
     "output_type": "stream",
     "text": [
      "Train on 6278 samples, validate on 331 samples\n",
      "Epoch 1/20\n",
      " - 13s - loss: 0.0054 - val_loss: 0.0241\n",
      "Epoch 2/20\n",
      " - 13s - loss: 7.2900e-04 - val_loss: 0.0038\n",
      "Epoch 3/20\n",
      " - 12s - loss: 4.0847e-04 - val_loss: 0.0011\n",
      "Epoch 4/20\n",
      " - 11s - loss: 2.9010e-04 - val_loss: 9.8058e-04\n",
      "Epoch 5/20\n",
      " - 12s - loss: 2.8004e-04 - val_loss: 0.0013\n",
      "Epoch 6/20\n",
      " - 12s - loss: 2.7937e-04 - val_loss: 0.0014\n",
      "Epoch 7/20\n",
      " - 10s - loss: 2.4825e-04 - val_loss: 0.0011\n",
      "Epoch 8/20\n",
      " - 12s - loss: 2.6173e-04 - val_loss: 0.0019\n",
      "Epoch 9/20\n",
      " - 12s - loss: 2.4718e-04 - val_loss: 0.0014\n",
      "Epoch 10/20\n",
      " - 11s - loss: 2.4343e-04 - val_loss: 0.0011\n",
      "Epoch 11/20\n",
      " - 10s - loss: 2.3119e-04 - val_loss: 0.0010\n",
      "Epoch 12/20\n",
      " - 10s - loss: 2.3844e-04 - val_loss: 0.0016\n",
      "Epoch 13/20\n",
      " - 12s - loss: 2.4268e-04 - val_loss: 0.0013\n",
      "Epoch 14/20\n",
      " - 14s - loss: 2.3217e-04 - val_loss: 0.0013\n",
      "Epoch 15/20\n",
      " - 12s - loss: 2.4888e-04 - val_loss: 0.0013\n",
      "Epoch 16/20\n",
      " - 13s - loss: 2.2467e-04 - val_loss: 0.0010\n",
      "Epoch 17/20\n",
      " - 12s - loss: 2.2251e-04 - val_loss: 0.0019\n",
      "Epoch 18/20\n",
      " - 9s - loss: 2.2776e-04 - val_loss: 0.0012\n",
      "Epoch 19/20\n",
      " - 10s - loss: 2.3105e-04 - val_loss: 0.0013\n",
      "Epoch 20/20\n",
      " - 9s - loss: 2.0634e-04 - val_loss: 0.0011\n"
     ]
    },
    {
     "data": {
      "text/plain": [
       "<keras.callbacks.History at 0x1a221f0550>"
      ]
     },
     "execution_count": 36,
     "metadata": {},
     "output_type": "execute_result"
    }
   ],
   "source": [
    "model.fit(X_train, \n",
    "          y_train, \n",
    "          batch_size=batch_size,\n",
    "          epochs=epochs,\n",
    "          verbose=2,\n",
    "          validation_split=0.05\n",
    "         )"
   ]
  },
  {
   "cell_type": "markdown",
   "metadata": {},
   "source": [
    "**Step 3:** Make prediction on improved LSTM model"
   ]
  },
  {
   "cell_type": "code",
   "execution_count": 37,
   "metadata": {
    "scrolled": true
   },
   "outputs": [],
   "source": [
    "# Generate predictions \n",
    "predictions = model.predict(X_test, batch_size=batch_size)"
   ]
  },
  {
   "cell_type": "markdown",
   "metadata": {},
   "source": [
    "**Step 4:** plot the results"
   ]
  },
  {
   "cell_type": "code",
   "execution_count": 38,
   "metadata": {
    "scrolled": true
   },
   "outputs": [
    {
     "data": {
      "image/png": "[encoded data removed]",
      "text/plain": [
       "<matplotlib.figure.Figure at 0x11676b0f0>"
      ]
     },
     "metadata": {},
     "output_type": "display_data"
    }
   ],
   "source": [
    "vs.plot_lstm_prediction(y_test,predictions)"
   ]
  },
  {
   "cell_type": "markdown",
   "metadata": {},
   "source": [
    "**Step 5:** Get the test score"
   ]
  },
  {
   "cell_type": "code",
   "execution_count": 39,
   "metadata": {
    "scrolled": true
   },
   "outputs": [
    {
     "name": "stdout",
     "output_type": "stream",
     "text": [
      "Train Score: 0.00016953 MSE (0.01302042 RMSE)\n",
      "Test Score: 0.00061908 MSE (0.02488127 RMSE)\n"
     ]
    }
   ],
   "source": [
    "trainScore = model.evaluate(X_train, y_train, verbose=0)\n",
    "print('Train Score: %.8f MSE (%.8f RMSE)' % (trainScore, math.sqrt(trainScore)))\n",
    "\n",
    "testScore = model.evaluate(X_test, y_test, verbose=0)\n",
    "print('Test Score: %.8f MSE (%.8f RMSE)' % (testScore, math.sqrt(testScore)))"
   ]
  },
  {
   "cell_type": "code",
   "execution_count": 40,
   "metadata": {
    "scrolled": true
   },
   "outputs": [
    {
     "name": "stdout",
     "output_type": "stream",
     "text": [
      "Delta Close Price: 0.000619 - RMSE * Adjusted Close Range\n"
     ]
    }
   ],
   "source": [
    "range = [np.amin(commodity_ltsm['Close']), np.amax(commodity_ltsm['Close'])]\n",
    "\n",
    "#Calculate the gold spot price delta in $\n",
    "\n",
    "true_delta = testScore*(range[1]-range[0])\n",
    "print('Delta Close Price: %.6f - RMSE * Adjusted Close Range' % true_delta)    "
   ]
  },
  {
   "cell_type": "markdown",
   "metadata": {},
   "source": [
    "# Checking Robustness of the model\n",
    "\n",
    "In this section we will check robustness of our LSTM model. I have used new unseen datasets for this from July 1, 2017 to July 20,2017. I have downloaded the data sets from google finance website to check for robustness of the model."
   ]
  },
  {
   "cell_type": "code",
   "execution_count": 47,
   "metadata": {
    "scrolled": true
   },
   "outputs": [
    {
     "name": "stdout",
     "output_type": "stream",
     "text": [
      "       Open     Close\n",
      "0  1.000000  1.000000\n",
      "1  0.568259  0.688889\n",
      "2  0.556314  0.477778\n",
      "3  0.341297  0.364815\n",
      "4  0.343003  0.324074\n",
      "(14, 1, 2)\n",
      "(14,)\n",
      "Test Score: 0.1741 MSE (0.4172 RMSE)\n"
     ]
    }
   ],
   "source": [
    "import preprocess_data as ppd\n",
    "\n",
    "data = pd.read_csv('gold-spot-price-new-dataset.csv')\n",
    "\n",
    "commodity = ppd.remove_data(data)\n",
    "\n",
    "commodity_normalized = ppd.get_normalised_data(commodity)\n",
    "\n",
    "commodity_normalized = commodity_normalized.drop(['Item'], axis = 1)\n",
    "#Print the dataframe head and tail\n",
    "print(commodity_normalized.head())\n",
    "\n",
    "X = commodity_normalized[:].as_matrix()\n",
    "Y = commodity_normalized[:]['Close'].as_matrix()\n",
    "\n",
    "X = cd.unroll(X,1)\n",
    "Y = Y[-X.shape[0]:]\n",
    "\n",
    "print(X.shape)\n",
    "print(Y.shape)\n",
    "\n",
    "# Generate predictions \n",
    "predictions = model.predict(X)\n",
    "\n",
    "#get the test score\n",
    "testScore = model.evaluate(X, Y, verbose=0)\n",
    "print('Test Score: %.4f MSE (%.4f RMSE)' % (testScore, math.sqrt(testScore)))"
   ]
  },
  {
   "cell_type": "code",
   "execution_count": null,
   "metadata": {
    "collapsed": true,
    "scrolled": true
   },
   "outputs": [],
   "source": []
  }
 ],
 "metadata": {
  "kernelspec": {
   "display_name": "Python 3",
   "language": "python",
   "name": "python3"
  },
  "language_info": {
   "codemirror_mode": {
    "name": "ipython",
    "version": 3
   },
   "file_extension": ".py",
   "mimetype": "text/x-python",
   "name": "python",
   "nbconvert_exporter": "python",
   "pygments_lexer": "ipython3",
   "version": "3.6.4"
  }
 },
 "nbformat": 4,
 "nbformat_minor": 2
}
